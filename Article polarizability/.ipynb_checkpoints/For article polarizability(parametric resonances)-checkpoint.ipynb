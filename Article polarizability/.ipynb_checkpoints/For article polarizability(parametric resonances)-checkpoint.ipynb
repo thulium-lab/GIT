{
 "cells": [
  {
   "cell_type": "code",
   "execution_count": 1,
   "metadata": {
    "collapsed": false
   },
   "outputs": [
    {
     "name": "stdout",
     "output_type": "stream",
     "text": [
      "Populating the interactive namespace from numpy and matplotlib\n",
      "Done importing, module image_processing now\n"
     ]
    }
   ],
   "source": [
    "%pylab inline\n",
    "import sys\n",
    "import os\n",
    "par_dir = os.path.split(os.getcwd())[0]\n",
    "if par_dir not in sys.path:\n",
    "    sys.path.append(par_dir)\n",
    "sys.path.append(r'/Users/artemgolovizin/GitHub')\n",
    "from scipy.optimize import curve_fit\n",
    "import inspect\n",
    "import pickle\n",
    "import imp\n",
    "import re\n",
    "import json\n",
    "\n",
    "\n",
    "import thulium_python_lib.image_processing_new as impr"
   ]
  },
  {
   "cell_type": "markdown",
   "metadata": {
    "collapsed": true
   },
   "source": [
    "## Trap potential\n",
    "Potential for dipole trap is expressed by\n",
    "\\begin{equation}\n",
    "\\Delta E(r,z) = V_{max}exp^{-2r^2/w(z)^2}\n",
    "\\end{equation}\n",
    "and for lattice by \n",
    "\\begin{equation}\n",
    "\\Delta E(r,z)_{lattice} = 4V_{max}exp^{-2r^2/w(z)^2}cos(2\\pi z/\\lambda)\n",
    "\\end{equation}\n",
    "\n",
    "It can be approximated with harmonic potential\n",
    "\\begin{equation}\n",
    "\\Delta E(r,z) = (\\frac{m}{2})\\omega_r^2/2 + (\\frac{m}{2})\\omega_z^2/2\n",
    "\\end{equation}\n",
    "\n",
    "In the case of dipole trap \n",
    "\\begin{equation}\n",
    "\\omega_r = \\sqrt{\\frac{4\\alpha_s P}{c \\epsilon_0 m \\pi}}1/w_0^2\n",
    "\\end{equation}\n",
    "\n",
    "From this $\\alpha_s$ can be found. Waist diamiter is $50\\mu m$.\n",
    "For data based on measurements of parametric resonances from 2015_06_22 in dipole trap one can calculate $\\alpha_s$ to be\n",
    "\n",
    "- 230 a.u. for 2W of dipole trap power and resonance at 230Hz\n",
    "- 320 a.u. for 4W of dipole trap power and resonance at 380Hz\n",
    "\n",
    "This is some coinside with values obtained for optical lattice. "
   ]
  },
  {
   "cell_type": "markdown",
   "metadata": {},
   "source": [
    "## For article\n",
    "Dynamic polarizability at particular optical frequency can be found by detecting parametrically exited atomic vibrations in dipole trap. \n",
    "These vibrational frequencies can be calculated using following equations:\n",
    "\\begin{equation}\n",
    "\\omega_{lat\\_z} = \\sqrt{\\frac{32 \\pi \\alpha_s P}{c \\epsilon_0 m }}/{w_0 \\lambda}\n",
    "\\end{equation}\n",
    "\n",
    "\\begin{equation}\n",
    "\\omega_{lat\\_r} = \\sqrt{\\frac{16\\alpha_s P}{c \\epsilon_0 m \\pi}}/w_0^2\n",
    "\\end{equation}\n",
    "\n",
    "\\begin{equation}\n",
    "\\omega_{dipole\\_r} = \\sqrt{\\frac{4\\alpha_s P}{c \\epsilon_0 m \\pi}}/w_0^2\n",
    "\\end{equation}\n",
    "\n",
    ",where $\\alpha_s$ - scalar polarizability, P - optical power, m - thulium atomic mass, $\\epsilon_0$ - vacuum permitivity, w0 - waist radius and $\\lambda$ - trap wavelength. \"lat\" stands for standing wave dipole trap, and \"dipole\" stands for travelling wave trap. \n",
    "This frequencies can be found by obsirving reduce of number of atoms in the trap while harmonically modulating trap depth. \n",
    "In our case, 3-6 W of 532nm Coherent Verdi light passed through acousto optic modulater was used to create optical trap. \n",
    "Trap depth modulation was realized by modulating AM input of AOM driver.\n",
    "Recorded lines are shown on fig2\n",
    "\n",
    "\n",
    "<img  src=\"RJ4K7VXUEIBRET476N8E65KMULRK1CHC.png\"/>\n",
    "\n",
    "We could detect parametric resonances for exitation of radial vibrational frequencies in order of few 100 Hz for both standing and travelling wave dipole traps and of vibrations along biam direction in order of few 100 kHz for optical lattice. \n",
    "From these measuremens we could estimate scalar polarisability of thulium at 532 nm to be 250 a.u.\n"
   ]
  },
  {
   "cell_type": "code",
   "execution_count": 2,
   "metadata": {
    "collapsed": false
   },
   "outputs": [
    {
     "data": {
      "text/plain": [
       "dict_keys(['22 pr power=3W depth=0.6', '24 pr power=6W depth=0.4', '13 pr power=6W depth=0.025', '17 power=6W depth=0.25', '23 pr power=6W depth=0.6', '14 pr power=3W depth=0.025', '21 pr power=3W depth=0.5 dipole'])"
      ]
     },
     "execution_count": 2,
     "metadata": {},
     "output_type": "execute_result"
    }
   ],
   "source": [
    "with open('all_data.txt', 'rb') as handle:\n",
    "    data = pickle.loads(handle.read())\n",
    "data.keys()"
   ]
  },
  {
   "cell_type": "code",
   "execution_count": 4,
   "metadata": {
    "collapsed": false
   },
   "outputs": [
    {
     "data": {
      "image/png": "[encoded data removed]",
      "text/plain": [
       "<matplotlib.figure.Figure at 0x1073cfda0>"
      ]
     },
     "metadata": {},
     "output_type": "display_data"
    }
   ],
   "source": [
    "shot_typeN=1\n",
    "d1 = impr.get_avr_data(data['17 power=6W depth=0.25']['data'], shot_typeN,  'fit1D_y',0)\n",
    "d1['x'] *= 1e3\n",
    "#d1['y'] /= max(d1['y'])\n",
    "d1['fmt']='ro-'\n",
    "d1['yerr']= None\n",
    "d1['label'] = 'opt. lattice, radial'\n",
    "d2 = impr.get_avr_data(data['22 pr power=3W depth=0.6']['data'], shot_typeN,  'fit1D_y',0)\n",
    "d2['x'] *= 1e3\n",
    "#d2['y'] /= max(d2['y'])\n",
    "d2['fmt']='b*-'\n",
    "d2['yerr']= None\n",
    "d2['label'] = 'dipole trap, radial'\n",
    "d3 = impr.get_avr_data(data['13 pr power=6W depth=0.025']['data'], shot_typeN,  'fit1D_y',0)\n",
    "d3['x'] *= 1e3\n",
    "#d3['y'] /= max(d3['y'])\n",
    "d3['fmt']='g^--'\n",
    "d3['label'] = 'optical lattice, along beam'\n",
    "d3['yerr']= None\n",
    "\n",
    "fig, ax = subplots(1, 2, sharey=True)\n",
    "\n",
    "ax[0].errorbar(**d2,markersize=5)\n",
    "ax[0].plot([],[],'g^-',label= 'opt. lattice, along beam',markersize=5)\n",
    "ax[0].errorbar(**d1,markersize=3)\n",
    "ax[0].set_xscale('log')\n",
    "ax[0].set_xlim(40,2e3)\n",
    "ax[1].errorbar(**d3,markersize=5)\n",
    "ax[1].set_xscale('log')\n",
    "ax[1].set_xlim(4e4,1e6)\n",
    "# hide the spines between ax and ax2\n",
    "ax[0].spines['right'].set_visible(False)\n",
    "ax[1].spines['left'].set_visible(False)\n",
    "ax[0].yaxis.tick_left()\n",
    "#ax[1].tick_params(labelright='off')  # don't put tick labels at the top\n",
    "ax[1].yaxis.set_ticks_position('none')\n",
    "\n",
    "d = .01  # how big to make the diagonal lines in axes coordinates\n",
    "# arguments to pass plot, just so we don't keep repeating them\n",
    "kwargs = dict(transform=ax[0].transAxes, color='k', clip_on=False)\n",
    "ax[0].plot((1-d, 1+d), (1-d, 1+d), **kwargs)        # top-left diagonal\n",
    "ax[0].plot((1 - d, 1 + d), (-d, +d), **kwargs)  # top-right diagonal\\kwargs = dict(transform=ax[0].transAxes, color='k', clip_on=False)\n",
    "kwargs = dict(transform=ax[1].transAxes, color='k', clip_on=False)\n",
    "ax[0].plot((-d, +d), (-d, +d), **kwargs)        # top-left diagonal\n",
    "ax[0].plot((-d, +d), (1-d, 1+d), **kwargs)  # top-right diagonal\n",
    "\n",
    "from matplotlib import ticker\n",
    "formatter = ticker.ScalarFormatter(useMathText=True)\n",
    "formatter.set_scientific(True) \n",
    "formatter.set_powerlimits((-1,1)) \n",
    "ax[0].yaxis.set_major_formatter(formatter) \n",
    "ax[0].set_ylabel('Number of atoms', fontsize=14)\n",
    "#ax[1].set_xlabel('Modulatoin frequency, Hz', fontsize=14)\n",
    "tight_layout()\n",
    "ax[0].legend(loc=2,frameon=False)\n",
    "#ax[1].legend(loc=2,frameon=False)\n",
    "ax[0].set_xlabel(' '*40 + 'Modulatoin frequency, Hz', fontsize=14)\n",
    "#savefig('parametric_resonances.pdf')"
   ]
  },
  {
   "cell_type": "code",
   "execution_count": 6,
   "metadata": {
    "code_folding": [
     0
    ],
    "collapsed": false
   },
   "outputs": [],
   "source": [
    "# functions for calculating polarizabilities\n",
    "def α_s_dipole(ν, P, w0):\n",
    "    return (c * ϵ0 * m * m_at * pi * (2 * pi * ν)**2 * w0**4) / (4 * P) / α0\n",
    "def α_s_r_lattice(ν, P, w0):\n",
    "    return (c * ϵ0 * m * m_at * pi * (2 * pi * ν)**2 * w0**4) / (16 * P) / α0\n",
    "def α_s_z_lattice(ν, P, w0):\n",
    "    return (c * ϵ0 * m * m_at * (2 * pi * ν)**2 * w0**2 * λ**2) / (32 * pi * P) / α0"
   ]
  },
  {
   "cell_type": "code",
   "execution_count": 7,
   "metadata": {
    "collapsed": false
   },
   "outputs": [],
   "source": [
    "# constants\n",
    "k_b = 1.3806488e-23\n",
    "h_bar = 1.054571726e-34\n",
    "m_at = 1.66053892e-27\n",
    "k = 2*pi/(0.5*1e-6)\n",
    "m = 169\n",
    "c = 3e8 # m\\s\n",
    "ϵ0 = 8.854187817e-12 #F/m\n",
    "α0 = 1.6487772731e-41 #C2 m2 J-1\n",
    "λ = 0.532e-6\n",
    "w0 = 50e-6 # m, waist"
   ]
  },
  {
   "cell_type": "code",
   "execution_count": 8,
   "metadata": {
    "collapsed": false
   },
   "outputs": [
    {
     "name": "stdout",
     "output_type": "stream",
     "text": [
      "231.73896762322886\n",
      "316.28645486573004\n",
      "87.61397641709975\n",
      "138.4986413931482\n"
     ]
    }
   ],
   "source": [
    "# results\n",
    "print(α_s_dipole(230,2,w0))\n",
    "print(α_s_dipole(380,4,w0))\n",
    "print(α_s_r_lattice(400,4,w0))\n",
    "print(α_s_z_lattice(210e3,4,w0))"
   ]
  },
  {
   "cell_type": "code",
   "execution_count": 16,
   "metadata": {
    "collapsed": false
   },
   "outputs": [
    {
     "data": {
      "text/plain": [
       "<matplotlib.text.Text at 0x107abe550>"
      ]
     },
     "execution_count": 16,
     "metadata": {},
     "output_type": "execute_result"
    },
    {
     "data": {
      "image/png": "[encoded data removed]",
      "text/plain": [
       "<matplotlib.figure.Figure at 0x1079a69e8>"
      ]
     },
     "metadata": {},
     "output_type": "display_data"
    }
   ],
   "source": [
    "shot_typeN=1\n",
    "d1 = impr.get_avr_data(data['23 pr power=6W depth=0.6']['data'], shot_typeN,  'fit1D_y',0)\n",
    "d1['x'] *= 1e3\n",
    "#d1['y'] /= max(d1['y'])\n",
    "d1['fmt']='ro-'\n",
    "d1['yerr']= None\n",
    "d1['label'] = '23 pr power=6W depth=0.6'\n",
    "d2 = impr.get_avr_data(data['22 pr power=3W depth=0.6']['data'], shot_typeN,  'fit1D_y',0)\n",
    "d2['x'] *= 1e3\n",
    "#d2['y'] /= max(d2['y'])\n",
    "d2['fmt']='b*-'\n",
    "d2['yerr']= None\n",
    "d2['label'] = '22 pr power=3W depth=0.6'\n",
    "errorbar(**d1)\n",
    "errorbar(**d2)\n",
    "legend(loc=2)\n",
    "title('Optical power dependence')\n",
    "#savefig('in dipole trap.png')"
   ]
  },
  {
   "cell_type": "markdown",
   "metadata": {},
   "source": [
    "### Repump from clock level\n",
    "Для перекачки будет использоваться лазер на 422.267 нм, промежутоный уровень имеет энергию 32446.3 см-1, J=7/2. \n",
    "\n",
    "Скорость перехода часовой -> промежуточный 15.7 МГц, промежуточный -> основной 17.5 МГц\n",
    "Перекачка будет осуществляться по следующим сверхтонким компонентам: часовой F=3 --> промежуточный F=4 --> основной F=4. Переход 3 -> 4 циклический; вероятность распасться с промежуточного на основной 4 -> 4 равна 35/36 = 97%, остальное на F = 3.\n"
   ]
  }
 ],
 "metadata": {
  "hide_input": false,
  "kernelspec": {
   "display_name": "Python 3",
   "language": "python",
   "name": "python3"
  },
  "language_info": {
   "codemirror_mode": {
    "name": "ipython",
    "version": 3
   },
   "file_extension": ".py",
   "mimetype": "text/x-python",
   "name": "python",
   "nbconvert_exporter": "python",
   "pygments_lexer": "ipython3",
   "version": "3.5.0"
  },
  "latex_envs": {
   "bibliofile": "biblio.bib",
   "cite_by": "apalike",
   "current_citInitial": 1,
   "eqLabelWithNumbers": true,
   "eqNumInitial": 0
  }
 },
 "nbformat": 4,
 "nbformat_minor": 0
}
