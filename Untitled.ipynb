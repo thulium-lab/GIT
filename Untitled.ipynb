{
 "cells": [
  {
   "cell_type": "code",
   "execution_count": 1,
   "metadata": {
    "collapsed": false
   },
   "outputs": [
    {
     "name": "stdout",
     "output_type": "stream",
     "text": [
      "Populating the interactive namespace from numpy and matplotlib\n"
     ]
    }
   ],
   "source": [
    "%pylab inline"
   ]
  },
  {
   "cell_type": "code",
   "execution_count": null,
   "metadata": {
    "collapsed": true
   },
   "outputs": [],
   "source": [
    "    if len(steps) == 1:\n",
    "        res = [steps[-1][0]+math.copysign(3,5-steps[-1][0]),steps[-1][1]]#+math.copysign(3,5-steps[-1][1])]\n",
    "    elif steps[-1][2] == 0:\n",
    "        res = [(steps[-1][0] + steps[-2][0])//2,(steps[-1][1] + steps[-2][1])//2]\n",
    "#        return res\n",
    "    if steps[-1][2] < 0:\n",
    "#        res = []\n",
    "#        for i in (0,1):\n",
    "#            res.append(steps[-1][i] - (steps[-1][i] - steps[-2][i] + (steps[-1][i] - steps[-2][i]+1)//2))\n",
    "        # chech for sicling\n",
    "        res = [add_to_coord(steps[-1][i],(steps[-1][i] - steps[-2][i]),-1) for i in (0,1)]\n",
    "#        return res\n",
    "    if steps[-1][2] > 0:\n",
    "#        res = []\n",
    "#        for i in (0,1):\n",
    " #           res.append(steps[-1][i] + (steps[-1][i] - steps[-2][i] + (steps[-1][i] - steps[-2][i]+1)//2))\n",
    "        if len(steps) > 2:\n",
    "            if steps[-2][2] > 0:\n",
    "                j,k = 2,3\n",
    "            else:\n",
    "                j,k = 3,4\n",
    "            res = [add_to_coord(steps[-1][i],(steps[-j][i] - steps[-k][i]),1) for i in (0,1)]    \n",
    "        else:\n",
    "            res = [add_to_coord(steps[-1][0],0,1),add_to_coord(steps[-1][1],6,1)]\n",
    "    print(res)\n",
    "    res = check_res(res,steps)\n",
    "    print(res)\n",
    "    print(steps)\n",
    "        return [int(res[0]),int(res[1])]"
   ]
  },
  {
   "cell_type": "code",
   "execution_count": null,
   "metadata": {
    "collapsed": true
   },
   "outputs": [],
   "source": [
    "def add_to_coord(old_coord, old_step,direct):\n",
    "    if old_step == 0:\n",
    "        return old_coord\n",
    "    if direct > 0:        \n",
    "        new = old_coord + (old_step+1)//2\n",
    "    else:\n",
    "        new = old_coord - (old_step + (old_step+1)//2)\n",
    "    if new < 0: new = 0\n",
    "    if new > N-1: new = N-1\n",
    "    return new\n",
    "\n",
    "def check_res(res,steps):\n",
    "    while res in [[x[0],x[1]] for x in steps]:\n",
    "            res[0] += random.choice((-1,0,1))\n",
    "            res[1] += random.choice((-1,0,1))\n",
    "    return res"
   ]
  },
  {
   "cell_type": "code",
   "execution_count": 2,
   "metadata": {
    "collapsed": true
   },
   "outputs": [],
   "source": [
    "a = [1]"
   ]
  },
  {
   "cell_type": "code",
   "execution_count": 3,
   "metadata": {
    "collapsed": false
   },
   "outputs": [
    {
     "data": {
      "text/plain": [
       "[]"
      ]
     },
     "execution_count": 3,
     "metadata": {},
     "output_type": "execute_result"
    }
   ],
   "source": [
    "a[1:]"
   ]
  },
  {
   "cell_type": "code",
   "execution_count": 4,
   "metadata": {
    "collapsed": true
   },
   "outputs": [],
   "source": [
    "a = 1.5"
   ]
  },
  {
   "cell_type": "code",
   "execution_count": null,
   "metadata": {
    "collapsed": true
   },
   "outputs": [],
   "source": [
    "import math, random\n",
    "N=10\n",
    "\n",
    "def checkio(steps):\n",
    "    print('steps',steps)\n",
    "    x = steps[-1][0]\n",
    "    y = steps[-1][1]\n",
    "    x_box = 0\n",
    "    y_box = 0\n",
    "    x_len = N\n",
    "    y_len = N\n",
    "    for i in range(1,len(steps)):\n",
    "        print(i,'\\t',x_box,y_box,x_len,y_len)\n",
    "        if  (steps[i][0] - steps[i-1][0] !=0 and steps[i][1] - steps[i-1][1]!=0):\n",
    "            print('Here')\n",
    "            continue\n",
    "        elif steps[i][-1] == 0: #target is in the middle line\n",
    "            if steps[i][0] == steps[i-1][0]:\n",
    "                y_box = (steps[i][1]+steps[i-1][1])/2\n",
    "                y_len = 1\n",
    "            else:\n",
    "                x_box = (steps[i][0]+steps[i-1][0])/2\n",
    "                x_len = 1\n",
    "            if i==len(steps)-1:# and (steps[i][0] == steps[i-1][0] ==0 or steps[i][1] == steps[i-1][1]==0)\n",
    "                print('3',(steps[i][0]+steps[i-1][0])/2,(steps[i][1]+steps[i-1][1])/2)\n",
    "                return int((steps[i][0]+steps[i-1][0])/2),int((steps[i][1]+steps[i-1][1])/2)\n",
    "        else:\n",
    "            if steps[i][0] == steps[i-1][0]:\n",
    "                y_box = y_box if steps[i][-1]*(steps[i][1]-steps[i-1][1])<0  else int(y_box +(y_len+1)//2)\n",
    "                y_len = int((y_len)//2)\n",
    "            else:\n",
    "                x_box = x_box if steps[i][-1]*(steps[i][0]-steps[i-1][0])<0  else int(x_box +(x_len+1)//2)\n",
    "                x_len = int((x_len)//2)\n",
    "    print('Finished\\t',x_box,y_box,x_len,y_len)  \n",
    "    if steps[-1][-1] < 0:\n",
    "        x = steps[-2][0]\n",
    "        y = steps[-2][1]\n",
    "    if x_len%2 and y_len%2 and x-x_box==x_len//2 and y-y_box==y_len//2: #we are in the center of the box\n",
    "        print(x,y)\n",
    "        print('Eq',x-x_box==x_len//2,y-y_box==y_len//2)\n",
    "        print(x-x_box,x_len)\n",
    "        if x_len >= y_len:\n",
    "            return x+1,y\n",
    "        else:\n",
    "            return x,y+1\n",
    "    else:\n",
    "        if x_len >= y_len:\n",
    "            print('1',x_box + (x_len -1 + x_box - x),y)\n",
    "            if (x_box + (x_len -1+ x_box - x),y) == (x,y):\n",
    "                return (x+1,y) if x+1<N else (x-1,y)\n",
    "            return x_box + (x_len -1+ x_box - x),y\n",
    "        else:\n",
    "            print('2',x, y_box + (y_box-1 + y_len -y))\n",
    "            if (x, y_box + (y_box-1 + y_len -y)) == (x,y):\n",
    "                return (x,y+1) if y+1<N else (x,y-1)\n",
    "            return x, y_box + (y_box-1 + y_len -y)\n",
    "\n",
    "\n",
    "if __name__ == '__main__':\n",
    "    # This part is using only for self-checking and not necessary for auto-testing\n",
    "    from math import hypot\n",
    "    MAX_STEP = 12\n",
    "\n",
    "    def check_solution(func, goal, start):\n",
    "        prev_steps = [start]\n",
    "        for step in range(MAX_STEP):\n",
    "            row, col = func([s[:] for s in prev_steps])\n",
    "            if [row, col] == goal:\n",
    "                return True\n",
    "            if 10 <= row or 0 > row or 10 <= col or 0 > col:\n",
    "                print(\"You gave wrong coordinates.\")\n",
    "                return False\n",
    "            prev_distance = hypot(prev_steps[-1][0] - goal[0], prev_steps[-1][1] - goal[1])\n",
    "            distance = hypot(row - goal[0], col - goal[1])\n",
    "            alteration = 0 if prev_distance == distance else (1 if prev_distance > distance else -1)\n",
    "            prev_steps.append([row, col, alteration])\n",
    "        print(\"Too many steps\")\n",
    "        return False\n",
    "\n",
    "    assert check_solution(checkio, [2, 4], [7, 7, 0]), \"1st example\"\n",
    "    assert check_solution(checkio, [5, 6], [0, 0, 0]), \"2nd example\"\n",
    "\n"
   ]
  }
 ],
 "metadata": {
  "kernelspec": {
   "display_name": "Python 3",
   "language": "python",
   "name": "python3"
  },
  "language_info": {
   "codemirror_mode": {
    "name": "ipython",
    "version": 3
   },
   "file_extension": ".py",
   "mimetype": "text/x-python",
   "name": "python",
   "nbconvert_exporter": "python",
   "pygments_lexer": "ipython3",
   "version": "3.5.2"
  },
  "latex_envs": {
   "bibliofile": "biblio.bib",
   "cite_by": "apalike",
   "current_citInitial": 1,
   "eqLabelWithNumbers": true,
   "eqNumInitial": 0
  }
 },
 "nbformat": 4,
 "nbformat_minor": 1
}
