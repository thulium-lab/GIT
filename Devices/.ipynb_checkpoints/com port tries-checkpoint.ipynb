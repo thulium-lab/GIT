{
 "cells": [
  {
   "cell_type": "code",
   "execution_count": 1,
   "metadata": {
    "collapsed": false
   },
   "outputs": [
    {
     "name": "stdout",
     "output_type": "stream",
     "text": [
      "Populating the interactive namespace from numpy and matplotlib\n"
     ]
    }
   ],
   "source": [
    "%pylab inline\n",
    "import serial.tools.list_ports\n",
    "from serial import Serial\n",
    "from serial import SerialException\n",
    "import serial\n",
    "import time, sys, os\n",
    "import scipy.misc"
   ]
  },
  {
   "cell_type": "markdown",
   "metadata": {},
   "source": [
    "Вывести список всех портов"
   ]
  },
  {
   "cell_type": "code",
   "execution_count": 2,
   "metadata": {
    "collapsed": false
   },
   "outputs": [
    {
     "data": {
      "text/plain": [
       "['COM10', 'COM3', 'COM13', 'COM1', 'COM4', 'COM5', 'COM8']"
      ]
     },
     "execution_count": 2,
     "metadata": {},
     "output_type": "execute_result"
    }
   ],
   "source": [
    "ports = list(serial.tools.list_ports.comports())\n",
    "[port.device for port in ports]"
   ]
  },
  {
   "cell_type": "code",
   "execution_count": 108,
   "metadata": {
    "collapsed": false
   },
   "outputs": [
    {
     "name": "stdout",
     "output_type": "stream",
     "text": [
      "{'interface': None, 'pid': 24577, 'name': None, 'serial_number': 'AH026O2GA', 'product': None, 'location': None, 'vid': 1027, 'device': 'COM10', 'description': 'USB Serial Port (COM10)', 'manufacturer': 'FTDI', 'hwid': 'USB VID:PID=0403:6001 SER=AH026O2GA'}\n",
      "{'interface': None, 'pid': None, 'name': None, 'serial_number': None, 'product': None, 'location': None, 'vid': None, 'device': 'COM3', 'description': 'Intel(R) Active Management Technology - SOL (COM3)', 'manufacturer': 'Intel', 'hwid': 'PCI\\\\VEN_8086&DEV_1E3D&SUBSYS_3396103C&REV_04\\\\3&11583659&0&B3'}\n",
      "{'interface': None, 'pid': None, 'name': None, 'serial_number': None, 'product': None, 'location': None, 'vid': None, 'device': 'COM1', 'description': 'Последовательный порт (COM1)', 'manufacturer': '(Стандартные порты)', 'hwid': 'ACPI\\\\PNP0501\\\\1'}\n",
      "{'interface': None, 'pid': 8963, 'name': None, 'serial_number': '9', 'product': None, 'location': '1-1.2.2.1.1', 'vid': 1659, 'device': 'COM4', 'description': 'Prolific USB-to-Serial Comm Port (COM4)', 'manufacturer': 'Prolific', 'hwid': 'USB VID:PID=067B:2303 SER=9 LOCATION=1-1.2.2.1.1'}\n",
      "{'interface': None, 'pid': 29987, 'name': None, 'serial_number': '6', 'product': None, 'location': '1-1.3', 'vid': 6790, 'device': 'COM5', 'description': 'USB-SERIAL CH340 (COM5)', 'manufacturer': 'wch.cn', 'hwid': 'USB VID:PID=1A86:7523 SER=6 LOCATION=1-1.3'}\n",
      "{'interface': None, 'pid': 8963, 'name': None, 'serial_number': '8', 'product': None, 'location': '1-1.2.2.2', 'vid': 1659, 'device': 'COM8', 'description': 'Prolific USB-to-Serial Comm Port (COM8)', 'manufacturer': 'Prolific', 'hwid': 'USB VID:PID=067B:2303 SER=8 LOCATION=1-1.2.2.2'}\n",
      "{'interface': None, 'pid': 24577, 'name': None, 'serial_number': '8', 'product': None, 'location': None, 'vid': 1027, 'device': 'COM13', 'description': 'USB Serial Port (COM13)', 'manufacturer': 'FTDI', 'hwid': 'USB VID:PID=0403:6001 SER=8'}\n"
     ]
    }
   ],
   "source": [
    "for port in ports:\n",
    "    print(port.__dict__)"
   ]
  },
  {
   "cell_type": "markdown",
   "metadata": {},
   "source": [
    "#### GWInsteck"
   ]
  },
  {
   "cell_type": "code",
   "execution_count": 104,
   "metadata": {
    "collapsed": false
   },
   "outputs": [],
   "source": [
    "gwi = Serial('COM10', baudrate=9600, timeout=1)"
   ]
  },
  {
   "cell_type": "code",
   "execution_count": 105,
   "metadata": {
    "collapsed": false
   },
   "outputs": [
    {
     "data": {
      "text/plain": [
       "b'GW INSTEK,GPD-3303D,SN:EO894799,V1.07\\r'"
      ]
     },
     "execution_count": 105,
     "metadata": {},
     "output_type": "execute_result"
    }
   ],
   "source": [
    "gwi.write(b'REMOTE\\n*IDN?\\n')\n",
    "gwi.readline()"
   ]
  },
  {
   "cell_type": "code",
   "execution_count": 102,
   "metadata": {
    "collapsed": false
   },
   "outputs": [
    {
     "data": {
      "text/plain": [
       "b'1.4V\\r'"
      ]
     },
     "execution_count": 102,
     "metadata": {},
     "output_type": "execute_result"
    }
   ],
   "source": [
    "gwi.write(b'VSET1?\\n')\n",
    "gwi.readline()"
   ]
  },
  {
   "cell_type": "code",
   "execution_count": 106,
   "metadata": {
    "collapsed": true
   },
   "outputs": [],
   "source": [
    "gwi.close()"
   ]
  },
  {
   "cell_type": "markdown",
   "metadata": {},
   "source": [
    "#### Arduino"
   ]
  },
  {
   "cell_type": "code",
   "execution_count": 12,
   "metadata": {
    "collapsed": false
   },
   "outputs": [],
   "source": [
    "try:\n",
    "    arduino = Serial('COM5',baudrate=9600,timeout=1)\n",
    "except SerialException as e:\n",
    "    print('Nooo')\n",
    "    print(e)"
   ]
  },
  {
   "cell_type": "code",
   "execution_count": 13,
   "metadata": {
    "collapsed": false
   },
   "outputs": [
    {
     "name": "stdout",
     "output_type": "stream",
     "text": [
      "Serial<id=0xb5255d3978, open=True>(port='COM5', baudrate=9600, bytesize=8, parity='N', stopbits=1, timeout=1, xonxoff=False, rtscts=False, dsrdtr=False)\n"
     ]
    }
   ],
   "source": [
    "print(arduino)"
   ]
  },
  {
   "cell_type": "code",
   "execution_count": 14,
   "metadata": {
    "collapsed": false
   },
   "outputs": [
    {
     "data": {
      "text/plain": [
       "'Debug state updated\\r\\n'"
      ]
     },
     "execution_count": 14,
     "metadata": {},
     "output_type": "execute_result"
    }
   ],
   "source": [
    "arduino.write(b'debug 1!')\n",
    "arduino.readline().decode()"
   ]
  },
  {
   "cell_type": "code",
   "execution_count": 15,
   "metadata": {
    "collapsed": false
   },
   "outputs": [
    {
     "data": {
      "text/plain": [
       "'ArduinoUnoShutters\\r\\n'"
      ]
     },
     "execution_count": 15,
     "metadata": {},
     "output_type": "execute_result"
    }
   ],
   "source": [
    "arduino.write(b'*IDN?')\n",
    "arduino.readline().decode()"
   ]
  },
  {
   "cell_type": "code",
   "execution_count": 16,
   "metadata": {
    "collapsed": true
   },
   "outputs": [],
   "source": [
    "arduino.close()"
   ]
  },
  {
   "cell_type": "code",
   "execution_count": 98,
   "metadata": {
    "collapsed": true
   },
   "outputs": [],
   "source": [
    "l0 = b'WMShutters 1 0 2 0 3 0'\n",
    "l1 = b'WMShutters 1 1 2 1 3 1'"
   ]
  },
  {
   "cell_type": "code",
   "execution_count": 109,
   "metadata": {
    "collapsed": false
   },
   "outputs": [
    {
     "data": {
      "text/plain": [
       "b'Ok'"
      ]
     },
     "execution_count": 109,
     "metadata": {},
     "output_type": "execute_result"
    }
   ],
   "source": [
    "arduino.write(l0)\n",
    "arduino.readline().strip()"
   ]
  },
  {
   "cell_type": "code",
   "execution_count": 108,
   "metadata": {
    "collapsed": false
   },
   "outputs": [
    {
     "data": {
      "text/plain": [
       "b'Ok'"
      ]
     },
     "execution_count": 108,
     "metadata": {},
     "output_type": "execute_result"
    }
   ],
   "source": [
    "arduino.write(l1)\n",
    "arduino.readline().strip()"
   ]
  },
  {
   "cell_type": "code",
   "execution_count": 41,
   "metadata": {
    "collapsed": true
   },
   "outputs": [],
   "source": [
    "arduino.close()"
   ]
  },
  {
   "cell_type": "markdown",
   "metadata": {},
   "source": [
    "#### Sacher\n",
    "Do not foget to run sacher.write(b'system:echo off\\r') when sacher is turned on"
   ]
  },
  {
   "cell_type": "code",
   "execution_count": 4,
   "metadata": {
    "collapsed": false
   },
   "outputs": [],
   "source": [
    "sacher = serial.Serial('COM13',57600, timeout=1)"
   ]
  },
  {
   "cell_type": "code",
   "execution_count": 7,
   "metadata": {
    "collapsed": false
   },
   "outputs": [
    {
     "data": {
      "text/plain": [
       "b'Sacher Lasertechnik, PilotPC 500, SN14098015, SW V8.00 HW V9.0 PZ V8.0\\r\\n'"
      ]
     },
     "execution_count": 7,
     "metadata": {},
     "output_type": "execute_result"
    }
   ],
   "source": [
    "sacher.write(b'*IDN?\\r')\n",
    "# sacher.write(b'*CLS\\r')\n",
    "# sacher.write(b'*STB?\\r')\n",
    "s = sacher.readline()\n",
    "# s = s.decode().split(',') \n",
    "# s = s.decode().split(',') \n",
    "s"
   ]
  },
  {
   "cell_type": "code",
   "execution_count": 8,
   "metadata": {
    "collapsed": true
   },
   "outputs": [],
   "source": [
    "sacher.close()"
   ]
  },
  {
   "cell_type": "markdown",
   "metadata": {},
   "source": [
    "Чтобы перестало возвращать посылаемую команду. Уже сделано, может сброситься только при выключении Захера"
   ]
  },
  {
   "cell_type": "code",
   "execution_count": 6,
   "metadata": {
    "collapsed": false
   },
   "outputs": [
    {
     "data": {
      "text/plain": [
       "b'system:echo off\\rO.K.\\r\\n'"
      ]
     },
     "execution_count": 6,
     "metadata": {},
     "output_type": "execute_result"
    }
   ],
   "source": [
    "sacher.write(b'system:echo off\\r')\n",
    "sacher.readline()"
   ]
  },
  {
   "cell_type": "markdown",
   "metadata": {},
   "source": [
    "Получить напряжение на пьезе Захера"
   ]
  },
  {
   "cell_type": "code",
   "execution_count": null,
   "metadata": {
    "collapsed": false
   },
   "outputs": [],
   "source": [
    "sacher.write(b'P:OFFS?\\r')\n",
    "p_offs = sacher.readline()\n",
    "piezo_offset, suffix =  p_offs.decode().split('\\r')\n",
    "piezo_offset = float(piezo_offset)\n",
    "piezo_offset"
   ]
  },
  {
   "cell_type": "markdown",
   "metadata": {
    "collapsed": true
   },
   "source": [
    "#### SRS"
   ]
  },
  {
   "cell_type": "code",
   "execution_count": 2,
   "metadata": {
    "collapsed": false
   },
   "outputs": [],
   "source": [
    "srs = serial.Serial('COM8',timeout=1)"
   ]
  },
  {
   "cell_type": "code",
   "execution_count": 3,
   "metadata": {
    "collapsed": false
   },
   "outputs": [
    {
     "data": {
      "text/plain": [
       "Serial<id=0x10591d390, open=True>(port='COM8', baudrate=9600, bytesize=8, parity='N', stopbits=1, timeout=1, xonxoff=False, rtscts=False, dsrdtr=False)"
      ]
     },
     "execution_count": 3,
     "metadata": {},
     "output_type": "execute_result"
    }
   ],
   "source": [
    "srs"
   ]
  },
  {
   "cell_type": "code",
   "execution_count": null,
   "metadata": {
    "collapsed": false
   },
   "outputs": [],
   "source": [
    "srs.write(b'*IDN?\\r')\n",
    "s = srs.readline()\n",
    "print(s)\n",
    "# print(bin(int(s.decode())))"
   ]
  },
  {
   "cell_type": "code",
   "execution_count": 23,
   "metadata": {
    "collapsed": false
   },
   "outputs": [],
   "source": [
    "try:\n",
    "#     srs.write(b'*IDN?\\r')\n",
    "    srs.readline()\n",
    "except SerialException as e:\n",
    "    print('sss',e)"
   ]
  },
  {
   "cell_type": "code",
   "execution_count": 32,
   "metadata": {
    "collapsed": false
   },
   "outputs": [
    {
     "data": {
      "text/plain": [
       "b''"
      ]
     },
     "execution_count": 32,
     "metadata": {},
     "output_type": "execute_result"
    }
   ],
   "source": [
    "srs.readline()"
   ]
  },
  {
   "cell_type": "code",
   "execution_count": 12,
   "metadata": {
    "collapsed": true
   },
   "outputs": [],
   "source": [
    "srs.close()"
   ]
  },
  {
   "cell_type": "markdown",
   "metadata": {},
   "source": [
    "Считать бит состояния локбокса"
   ]
  },
  {
   "cell_type": "code",
   "execution_count": 256,
   "metadata": {
    "collapsed": false
   },
   "outputs": [
    {
     "name": "stdout",
     "output_type": "stream",
     "text": [
      "b'0\\r\\n'\n"
     ]
    },
    {
     "data": {
      "text/plain": [
       "'0b0'"
      ]
     },
     "execution_count": 256,
     "metadata": {},
     "output_type": "execute_result"
    }
   ],
   "source": [
    "srs.write(b'INSR?\\r')\n",
    "o_srs = srs.readline()\n",
    "print(o_srs)\n",
    "bin(int(o_srs.decode()))"
   ]
  },
  {
   "cell_type": "code",
   "execution_count": 705,
   "metadata": {
    "collapsed": false
   },
   "outputs": [
    {
     "data": {
      "text/plain": [
       "b'+00.001703\\r\\n'"
      ]
     },
     "execution_count": 705,
     "metadata": {},
     "output_type": "execute_result"
    }
   ],
   "source": [
    "srs.write(b'OMON?\\r')\n",
    "srs.readline()"
   ]
  },
  {
   "cell_type": "markdown",
   "metadata": {},
   "source": [
    "Проверить включена ли привязка локбокса"
   ]
  },
  {
   "cell_type": "code",
   "execution_count": 676,
   "metadata": {
    "collapsed": false
   },
   "outputs": [],
   "source": [
    "srs.write(b'AMAN?\\r')\n",
    "is_lock_on = int(srs.readline().decode())\n",
    "is_lock_on"
   ]
  },
  {
   "cell_type": "code",
   "execution_count": null,
   "metadata": {
    "collapsed": true
   },
   "outputs": [],
   "source": []
  }
 ],
 "metadata": {
  "anaconda-cloud": {},
  "hide_input": false,
  "kernelspec": {
   "display_name": "Python [default]",
   "language": "python",
   "name": "python3"
  },
  "language_info": {
   "codemirror_mode": {
    "name": "ipython",
    "version": 3
   },
   "file_extension": ".py",
   "mimetype": "text/x-python",
   "name": "python",
   "nbconvert_exporter": "python",
   "pygments_lexer": "ipython3",
   "version": "3.5.2"
  },
  "latex_envs": {
   "LaTeX_envs_menu_present": true,
   "autocomplete": true,
   "bibliofile": "biblio.bib",
   "cite_by": "apalike",
   "current_citInitial": 1,
   "eqLabelWithNumbers": true,
   "eqNumInitial": 0,
   "hotkeys": {
    "equation": "Ctrl-E",
    "itemize": "Ctrl-I"
   },
   "labels_anchors": false,
   "latex_user_defs": false,
   "report_style_numbering": false,
   "user_envs_cfg": false
  },
  "toc": {
   "nav_menu": {},
   "number_sections": true,
   "sideBar": false,
   "skip_h1_title": false,
   "toc_cell": false,
   "toc_position": {},
   "toc_section_display": "block",
   "toc_window_display": false
  },
  "varInspector": {
   "cols": {
    "lenName": 16,
    "lenType": 16,
    "lenVar": 40
   },
   "kernels_config": {
    "python": {
     "delete_cmd_postfix": "",
     "delete_cmd_prefix": "del ",
     "library": "var_list.py",
     "varRefreshCmd": "print(var_dic_list())"
    },
    "r": {
     "delete_cmd_postfix": ") ",
     "delete_cmd_prefix": "rm(",
     "library": "var_list.r",
     "varRefreshCmd": "cat(var_dic_list()) "
    }
   },
   "types_to_exclude": [
    "module",
    "function",
    "builtin_function_or_method",
    "instance",
    "_Feature"
   ],
   "window_display": false
  }
 },
 "nbformat": 4,
 "nbformat_minor": 0
}
