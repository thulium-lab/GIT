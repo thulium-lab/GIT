{
 "cells": [
  {
   "cell_type": "code",
   "execution_count": null,
   "metadata": {
    "collapsed": false
   },
   "outputs": [],
   "source": [
    "# %pylab inline\n",
    "import scipy.constants as ct\n",
    "import tkinter.messagebox\n",
    "from ipywidgets import interact"
   ]
  },
  {
   "cell_type": "markdown",
   "metadata": {},
   "source": [
    "Define few constants and functions"
   ]
  },
  {
   "cell_type": "code",
   "execution_count": null,
   "metadata": {
    "collapsed": false
   },
   "outputs": [],
   "source": [
    "g = 1\n",
    "m_b = ct.value('Bohr magneton')\n",
    "m_Tm = 169 * ct.value('atomic mass constant')\n"
   ]
  },
  {
   "cell_type": "code",
   "execution_count": null,
   "metadata": {
    "collapsed": true
   },
   "outputs": [],
   "source": [
    "def cloud_expansion(t, T, r0, t0):\n",
    "    r'np.sqrt(r0**2 + 2 * k_b * T * (t + 1*t0)**2 / m)'\n",
    "    k_b = 1.38e-23\n",
    "    m = 169 * 1.66e-27\n",
    "    return np.sqrt(r0**2 + 2 * k_b * T * (t + 1*t0)**2 / m)\n",
    "def gaussian(x,N,x0,sigma, background):\n",
    "    \"\"\"Returns value of a 1D-gaussian with the given parameters\"\"\"\n",
    "    #from numpy import sqrt,pi,exp\n",
    "    return N / (sigma * sqrt(pi)) * exp(-(x - x0)**2/(sigma**2)) + background\n",
    "def st_g_exp(t,m,dB):\n",
    "    return g*m_b*dB*m/m_Tm * t**2/2\n",
    "def st_g_exp_growing_dB(t,m,dB_max,tau=3e-3):\n",
    "    \"\"\"returns cloud displacement depending on t and m at exponentially growing magnetic field \n",
    "    with time constant tau - integrated with scypy in the end of this notebook\"\"\"\n",
    "    return g*m_b*dB_max*m/m_Tm * (t**2/2 - t*tau + tau**2 - tau**2*exp(-t/tau))"
   ]
  },
  {
   "cell_type": "markdown",
   "metadata": {},
   "source": [
    "### From here starts new part with 2D-images\n",
    "Первые попытки перенесены в конец файла"
   ]
  },
  {
   "cell_type": "code",
   "execution_count": null,
   "metadata": {
    "collapsed": true
   },
   "outputs": [],
   "source": [
    "def gaussian2D(N, x0, y0, sigma_x, sigma_y, background):\n",
    "    \"\"\"Returns a 2D-gaussian function with the given parameters\"\"\"\n",
    "    #from numpy import pi,exp\n",
    "    sigma_x = float(sigma_x)\n",
    "    sigma_y = float(sigma_y)\n",
    "    return lambda x,y: N / (sigma_x * sigma_y  * pi) * exp(\n",
    "                        -(((x - x0) / sigma_x)**2 + ((y - y0) / sigma_y)**2)) + background"
   ]
  },
  {
   "cell_type": "code",
   "execution_count": null,
   "metadata": {
    "collapsed": false
   },
   "outputs": [],
   "source": [
    "from matplotlib import animation\n",
    "%pylab osx"
   ]
  },
  {
   "cell_type": "markdown",
   "metadata": {},
   "source": [
    "Camera dimensions and greed parameters"
   ]
  },
  {
   "cell_type": "code",
   "execution_count": null,
   "metadata": {
    "collapsed": false
   },
   "outputs": [],
   "source": [
    "z_max = 516*22.3/2\n",
    "x_max = 696*22.3/2\n",
    "zz = linspace(0,+z_max,400)\n",
    "xx = linspace(0,+x_max,400)\n",
    "xv,zv = meshgrid(xx,zz)\n",
    "ms = arange(-4,5)\n",
    "# yy1 = gaussian2D(1,0,0,3,3,0)(xv,zv) + gaussian2D(1,0,6,3,3,0)(xv,zv)"
   ]
  },
  {
   "cell_type": "markdown",
   "metadata": {},
   "source": [
    "### Single picture"
   ]
  },
  {
   "cell_type": "code",
   "execution_count": null,
   "metadata": {
    "collapsed": false
   },
   "outputs": [],
   "source": [
    "#     dB - gradient in G/cm, T - temperature in uK, t_f - time in ms\n",
    "# figsize(20,10)\n",
    "# fig, ax = subplots()\n",
    "#     t = linspace(0,t_f,t_f)\n",
    "#     displacement = st_g_exp(t*1e-3, 1, dB*1e-2)*1e6\n",
    "fig, ax = plt.subplots(figsize=(10,10))\n",
    "r0_x = 300*1e-6\n",
    "r0_z = 200*1e-6\n",
    "T_x = 10\n",
    "T_z = 20\n",
    "t = 12\n",
    "dB = 40\n",
    "cloud_radius_x = cloud_expansion(t*1e-3, T_x*1e-6,r0_x,0)*1e6\n",
    "cloud_radius_z = cloud_expansion(t*1e-3, T_z*1e-6,r0_z,0)*1e6\n",
    "#     free_fall = ct.g * t**2/2\n",
    "#     plot(t,cloud_radius,'r',label='radius')\n",
    "#     plot(t,displacement,'b',label='distance')\n",
    "#     plot(t,free_fall,'k--')\n",
    "yy = zeros_like(xv)\n",
    "# for noisy image\n",
    "# yy += np.random.rand(*yy.shape)*5*1e-3\n",
    "# axvline(-2500,c='k')\n",
    "# axvline(2500,c='k')\n",
    "\n",
    "for m in ms:\n",
    "    pos = st_g_exp_growing_dB(t*1e-3, m, dB*1e-2)*1e6# +ct.g * t**2/2 \n",
    "    yy += gaussian2D(1000/(2 + m%2),x_max/2,z_max/2+pos,cloud_radius_x,cloud_radius_z,0)(xv,zv)\n",
    "#     ax.plot(xs,y)\n",
    "ax.imshow(yy,cmap=\"Blues\")\n",
    "ax.plot(sum(yy,1)*len(yy)/max(sum(yy,1))/5,zz*len(yy)/max(zz),'r')\n",
    "ax.plot(xx*len(yy)/max(xx),sum(yy,0)*len(yy)/max(sum(yy,0))/10,'r')\n",
    "ax.set_ylim((0,len(yy)))\n",
    "ax.set_xlim((0,len(yy)))"
   ]
  },
  {
   "cell_type": "markdown",
   "metadata": {
    "collapsed": false
   },
   "source": [
    "### Animation\n",
    "\n",
    "Works only in %pylab osx"
   ]
  },
  {
   "cell_type": "code",
   "execution_count": null,
   "metadata": {
    "collapsed": false
   },
   "outputs": [],
   "source": [
    "%pylab inline"
   ]
  },
  {
   "cell_type": "code",
   "execution_count": null,
   "metadata": {
    "collapsed": false
   },
   "outputs": [],
   "source": [
    "\n",
    "fig, ax = plt.subplots(figsize=(10,10))\n",
    "t=0\n",
    "cloud_radius_x = cloud_expansion(t*1e-3, T_x*1e-6,r0_x,0)*1e6\n",
    "cloud_radius_z = cloud_expansion(t*1e-3, T_z*1e-6,r0_z,0)*1e6\n",
    "yy = zeros_like(xv)\n",
    "for m in ms:\n",
    "    pos = st_g_exp(t*1e-3, m, dB*1e-2)*1e6# +ct.g * t**2/2 \n",
    "    yy += gaussian2D(1000,x_max/2,z_max/2+pos,cloud_radius_x,cloud_radius_z,0)(xv,zv)\n",
    "data1 = ax.imshow(yy,cmap=\"Blues\",vmax=0.04)\n",
    "data2, = ax.plot(sum(yy,1)*len(yy)/max(sum(yy,1))/5,zz*len(yy)/max(zz),'r')\n",
    "data3, = ax.plot(xx*len(yy)/max(xx),sum(yy,0)*len(yy)/max(sum(yy,0))/10,'r')\n",
    "ax.set_ylim((0,len(yy)))\n",
    "ax.set_xlim((0,len(yy)))\n",
    "ax.set_title('Cloud expansion in gradient fiels %i Gs/cm'%dB)\n",
    "def init():\n",
    "    t=0\n",
    "#     print('Init')\n",
    "    cloud_radius_x = cloud_expansion(t*1e-3, T_x*1e-6,r0_x,0)*1e6\n",
    "    cloud_radius_z = cloud_expansion(t*1e-3, T_z*1e-6,r0_z,0)*1e6\n",
    "    yy = zeros_like(xv)\n",
    "    for m in ms:\n",
    "        pos = st_g_exp(t*1e-3, m, dB*1e-2)*1e6# +ct.g * t**2/2 \n",
    "        yy += gaussian2D(1000,x_max/2,z_max/2+pos,cloud_radius_x,cloud_radius_z,0)(xv,zv)\n",
    "#     data1 = ax.imshow(yy,cmap=\"Blues\")\n",
    "#     return data1\n",
    "#     data1.set_data(yy)\n",
    "#     data2, = ax.plot(sum(yy,1)*len(yy)/max(sum(yy,1))/5,zz*len(yy)/max(zz),'r')\n",
    "    data3.set_ydata(sum(yy,0)*len(yy)/max(sum(yy,0))/10)#, = ax.plot(xx*len(yy)/max(xx),sum(yy,0)*len(yy)/max(sum(yy,0))/10,'r')\n",
    "    \n",
    "def updatet(t):\n",
    "#     print('update')\n",
    "#     fig.clear()\n",
    "    cloud_radius_x = cloud_expansion(t*1e-3, T_x*1e-6,r0_x,0)*1e6\n",
    "    cloud_radius_z = cloud_expansion(t*1e-3, T_z*1e-6,r0_z,0)*1e6\n",
    "    yy = zeros_like(xv)\n",
    "    for m in ms:\n",
    "        pos = st_g_exp(t*1e-3, m, dB*1e-2)*1e6 - ct.g * t**2/2 \n",
    "        yy += gaussian2D(10000,x_max/2,z_max/2+pos,cloud_radius_x,cloud_radius_z,0)(xv,zv)\n",
    "#     data3.set_ydata(sum(yy,0)*len(yy)/(i+1))\n",
    "    data2.set_xdata(sum(yy,1)*len(yy)/max(sum(yy,1))/5)\n",
    "    data3.set_ydata(sum(yy,0)*len(yy)/max(sum(yy,0))/10)\n",
    "#     ax.text(0,0,str(t),fontsize=15)\n",
    "#     data3.set_ydata(array([t/10]*len(yy)))\n",
    "    \n",
    "#     return data3,\n",
    "    data1.set_data(yy)\n",
    "#     return data1\n",
    "#     show()\n",
    "#     ax.imshow(yy)\n",
    "\n",
    "\n",
    "anim = animation.FuncAnimation(fig, updatet, frames=np.arange(1, 11,0.1),init_func=init,interval=100,repeat=False)\n",
    "# show()"
   ]
  },
  {
   "cell_type": "markdown",
   "metadata": {},
   "source": [
    "## Замечания по эксперименту:\n",
    "\n",
    "- При 10 А должен быть градиент поля вдоль 0z 50Гс/см. \n",
    "- Чтобы правильно происходил разлет, необходимо ненулевое поле во всей области атомов, иначе будет непонятно что с проекцией магнитного момента. \n",
    "- Для этого можно шунтировать одну из катушек стабилитронами или набором диодов так, чтобы на них падало всегда определенное напряжение, которое соответствует току н.р. 6А. Это приведет к тому, что образуется постоянное поле 4А * 5Гс/А = 20Гс (калибровка взята из экспериментов по Фешбаху). При этом градиент поля будет 40Гс, и уже во всей области, в которой могут находиться атомы, будет ненулевое магнитное поле.\n",
    "- Фитует достаточно хорошо даже шумную картинку и когда не видно разрешения отдельных облаков. Но для этого надо достаточно точно задавать параметры отдельного облака и расстояние между ними. Но это все может быть легко оценено\n",
    "- <font color='blue'>Надо добавить временную динамику магнитного поля и гравитацию</font> - добавлена функция st_g_exp_growing_dB(t,m,dB_max,tau=3e-3), которая расчитывает разлет для экспоненциального роста магнитного поля (может стоит добавить t0). Можно расчитывать снос для произвольной временной зависимости магнитного поля от времени - в конце файла.\n",
    "- Судя по всему с учетом флуктуаций магнитного поля стоит ждать разлета до тех пор, пока либо облака не вылетят за область отображения камеры, либо шум не сравняется с сигналом."
   ]
  },
  {
   "cell_type": "markdown",
   "metadata": {},
   "source": [
    "### Fitting cloud expansion"
   ]
  },
  {
   "cell_type": "code",
   "execution_count": null,
   "metadata": {
    "collapsed": true
   },
   "outputs": [],
   "source": [
    "from scipy.optimize import curve_fit"
   ]
  },
  {
   "cell_type": "code",
   "execution_count": null,
   "metadata": {
    "collapsed": false
   },
   "outputs": [],
   "source": [
    "def Stern_Gerlah_fit_numction(zz, z0, distance,width,background, *ampls):\n",
    "    \"\"\"Function fitfunc(zz, z0, distance,width,background, *ampls) to fit image in `Stern-Gerlah experiment.\n",
    "        z0 - position of m_f=0 cloud zz[-1]/2\n",
    "        distance - displacement between clouds zz[-1]/10\n",
    "        width - cloud width in gaussian fit  zz[-1]/15\n",
    "        background 0\n",
    "        *ampls - unpucked umplitudes of gaussians max(yy2)*width[zz[-1]/15] \"\"\"\n",
    "    res = zeros_like(zz)\n",
    "    res += background\n",
    "    for i,m in enumerate(ms):\n",
    "        res += gaussian(zz, ampls[i],z0+m*distance,width,0)\n",
    "    return res"
   ]
  },
  {
   "cell_type": "code",
   "execution_count": null,
   "metadata": {
    "collapsed": false
   },
   "outputs": [],
   "source": [
    "# zz and yy come from above\n",
    "yy2 = sum(yy[:,150:250],1)\n",
    "popt, pcov = curve_fit(Stern_Gerlah_fit_numction, zz, yy2, p0=(zz[-1]/2,zz[-1]/10,zz[-1]/15,0,*[max(yy2)*zz[-1]/15]*9))"
   ]
  },
  {
   "cell_type": "code",
   "execution_count": null,
   "metadata": {
    "collapsed": false
   },
   "outputs": [],
   "source": [
    "plot(zz,Stern_Gerlah_fit_numction(zz,*popt))\n",
    "plot(zz,yy2,'r')"
   ]
  },
  {
   "cell_type": "markdown",
   "metadata": {},
   "source": [
    "Numerical summation of displacenent for a given dB(t)=dBB. Here dBB is exponentially growing, can be just a recorded wavform"
   ]
  },
  {
   "cell_type": "code",
   "execution_count": null,
   "metadata": {
    "collapsed": true
   },
   "outputs": [],
   "source": [
    "def exp_grouth(x,x0,sigma,x_max):\n",
    "    return x_max*(1 - exp(-(x - x0)/sigma))\n",
    "tt = linspace(0,10e-3,1000)\n",
    "dBB  = exp_grouth(tt,0,3e-3,40e-2)\n",
    "m=1\n",
    "aa = g*m_b*dBB*m/m_Tm\n",
    "vv = (tt[1]-tt[0])*aa.cumsum()\n",
    "xx1 = (tt[1]-tt[0])*vv.cumsum()"
   ]
  },
  {
   "cell_type": "markdown",
   "metadata": {},
   "source": [
    "Integration with sympy"
   ]
  },
  {
   "cell_type": "code",
   "execution_count": null,
   "metadata": {
    "collapsed": true
   },
   "outputs": [],
   "source": [
    "import sympy as sp"
   ]
  },
  {
   "cell_type": "code",
   "execution_count": null,
   "metadata": {
    "collapsed": true
   },
   "outputs": [],
   "source": [
    "t, τ = sp.symbols('t,τ')"
   ]
  },
  {
   "cell_type": "code",
   "execution_count": null,
   "metadata": {
    "collapsed": false
   },
   "outputs": [],
   "source": [
    "i1 = sp.integrate(1 - sp.exp(-t/τ),(t,0,t))\n",
    "i2 = sp.integrate(i1, (t,0,t))\n",
    "i2"
   ]
  },
  {
   "cell_type": "code",
   "execution_count": null,
   "metadata": {
    "collapsed": false
   },
   "outputs": [],
   "source": [
    "# to subscribe some value\n",
    "i2.subs(τ,2)"
   ]
  },
  {
   "cell_type": "raw",
   "metadata": {
    "collapsed": false
   },
   "source": [
    "# Some initial attempts\n",
    "t_f = 20\n",
    "m = 1\n",
    "r0 = 100e-6\n",
    "def plot0(dB=15, T=15):\n",
    "#     dB - gradient in G/cm, T - temperature in uK, t_f - time in ms\n",
    "    t = linspace(0,t_f,100)\n",
    "    displacement = st_g_exp(t*1e-3, m, dB*1e-2)*1e6\n",
    "    cloud_radius = cloud_expansion(t*1e-3, T*1e-6,r0,0)*1e6\n",
    "    free_fall = ct.g * t**2/2\n",
    "    plot(t,cloud_radius,'r',label='radius')\n",
    "    plot(t,displacement,'b',label='distance')\n",
    "    plot(t,free_fall,'k--')\n",
    "    legend(loc='best')\n",
    "    xlabel('time, ms')\n",
    "    ylabel('distance, um')\n",
    "interact(plot0,dB=(1,40,1),T=(1,20,1))"
   ]
  },
  {
   "cell_type": "raw",
   "metadata": {
    "collapsed": false
   },
   "source": [
    "# Some initial attempts\n",
    "t_f = 20\n",
    "m = 1\n",
    "r0 = 100e-6\n",
    "def plot0(dB=15, T=15):\n",
    "#     dB - gradient in G/cm, T - temperature in uK, t_f - time in ms\n",
    "    figsize(15,15)\n",
    "    t = linspace(0,t_f,t_f)\n",
    "    displacement = st_g_exp(t*1e-3, 1, dB*1e-2)*1e6\n",
    "    cloud_radius = cloud_expansion(t*1e-3, T*1e-6,r0,0)*1e6\n",
    "    free_fall = ct.g * t**2/2\n",
    "#     plot(t,cloud_radius,'r',label='radius')\n",
    "#     plot(t,displacement,'b',label='distance')\n",
    "#     plot(t,free_fall,'k--')\n",
    "    legend(loc='best')\n",
    "    for m in range(-4,5):\n",
    "        errorbar(t,free_fall + m*displacement, yerr=cloud_radius)\n",
    "    xlabel('time, ms')\n",
    "    ylabel('distance, um')\n",
    "interact(plot0,dB=(1,40,1),T=(1,20,1))\n"
   ]
  },
  {
   "cell_type": "raw",
   "metadata": {
    "collapsed": false
   },
   "source": [
    "# Some initial attempts\n",
    "t_f = 20\n",
    "m = 1\n",
    "r0 = 100e-6\n",
    "ms = range(-4,5)\n",
    "xs = linspace(-5000,5000,1000)\n",
    "def plot0(dB=50, T=12,t=10):\n",
    "#     dB - gradient in G/cm, T - temperature in uK, t_f - time in ms\n",
    "    figsize(20,10)\n",
    "    fig, ax = subplots()\n",
    "#     t = linspace(0,t_f,t_f)\n",
    "#     displacement = st_g_exp(t*1e-3, 1, dB*1e-2)*1e6\n",
    "    cloud_radius = cloud_expansion(t*1e-3, T*1e-6,r0,0)*1e6\n",
    "#     free_fall = ct.g * t**2/2\n",
    "#     plot(t,cloud_radius,'r',label='radius')\n",
    "#     plot(t,displacement,'b',label='distance')\n",
    "#     plot(t,free_fall,'k--')\n",
    "    res = zeros(xs.shape)\n",
    "    axvline(-2500,c='k')\n",
    "    axvline(2500,c='k')\n",
    "    \n",
    "    for m in ms:\n",
    "        pos = st_g_exp(t*1e-3, m, dB*1e-2)*1e6 #-ct.g * t**2/2 + \n",
    "        y = gaussian(xs,1,pos,cloud_radius,0)# * (5-m)#* rand()\n",
    "        ax.plot(xs,y)\n",
    "        res += y\n",
    "    ax.plot(xs,res)\n",
    "    xlabel('time, ms')\n",
    "    ylabel('distance, um')\n",
    "    return ax\n",
    "interact(plot0,dB=(1,50,1),T=(1,20,1),t=(0,20,1))\n"
   ]
  },
  {
   "cell_type": "raw",
   "metadata": {
    "collapsed": false
   },
   "source": [
    "# Some initial attempts\n",
    "dBs = (15,25,50)\n",
    "params = (((2,15),(7,20),(10,19)),\n",
    "         ((3,11),(12,16),(17,15)),\n",
    "         ((6,8),(12,8),(35,11)))\n",
    "nrows = len(dBs)\n",
    "ncols = len(params)\n",
    "fig, ax = subplots(nrows = nrows,ncols = ncols,sharey=True)\n",
    "for i,dB in enumerate(dBs):\n",
    "    for j,(T,t) in enumerate(params[i]):\n",
    "            cloud_radius = cloud_expansion(t*1e-3, T*1e-6,r0,0)*1e6\n",
    "        #     free_fall = ct.g * t**2/2\n",
    "        #     plot(t,cloud_radius,'r',label='radius')\n",
    "        #     plot(t,displacement,'b',label='distance')\n",
    "        #     plot(t,free_fall,'k--')\n",
    "            res = zeros(xs.shape)\n",
    "            ax[i,j].axvline(-2500,c='k')\n",
    "            ax[i,j].axvline(2500,c='k')\n",
    "\n",
    "            for m in (-4,-3):\n",
    "                pos = st_g_exp(t*1e-3, m, dB*1e-2)*1e6 #-ct.g * t**2/2 + \n",
    "                y = gaussian(xs,1,pos,cloud_radius,0) * ((-m-2)**2)#* rand()\n",
    "                ax[i,j].plot(xs,y)\n",
    "                res += y\n",
    "            ax[i,j].plot(xs,res)\n",
    "            ax[i,j].set_title('dB=%i,T=%i,t=%i'%(dB,T,t))\n",
    "tight_layout()"
   ]
  },
  {
   "cell_type": "raw",
   "metadata": {
    "collapsed": false
   },
   "source": [
    "# more or less final comparison between different scenarios of dB and detections\n",
    "dBs = (15,25,50)\n",
    "params = (((2,15),(7,20),(10,19)),\n",
    "         ((3,11),(12,16),(17,15)),\n",
    "         ((6,8),(12,8),(35,11)))\n",
    "nrows = len(dBs)\n",
    "ncols = len(params)\n",
    "fig, ax = subplots(nrows = nrows,ncols = ncols,sharey=True)\n",
    "for i,dB in enumerate(dBs):\n",
    "    for j,(T,t) in enumerate(params[i]):\n",
    "            cloud_radius = cloud_expansion(t*1e-3, T*1e-6,r0,0)*1e6\n",
    "        #     free_fall = ct.g * t**2/2\n",
    "        #     plot(t,cloud_radius,'r',label='radius')\n",
    "        #     plot(t,displacement,'b',label='distance')\n",
    "        #     plot(t,free_fall,'k--')\n",
    "            res = zeros(xs.shape)\n",
    "            ax[i,j].axvline(-2500,c='k')\n",
    "            ax[i,j].axvline(2500,c='k')\n",
    "\n",
    "            for m in ms:\n",
    "                pos = st_g_exp(t*1e-3, m, dB*1e-2)*1e6 #-ct.g * t**2/2 + \n",
    "                y = gaussian(xs,1,pos,cloud_radius,0)# * (5-m)#* rand()\n",
    "                ax[i,j].plot(xs,y)\n",
    "                res += y\n",
    "            ax[i,j].plot(xs,res)\n",
    "            ax[i,j].set_title('dB=%i,T=%i,t=%i'%(dB,T,t))\n",
    "tight_layout()"
   ]
  }
 ],
 "metadata": {
  "hide_input": false,
  "kernelspec": {
   "display_name": "Python 3",
   "language": "python",
   "name": "python3"
  },
  "language_info": {
   "codemirror_mode": {
    "name": "ipython",
    "version": 3
   },
   "file_extension": ".py",
   "mimetype": "text/x-python",
   "name": "python",
   "nbconvert_exporter": "python",
   "pygments_lexer": "ipython3",
   "version": "3.5.1"
  },
  "latex_envs": {
   "bibliofile": "biblio.bib",
   "cite_by": "apalike",
   "current_citInitial": 1,
   "eqLabelWithNumbers": true,
   "eqNumInitial": 0
  }
 },
 "nbformat": 4,
 "nbformat_minor": 0
}
