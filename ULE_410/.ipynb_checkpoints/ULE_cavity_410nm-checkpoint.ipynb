{
 "cells": [
  {
   "cell_type": "code",
   "execution_count": null,
   "metadata": {
    "collapsed": true
   },
   "outputs": [],
   "source": [
    "%pylab inline\n"
   ]
  },
  {
   "cell_type": "code",
   "execution_count": 22,
   "metadata": {
    "code_folding": [
     0
    ],
    "collapsed": false,
    "run_control": {
     "marked": false
    }
   },
   "outputs": [
    {
     "data": {
      "text/plain": [
       "<matplotlib.text.Text at 0x76dceb8>"
      ]
     },
     "execution_count": 22,
     "metadata": {},
     "output_type": "execute_result"
    },
    {
     "data": {
      "image/png": "[encoded data removed]",
      "text/plain": [
       "<matplotlib.figure.Figure at 0x733c9e8>"
      ]
     },
     "metadata": {},
     "output_type": "display_data"
    }
   ],
   "source": [
    "# Here all the initialisatoins and functions declare\n",
    "λ = 0.416e-3\n",
    "L = 78\n",
    "R = 500\n",
    "w0 = sqrt(λ*z/pi * (R/(L/2) - 1)**0.5)\n",
    "c = 3e11 # mm/s\n",
    "\n",
    "def r_front(z):\n",
    "    return z*(1 + (pi*w0**2/(λ*z))**2)\n",
    "def w(z):\n",
    "    return w0*sqrt(1 + (λ*z/(pi*w0**2))**2)\n",
    "def ν_mnq(m,n,q):\n",
    "    return c/(2*L) * (q + 1/pi * (m+n+1)*arccos(1-L/R))\n",
    "\n",
    "zz = linspace(0,1000,1000)\n",
    "r_beam = 0.372 # mm для объектива C330TME-A - f = 3.1 mm и волокна с NA=0.12\n",
    "plot(zz, w(zz))\n",
    "axhline(y=r_beam,c='r')\n",
    "ylabel('$r_{beam}$, mm',fontsize=16)\n",
    "xlabel('distance from resonator center, mm',fontsize=16)"
   ]
  },
  {
   "cell_type": "markdown",
   "metadata": {},
   "source": [
    "### Расчеты по зависимости показателя преломления от давления и температуры\n",
    "<img  src=\"all_refracrive.png\"/>"
   ]
  },
  {
   "cell_type": "markdown",
   "metadata": {
    "variables": {
     "'%.1e'%(1e-9 / (68/250e06))": "3.7e-03",
     "68/250e06": "2.72e-07"
    }
   },
   "source": [
    "Refrectivity vs pressure (from around 1000 mb):\n",
    "\n",
    "    {{68/250e06}} /mbar\n",
    "For stabilization with accuracy 1MHz at optical frequency $10^{15}$MHz we need to stabilize pressure with accuracy\n",
    "\n",
    "    {{'%.1e'%(1e-9 / (68/250e06))}} /mbar\n",
    "\n",
    "То есть сразу лучше качать до высокого вакуума и подстраивать АОМами"
   ]
  },
  {
   "cell_type": "markdown",
   "metadata": {},
   "source": [
    "### Возможность смещения линии резонатора"
   ]
  },
  {
   "cell_type": "markdown",
   "metadata": {},
   "source": [
    "<img  src=\"ULE_stab.png\", width=600/>"
   ]
  },
  {
   "cell_type": "markdown",
   "metadata": {
    "variables": {
     "'%.0f' % (3.14/(3/5e+3))": "5233",
     "'%.0f' % (75*(ν_mnq(0,0,101)-ν_mnq(0,0,100))/(ν_mnq(0,1,100)-ν_mnq(0,0,100)))": "<p><strong>NameError</strong>: name &#39;ν_mnq&#39; is not defined</p>\n",
     "3/5e+3": "0.0006",
     "w0": "<p><strong>NameError</strong>: name &#39;w0&#39; is not defined</p>\n"
    }
   },
   "source": [
    "Как видно, изменение частоты лазера с температурой можно аппроксимировать параболической зависимостью \n",
    "\n",
    "\\begin{equation}\n",
    "    \\delta f = \\frac13 \\Delta T, [MHz]\n",
    "\\end{equation}\n",
    "\n",
    "При доступном диапазоне сканирования температуры $20^\\circ$C максимальное перестраивание частоты моды составит 130 кГц \n",
    "\n",
    "### Параметры резонатора\n",
    "Измерил пропускание зеркала -  3 мкВт из 5.3 мВт. Отсюда получается коэффициент пропускания 1-R = {{3/5e+3}}\n",
    "\n",
    "\\begin{equation}\n",
    "F = \\frac{\\pi \\sqrt{R}}{1-R}\n",
    "\\end{equation}\n",
    "\n",
    "and equals to {{'%.0f' % (3.14/(3/5e+3))}}\n",
    "\n",
    "#### Радиусы кривизны и параметры пучка\n",
    "<img  src=\"iu129qgl.bmp\"/> \n",
    "<img  src=\"jpenobbr.bmp\"/>\n",
    "\n",
    "При радиусе зеркал 500 мм и размере резонатора 78 мм перетяжка в центре резонатора получается равной {{w0}} мм.\n",
    "\n",
    "Преломление на стекле зеркала почти не меняет положение фокуса.\n",
    "\n",
    "На рисунке ниже приведены кривые зависимости радиуса пучка от расстояния от ЦЕНТРА резонатора и для графического вычисления построена горизонтальная прямая, соответствующая радиусу почка до согласовывающей линзы. Координата пересечения и есть фокусное расстояние линзы.\n",
    "\n",
    "Для объектива C330TME-A - f = 3.1 mm и волокна с NA=0.12 пулчаем радиус пятна на объективе 0.372мм и находим, что расстояние от него до перетяжки должно быть 350 мм\n",
    "\n",
    "#### Измерения финесс резонатора\n",
    "\n",
    "В файлах 22-25 .csv записаны линии пропускания резонатора. Большие пики - TEM00 мода, через один - TEM01. Обработка этих файлов находится в [transmission_piaks.ipynb](./transmission_picks.ipynb)\n",
    "Из файла 23.csv находим отношение расстояния между TEM00 и TEM01 \n",
    "-                  75, 73.5\n",
    "-    из файла 22: 71 74 75 80 68\n",
    "-    из файла 25: 64 60\n",
    "-    из файла 24: 79 70 69.\n",
    "\n",
    "Усреднив, получаем 75. Отношение ФСР к расстоянию между TEM00 и TEM01 можно найти по формуле (н.р. из Риле):\n",
    "\n",
    "\\begin{equation}\n",
    "\\nu_{m,n,q} = \\frac{c}{2L}(q + ( m + n + 1) * arccos(\\sqrt{1-L/R_1}\\sqrt{1-L/R_1})\n",
    "\\end{equation}\n",
    "\n",
    "находим, что отношение ширины задетектированной линии TEM00 к ФСР составляет 1 / {{'%.0f' % (75*(ν_mnq(0,0,101)-ν_mnq(0,0,100))/(ν_mnq(0,1,100)-ν_mnq(0,0,100)))}}.\n",
    "Так как линии пропускания хорошо фитовались гакссом, а не  лоренцом, то скорее всего это связано с шириной линии лазера. \n",
    "Даже если это наш настоящий финесс, это нас вполне устраивает.\n"
   ]
  },
  {
   "cell_type": "code",
   "execution_count": null,
   "metadata": {
    "collapsed": true
   },
   "outputs": [],
   "source": []
  }
 ],
 "metadata": {
  "hide_input": false,
  "kernelspec": {
   "display_name": "Python 3",
   "language": "python",
   "name": "python3"
  },
  "language_info": {
   "codemirror_mode": {
    "name": "ipython",
    "version": 3
   },
   "file_extension": ".py",
   "mimetype": "text/x-python",
   "name": "python",
   "nbconvert_exporter": "python",
   "pygments_lexer": "ipython3",
   "version": "3.5.1"
  },
  "latex_envs": {
   "bibliofile": "biblio.bib",
   "cite_by": "apalike",
   "current_citInitial": 1,
   "eqLabelWithNumbers": true,
   "eqNumInitial": 0
  }
 },
 "nbformat": 4,
 "nbformat_minor": 0
}
