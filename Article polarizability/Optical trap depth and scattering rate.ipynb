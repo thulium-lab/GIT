{
 "cells": [
  {
   "cell_type": "code",
   "execution_count": 1,
   "metadata": {
    "collapsed": false
   },
   "outputs": [
    {
     "name": "stdout",
     "output_type": "stream",
     "text": [
      "Populating the interactive namespace from numpy and matplotlib\n"
     ]
    }
   ],
   "source": [
    "%pylab inline"
   ]
  },
  {
   "cell_type": "code",
   "execution_count": 2,
   "metadata": {
    "collapsed": true
   },
   "outputs": [],
   "source": [
    "import scipy.constants as ct\n",
    "import sympy as sp\n",
    "from scipy.optimize import root\n",
    "from sympy.physics.wigner import wigner_3j"
   ]
  },
  {
   "cell_type": "code",
   "execution_count": 3,
   "metadata": {
    "collapsed": false
   },
   "outputs": [],
   "source": [
    "a0 = ct.value('Bohr radius')\n",
    "λ0 = 1.14e-6\n",
    "m_at = ct.value('atomic mass constant')\n",
    "w0 = 100e-6 # beam waist by 1/e**2 in Intensity\n",
    "Tr = ct.hbar**2 * (2*pi/λ0)**2 / (2 * 169 * m_at * ct.k) * 1e6 # recoil energy for clock laser"
   ]
  },
  {
   "cell_type": "markdown",
   "metadata": {},
   "source": [
    "List of magic vavelength and polarizabilitites"
   ]
  },
  {
   "cell_type": "code",
   "execution_count": 62,
   "metadata": {
    "collapsed": true
   },
   "outputs": [],
   "source": [
    "λ1 = 425 #nm\n",
    "λ2 = 447 #nm\n",
    "λ3 = 806 #nm\n",
    "α1 = 1300 # a.u.\n",
    "α2 = 700 # a.u.\n",
    "α3 = 195 # a.u."
   ]
  },
  {
   "cell_type": "markdown",
   "metadata": {},
   "source": [
    "Calculation of optical power needed for 20 uK 2D lattice depth\n",
    "Gaussian beam parameters are taken from https://en.wikipedia.org/wiki/Gaussian_beam"
   ]
  },
  {
   "cell_type": "code",
   "execution_count": 110,
   "metadata": {
    "collapsed": true
   },
   "outputs": [],
   "source": [
    "def trap_depth_in_uK(α, I):\n",
    "    return 2*pi*α* a0**3/ (ct.c * ct.k) * I *1e6"
   ]
  },
  {
   "cell_type": "code",
   "execution_count": 111,
   "metadata": {
    "collapsed": false
   },
   "outputs": [
    {
     "name": "stdout",
     "output_type": "stream",
     "text": [
      "For trap depth of 20 uK in 2D optical lattice one need\n",
      "0.134288 W at $\\lambda$=425 nm\n",
      "0.249392 W at $\\lambda$=447 nm\n",
      "0.895253 W at $\\lambda$=806 nm\n"
     ]
    }
   ],
   "source": [
    "depth = 20  #  uK\n",
    "print('For trap depth of 20 uK in 2D optical lattice one need')\n",
    "for α,λ in ((α1,λ1),(α2,λ2),(α3,λ3)):\n",
    "    sol = root(lambda x: trap_depth_in_uK(α,8*x/(pi/2*w0**2))-depth,1)\n",
    "    print(\"%2f W at $\\lambda$=%i nm\"%(sol.x[0],λ))"
   ]
  },
  {
   "cell_type": "markdown",
   "metadata": {
    "collapsed": true
   },
   "source": [
    "Scattering rate in 0.2 nm away from 806 nm transition \n",
    "\n",
    "-do not calculate"
   ]
  },
  {
   "cell_type": "code",
   "execution_count": 112,
   "metadata": {
    "collapsed": false
   },
   "outputs": [],
   "source": [
    "\n",
    "ωtr = 2 * pi *ct.c / (λ3 * 1e-9)\n",
    "ωlas = 2 * pi *ct.c / ((λ3-0.2) * 1e-9)\n",
    "coeff = abs(ωtr / (ωtr**2 - ωlas**2))\n",
    "Γ = 2*pi * 8e3"
   ]
  },
  {
   "cell_type": "markdown",
   "metadata": {},
   "source": [
    "Большая формула для вычисления скорости рассеяиния используя один переход на 806 нм"
   ]
  },
  {
   "cell_type": "code",
   "execution_count": 126,
   "metadata": {
    "collapsed": false
   },
   "outputs": [
    {
     "name": "stdout",
     "output_type": "stream",
     "text": [
      "Scattaring rate 0.37 s-1\n"
     ]
    }
   ],
   "source": [
    "gamma = (ωtr**2 + ωlas**2) / abs(ωtr**2 - ωlas**2)**2 * (3 * pi *ct.c**2 * Γ)/(ct.hbar * ωtr**3) *wigner_3j(2,1,3,0,0,0)**2 \\\n",
    "    * (2*2*1)*Γ * 8*0.9/(pi/2*w0**2)\n",
    "print('Scattaring rate %.2f s-1'%gamma)"
   ]
  },
  {
   "cell_type": "markdown",
   "metadata": {},
   "source": [
    "Т.е. при глубине ловушки 20 мкК при мощностия излучения 0.9 Вт и фокусировке в 100 мкм (по 1/e^2) получаем скорость рассеяния 0.37 с-1"
   ]
  },
  {
   "cell_type": "code",
   "execution_count": 127,
   "metadata": {
    "collapsed": false
   },
   "outputs": [
    {
     "data": {
      "text/plain": [
       "0.004424778761061947"
      ]
     },
     "execution_count": 127,
     "metadata": {},
     "output_type": "execute_result"
    }
   ],
   "source": [
    "5/1130"
   ]
  },
  {
   "cell_type": "code",
   "execution_count": null,
   "metadata": {
    "collapsed": true
   },
   "outputs": [],
   "source": []
  },
  {
   "cell_type": "code",
   "execution_count": 130,
   "metadata": {
    "collapsed": false
   },
   "outputs": [
    {
     "data": {
      "text/plain": [
       "206.21581059922548"
      ]
     },
     "execution_count": 130,
     "metadata": {},
     "output_type": "execute_result"
    }
   ],
   "source": [
    "w1=50e-6\n",
    "trap_depth_in_uK(300,4*3/(pi/2*w1**2))"
   ]
  },
  {
   "cell_type": "code",
   "execution_count": 131,
   "metadata": {
    "collapsed": true
   },
   "outputs": [],
   "source": [
    "k_b_mod = ct.value('Boltzmann constant in Hz/K')"
   ]
  },
  {
   "cell_type": "code",
   "execution_count": 135,
   "metadata": {
    "collapsed": false
   },
   "outputs": [
    {
     "data": {
      "text/plain": [
       "12501970.799999999"
      ]
     },
     "execution_count": 135,
     "metadata": {},
     "output_type": "execute_result"
    }
   ],
   "source": [
    "k_b_mod*600e-6"
   ]
  },
  {
   "cell_type": "code",
   "execution_count": 10,
   "metadata": {
    "collapsed": false
   },
   "outputs": [
    {
     "data": {
      "text/plain": [
       "1.6487772754e-41"
      ]
     },
     "execution_count": 10,
     "metadata": {},
     "output_type": "execute_result"
    }
   ],
   "source": [
    "α0 = ct.value(\"atomic unit of electric polarizability\")\n",
    "α0"
   ]
  },
  {
   "cell_type": "code",
   "execution_count": 23,
   "metadata": {
    "collapsed": true
   },
   "outputs": [],
   "source": [
    "wr = 2*pi * 400\n",
    "wz = 2*pi*220e3\n",
    "P = 4\n",
    "λ = 530e-9\n",
    "m = 169 * m_at"
   ]
  },
  {
   "cell_type": "code",
   "execution_count": 25,
   "metadata": {
    "collapsed": false
   },
   "outputs": [
    {
     "data": {
      "text/plain": [
       "259.5897716137647"
      ]
     },
     "execution_count": 25,
     "metadata": {},
     "output_type": "execute_result"
    }
   ],
   "source": [
    "wz**4/wr**2 * λ**4 * ct.c * ct.epsilon_0 * m / 64 / P/ pi**3  /  α0"
   ]
  },
  {
   "cell_type": "code",
   "execution_count": 14,
   "metadata": {
    "collapsed": false
   },
   "outputs": [
    {
     "data": {
      "text/plain": [
       "8.854187817620389e-12"
      ]
     },
     "execution_count": 14,
     "metadata": {},
     "output_type": "execute_result"
    }
   ],
   "source": [
    "ct.epsilon_0"
   ]
  },
  {
   "cell_type": "code",
   "execution_count": null,
   "metadata": {
    "collapsed": true
   },
   "outputs": [],
   "source": []
  }
 ],
 "metadata": {
  "hide_input": false,
  "kernelspec": {
   "display_name": "Python 3",
   "language": "python",
   "name": "python3"
  },
  "language_info": {
   "codemirror_mode": {
    "name": "ipython",
    "version": 3
   },
   "file_extension": ".py",
   "mimetype": "text/x-python",
   "name": "python",
   "nbconvert_exporter": "python",
   "pygments_lexer": "ipython3",
   "version": "3.5.0"
  },
  "latex_envs": {
   "bibliofile": "biblio.bib",
   "cite_by": "apalike",
   "current_citInitial": 1,
   "eqLabelWithNumbers": true,
   "eqNumInitial": 0
  }
 },
 "nbformat": 4,
 "nbformat_minor": 0
}
