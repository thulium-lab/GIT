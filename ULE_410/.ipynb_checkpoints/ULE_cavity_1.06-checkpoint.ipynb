{
 "cells": [
  {
   "cell_type": "code",
   "execution_count": 3,
   "metadata": {
    "collapsed": false
   },
   "outputs": [
    {
     "name": "stdout",
     "output_type": "stream",
     "text": [
      "Populating the interactive namespace from numpy and matplotlib\n"
     ]
    }
   ],
   "source": [
    "%pylab inline\n",
    "\n",
    "import pandas as pd"
   ]
  },
  {
   "cell_type": "markdown",
   "metadata": {},
   "source": [
    "### Проснял зависимость длины волны моды резонатора от температуры. Данные находятся в файле [freq_vs_temp_ULE410.csv](./freq_vs_temp_ULE410.csv)"
   ]
  },
  {
   "cell_type": "code",
   "execution_count": 76,
   "metadata": {},
   "outputs": [],
   "source": [
    "data = pd.read_csv('freq_vs_temp_ULE410.csv')\n",
    "lambda_cooling = 821.17269"
   ]
  },
  {
   "cell_type": "code",
   "execution_count": 75,
   "metadata": {},
   "outputs": [
    {
     "name": "stdout",
     "output_type": "stream",
     "text": [
      "params [    2549.1949912  -2093299.52975419]\n",
      "Temperature for desired $\\lambda$=821.172690 is 29.778503\n"
     ]
    },
    {
     "data": {
      "image/png": "[encoded data removed]",
      "text/plain": [
       "<matplotlib.figure.Figure at 0xc00a240>"
      ]
     },
     "metadata": {},
     "output_type": "display_data"
    }
   ],
   "source": [
    "plot(data['T'], data['lambda'],'*-')\n",
    "axhline(lambda_cooling,color='r')\n",
    "xx, yy = data['lambda'], data['T']\n",
    "params = polyfit(xx[1:],yy[1:],1)\n",
    "print('params',params)\n",
    "print(\"Temperature for desired $\\lambda$=%f is %f\"\n",
    "      %(lambda_cooling,params[0]*lambda_cooling + params[1]) )"
   ]
  },
  {
   "cell_type": "code",
   "execution_count": 84,
   "metadata": {},
   "outputs": [
    {
     "name": "stdout",
     "output_type": "stream",
     "text": [
      "Sensetivity to temperature is -194 MHz/degree\n"
     ]
    }
   ],
   "source": [
    "p2  =polyfit(data['T'],data['f'],1)\n",
    "print('Sensetivity to temperature is %.0f MHz/degree' % (p2[0]*1e6) )"
   ]
  },
  {
   "cell_type": "code",
   "execution_count": 8,
   "metadata": {
    "code_folding": [
     0
    ],
    "collapsed": false,
    "run_control": {
     "marked": false
    }
   },
   "outputs": [
    {
     "data": {
      "text/plain": [
       "<matplotlib.text.Text at 0x7dfc358>"
      ]
     },
     "execution_count": 8,
     "metadata": {},
     "output_type": "execute_result"
    },
    {
     "data": {
      "image/png": "[encoded data removed]",
      "text/plain": [
       "<matplotlib.figure.Figure at 0x7cf8b38>"
      ]
     },
     "metadata": {},
     "output_type": "display_data"
    }
   ],
   "source": [
    "# Here all the initialisatoins and functions declare\n",
    "λ = 0.416e-6\n",
    "L = 78e-3\n",
    "R = 500e-3\n",
    "w0 = sqrt(λ*(L/2)/pi * (R/(L/2) - 1)**0.5)\n",
    "c = 3e8 # mm/s\n",
    "z_r = pi*w0**2/λ\n",
    "def r_front(z):\n",
    "    return z*(1 + (pi*w0**2/(λ*z))**2)\n",
    "def w(z):\n",
    "    return w0*sqrt(1 + (λ*z/(pi*w0**2))**2)\n",
    "def ν_mnq(m,n,q):\n",
    "    return c/(2*L) * (q + 1/pi * (m+n+1)*arccos(1-L/R))\n",
    "\n",
    "zz = linspace(0,1,1000)\n",
    "r_beam = 0.372e-3 # mm для объектива C330TME-A - f = 3.1 mm и волокна с NA=0.12\n",
    "plot(zz, w(zz))\n",
    "axhline(y=r_beam,c='r')\n",
    "ylabel('$r_{beam}$, mm',fontsize=16)\n",
    "xlabel('distance from resonator center, mm',fontsize=16)"
   ]
  },
  {
   "cell_type": "code",
   "execution_count": 9,
   "metadata": {
    "collapsed": true
   },
   "outputs": [],
   "source": [
    "def apply_m_to_q(m,q):\n",
    "    return (m[0,0]*q + m[0,1]) / (m[1,0]*q + m[1,1])\n",
    "def m_l(l):\n",
    "    return array([[1,l],[0,1]])\n",
    "def m_f(f):\n",
    "    return array([[1,0],[-1/f,1]])\n",
    "def get_w(q):\n",
    "    return sqrt(λ / (pi * imag(-1/q)))\n",
    "def get_w0(q):\n",
    "    return sqrt(λ / pi * imag(q))"
   ]
  },
  {
   "cell_type": "code",
   "execution_count": 13,
   "metadata": {
    "collapsed": false
   },
   "outputs": [],
   "source": [
    "q0 = 1j*z_r\n",
    "q1 = apply_m_to_q(dot(m_f(-R),m_l(L/2)),q0)"
   ]
  },
  {
   "cell_type": "code",
   "execution_count": 15,
   "metadata": {
    "collapsed": true
   },
   "outputs": [],
   "source": [
    "xs = L/2 + linspace(0,1,100)\n",
    "qs = [apply_m_to_q(m_l(x), q1) for x in xs]\n",
    "ws = [get_w(q) for q in qs]"
   ]
  },
  {
   "cell_type": "code",
   "execution_count": 18,
   "metadata": {
    "collapsed": false
   },
   "outputs": [
    {
     "data": {
      "text/plain": [
       "(0.063209076175040513+0.10865947603802463j)"
      ]
     },
     "execution_count": 18,
     "metadata": {},
     "output_type": "execute_result"
    }
   ],
   "source": [
    "q1"
   ]
  },
  {
   "cell_type": "code",
   "execution_count": 17,
   "metadata": {
    "collapsed": false
   },
   "outputs": [
    {
     "data": {
      "text/plain": [
       "<matplotlib.lines.Line2D at 0x8ecef28>"
      ]
     },
     "execution_count": 17,
     "metadata": {},
     "output_type": "execute_result"
    },
    {
     "data": {
      "image/png": "[encoded data removed]",
      "text/plain": [
       "<matplotlib.figure.Figure at 0x8e85400>"
      ]
     },
     "metadata": {},
     "output_type": "display_data"
    }
   ],
   "source": [
    "plot(xs,ws)\n",
    "r_beam = 0.5e-3 # m для той системы, что там стоит, после АОМа\n",
    "axhline(y=r_beam,c='r')"
   ]
  },
  {
   "cell_type": "markdown",
   "metadata": {},
   "source": [
    "### Расчеты по зависимости показателя преломления от давления и температуры\n",
    "<img  src=\"all_refracrive.png\"/>"
   ]
  },
  {
   "cell_type": "markdown",
   "metadata": {},
   "source": [
    "Refrectivity vs pressure (from around 1000 mb):\n",
    "\n",
    "    {{68/250e06}} /mbar\n",
    "For stabilization with accuracy 1MHz at optical frequency $10^{15}$MHz we need to stabilize pressure with accuracy\n",
    "\n",
    "    {{'%.1e'%(1e-9 / (68/250e06))}} /mbar\n",
    "\n",
    "То есть сразу лучше качать до высокого вакуума и подстраивать АОМами"
   ]
  },
  {
   "cell_type": "markdown",
   "metadata": {},
   "source": [
    "### Возможность смещения линии резонатора"
   ]
  },
  {
   "cell_type": "markdown",
   "metadata": {},
   "source": [
    "<img  src=\"ULE_stab.png\", width=600/>"
   ]
  },
  {
   "cell_type": "markdown",
   "metadata": {},
   "source": [
    "Как видно, изменение частоты лазера с температурой можно аппроксимировать параболической зависимостью \n",
    "\n",
    "\\begin{equation}\n",
    "    \\delta f = \\frac13 \\Delta T, [MHz]\n",
    "\\end{equation}\n",
    "\n",
    "При доступном диапазоне сканирования температуры $20^\\circ$C максимальное перестраивание частоты моды составит 130 кГц \n",
    "\n",
    "### Параметры резонатора\n",
    "Измерил пропускание зеркала -  3 мкВт из 5.3 мВт. Отсюда получается коэффициент пропускания 1-R = {{3/5e+3}}\n",
    "\n",
    "\\begin{equation}\n",
    "F = \\frac{\\pi \\sqrt{R}}{1-R}\n",
    "\\end{equation}\n",
    "\n",
    "and equals to {{'%.0f' % (3.14/(3/5e+3))}}\n",
    "\n",
    "#### Радиусы кривизны и параметры пучка\n",
    "<img  src=\"iu129qgl.bmp\"/> \n",
    "<img  src=\"jpenobbr.bmp\"/>\n",
    "\n",
    "При радиусе зеркал 500 мм и размере резонатора 78 мм перетяжка в центре резонатора получается равной {{w0}} мм.\n",
    "\n",
    "Преломление на стекле зеркала почти не меняет положение фокуса.\n",
    "\n",
    "На рисунке ниже приведены кривые зависимости радиуса пучка от расстояния от ЦЕНТРА резонатора и для графического вычисления построена горизонтальная прямая, соответствующая радиусу почка до согласовывающей линзы. Координата пересечения и есть фокусное расстояние линзы.\n",
    "\n",
    "Для объектива C330TME-A - f = 3.1 mm и волокна с NA=0.12 пулчаем радиус пятна на объективе 0.372мм и находим, что расстояние от него до перетяжки должно быть 350 мм\n",
    "\n",
    "#### Измерения финесс резонатора\n",
    "\n",
    "В файлах 22-25 .csv записаны линии пропускания резонатора. Большие пики - TEM00 мода, через один - TEM01. Обработка этих файлов находится в [transmission_piaks.ipynb](./transmission_picks.ipynb)\n",
    "Из файла 23.csv находим отношение расстояния между TEM00 и TEM01 \n",
    "-                  75, 73.5\n",
    "-    из файла 22: 71 74 75 80 68\n",
    "-    из файла 25: 64 60\n",
    "-    из файла 24: 79 70 69.\n",
    "\n",
    "Усреднив, получаем 75. Отношение ФСР к расстоянию между TEM00 и TEM01 можно найти по формуле (н.р. из Риле):\n",
    "\n",
    "\\begin{equation}\n",
    "\\nu_{m,n,q} = \\frac{c}{2L}(q + ( m + n + 1) * arccos(\\sqrt{1-L/R_1}\\sqrt{1-L/R_1})\n",
    "\\end{equation}\n",
    "\n",
    "находим, что отношение ширины задетектированной линии TEM00 к ФСР составляет 1 / {{'%.0f' % (75*(ν_mnq(0,0,101)-ν_mnq(0,0,100))/(ν_mnq(0,1,100)-ν_mnq(0,0,100)))}}.\n",
    "Так как линии пропускания хорошо фитовались гакссом, а не  лоренцом, то скорее всего это связано с шириной линии лазера. \n",
    "Даже если это наш настоящий финесс, это нас вполне устраивает.\n"
   ]
  },
  {
   "cell_type": "code",
   "execution_count": null,
   "metadata": {
    "collapsed": true
   },
   "outputs": [],
   "source": []
  }
 ],
 "metadata": {
  "hide_input": false,
  "kernelspec": {
   "display_name": "Python 3",
   "language": "python",
   "name": "python3"
  },
  "language_info": {
   "codemirror_mode": {
    "name": "ipython",
    "version": 3
   },
   "file_extension": ".py",
   "mimetype": "text/x-python",
   "name": "python",
   "nbconvert_exporter": "python",
   "pygments_lexer": "ipython3",
   "version": "3.5.1"
  },
  "latex_envs": {
   "bibliofile": "biblio.bib",
   "cite_by": "apalike",
   "current_citInitial": 1,
   "eqLabelWithNumbers": true,
   "eqNumInitial": 0
  }
 },
 "nbformat": 4,
 "nbformat_minor": 0
}
