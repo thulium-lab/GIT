{
 "cells": [
  {
   "cell_type": "code",
   "execution_count": 37,
   "metadata": {
    "collapsed": false
   },
   "outputs": [
    {
     "name": "stdout",
     "output_type": "stream",
     "text": [
      "Populating the interactive namespace from numpy and matplotlib\n"
     ]
    }
   ],
   "source": [
    "%pylab qt\n",
    "import csv\n",
    "#to change working directory\n",
    "#import os\n",
    "#os.chdir(r'D:\\!Data\\2015_09_22')\n",
    "\n",
    "filename = 'tek00024.csv'\n",
    "\n",
    "#only for 2 coloms\n",
    "x = []\n",
    "y = []\n",
    "with open(filename, 'r') as csvfile:\n",
    "    a = csv.reader(csvfile)\n",
    "    for line in a:\n",
    "        x.append(float(line[0]))\n",
    "        y.append(float(line[1]))        \n",
    "# plot(x,y)"
   ]
  },
  {
   "cell_type": "code",
   "execution_count": 39,
   "metadata": {
    "collapsed": false,
    "run_control": {
     "marked": false
    }
   },
   "outputs": [
    {
     "name": "stderr",
     "output_type": "stream",
     "text": [
      "c:\\program files\\anaconda\\lib\\site-packages\\ipykernel\\__main__.py:47: DeprecationWarning: inspect.getargspec() is deprecated, use inspect.signature() instead\n"
     ]
    },
    {
     "name": "stdout",
     "output_type": "stream",
     "text": [
      "Fit parameters: ['N', 'x0', 'sigma', 'background']\n",
      "0 ----> [ 0.0002658  -0.02078823  0.00045367  0.02431271]\n",
      "1 ----> [ 0.00029076  0.00031567  0.00043247  0.02397259]\n",
      "2 ----> [  2.84963408e-05   1.51187016e-02   5.12814808e-04   2.30149047e-02]\n",
      "3 ----> [  3.28709848e-05   3.39998205e-02   4.87855168e-04   2.33392020e-02]\n",
      "4 ----> [  3.41776602e-05   4.49527948e-02   4.82948261e-04   2.34394454e-02]\n",
      "5 ----> [  3.12348832e-05   6.40213385e-02   5.44956129e-04   2.30136185e-02]\n",
      "6 ----> [ 0.00028984  0.07856243  0.0003957   0.02399944]\n",
      "7 ----> [ 0.00014024  0.09976447  0.00048284  0.02413931]\n",
      "8 ----> [  2.80270865e-05   1.14605848e-01   5.16824150e-04   2.30521882e-02]\n",
      "9 ----> [  2.33170183e-05   1.33504070e-01   5.96166918e-04   2.33432843e-02]\n",
      "10 ----> [  2.44196893e-05   1.44479161e-01   5.33681094e-04   2.33418893e-02]\n",
      "11 ----> [  3.19643377e-05   1.63525115e-01   5.40144772e-04   2.30755195e-02]\n"
     ]
    }
   ],
   "source": [
    "# x, y - data to prosess, should be initialize befor\n",
    "\n",
    "# I assume that  command below was executed, qt - to show plots in separate window, use 'inline' instead to plot here \n",
    "#%pylab qt\n",
    "from scipy.optimize import curve_fit\n",
    "from scipy.ndimage import gaussian_filter\n",
    "from inspect import getargspec\n",
    "\n",
    "# Gaussian function\n",
    "def gaussian(x,N,x0,sigma, background):\n",
    "    \"\"\"Returns value of a 1D-gaussian with the given parameters ,N,x0,sigma, background\"\"\"\n",
    "    #from numpy import sqrt,pi,exp\n",
    "    return N / (sigma * sqrt(pi)) * exp(-(x - x0)**2/(sigma**2)) + background\n",
    "\n",
    "# lorentz function\n",
    "def lorenz(x, a, x0, g, bg):\n",
    "    return a * g/2 / ((x-x0)**2 + g**2/4) + bg\n",
    "\n",
    "# If filtering is needed\n",
    "y = gaussian_filter(y,20)\n",
    "\n",
    "# threshold value to find piks and then to estimate width\n",
    "thr = 0.04 #max(y)/2\n",
    "\n",
    "# construct list of indexis y[index] > threshold\n",
    "n1 = [x for (x,val) in enumerate(y) if val > thr] \n",
    "#print(n1)\n",
    "\n",
    "# construct coordinates of beggining and ending of the pick based on threshold value\n",
    "coords = []\n",
    "for num,elem in enumerate(n1):\n",
    "    if num == 0:   # iteration start\n",
    "        st = 0\n",
    "    elif elem - n1[num-1] > 400:    # if jump to next pick, number specifies minimum distance between peaks\n",
    "        coords.append((n1[st],n1[num-1]))\n",
    "        st = num\n",
    "    elif  num == len(n1)-1:       # if came to list end\n",
    "        coords.append((n1[st],n1[num]))\n",
    "# print(coords)        \n",
    "\n",
    "# fitting of individual peak in the neghboring of n * width and plotting them\n",
    "n = 8     #what range to use to find fit\n",
    "plot(x,y)\n",
    "popts = []\n",
    "# fit_func = lorenz\n",
    "fit_func = gaussian\n",
    "print('Fit parameters:',getargspec(fit_func)[0][1:])\n",
    "for num,(lw,up) in enumerate(coords):\n",
    "    width = abs(up - lw)\n",
    "    sls = slice(max(0,lw - n*width), min(up + n*width,len(x)))\n",
    "    popt, pcov = curve_fit(fit_func, x[sls], y[sls],p0=(0.001, (x[up]+x[lw])/2, (x[up]-x[lw]),0.023))\n",
    "    plot(x[sls],fit_func(x[sls],*popt))\n",
    "    popts.append(popt)\n",
    "    annotate(str(num),xy=(popt[1],0))\n",
    "    print(num, '---->', popt)\n",
    "savefig('picks.png',dpi=300)"
   ]
  },
  {
   "cell_type": "code",
   "execution_count": 18,
   "metadata": {
    "collapsed": false
   },
   "outputs": [
    {
     "data": {
      "text/plain": [
       "182.57118164869647"
      ]
     },
     "execution_count": 18,
     "metadata": {},
     "output_type": "execute_result"
    }
   ],
   "source": [
    "# to calculate relation between peak width and distance \n",
    "n0 = 1\n",
    "n1 = 6\n",
    "abs(popts[n0][1] - popts[n1][1]) / popts[n0][2] "
   ]
  },
  {
   "cell_type": "code",
   "execution_count": 8,
   "metadata": {
    "collapsed": false
   },
   "outputs": [
    {
     "data": {
      "text/plain": [
       "'D:\\\\!Data\\\\GIT\\\\ULE_410'"
      ]
     },
     "execution_count": 8,
     "metadata": {},
     "output_type": "execute_result"
    }
   ],
   "source": [
    "pwd"
   ]
  },
  {
   "cell_type": "code",
   "execution_count": null,
   "metadata": {
    "collapsed": true
   },
   "outputs": [],
   "source": []
  }
 ],
 "metadata": {
  "hide_input": false,
  "kernelspec": {
   "display_name": "Python 3",
   "language": "python",
   "name": "python3"
  },
  "language_info": {
   "codemirror_mode": {
    "name": "ipython",
    "version": 3
   },
   "file_extension": ".py",
   "mimetype": "text/x-python",
   "name": "python",
   "nbconvert_exporter": "python",
   "pygments_lexer": "ipython3",
   "version": "3.5.2"
  },
  "latex_envs": {
   "bibliofile": "biblio.bib",
   "cite_by": "apalike",
   "current_citInitial": 1,
   "eqLabelWithNumbers": true,
   "eqNumInitial": 0
  }
 },
 "nbformat": 4,
 "nbformat_minor": 0
}
