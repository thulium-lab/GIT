{
 "cells": [
  {
   "cell_type": "code",
   "execution_count": null,
   "metadata": {
    "collapsed": false
   },
   "outputs": [],
   "source": [
    "%pylab inline\n",
    "import scipy.constants as ct\n",
    "import tkinter.messagebox\n",
    "from ipywidgets import interact"
   ]
  },
  {
   "cell_type": "markdown",
   "metadata": {},
   "source": [
    "Define few constants and functions"
   ]
  },
  {
   "cell_type": "code",
   "execution_count": null,
   "metadata": {
    "collapsed": true
   },
   "outputs": [],
   "source": [
    "g = 1\n",
    "m_b = ct.value('Bohr magneton')\n",
    "m_Tm = 169 * ct.value('atomic mass constant')\n"
   ]
  },
  {
   "cell_type": "code",
   "execution_count": null,
   "metadata": {
    "collapsed": true
   },
   "outputs": [],
   "source": [
    "def cloud_expansion(t, T, r0, t0):\n",
    "    r'np.sqrt(r0**2 + 2 * k_b * T * (t + 1*t0)**2 / m)'\n",
    "    k_b = 1.38e-23\n",
    "    m = 169 * 1.66e-27\n",
    "    return np.sqrt(r0**2 + 2 * k_b * T * (t + 1*t0)**2 / m)\n",
    "def gaussian(x,N,x0,sigma, background):\n",
    "    \"\"\"Returns value of a 1D-gaussian with the given parameters\"\"\"\n",
    "    #from numpy import sqrt,pi,exp\n",
    "    return N / (sigma * sqrt(pi)) * exp(-(x - x0)**2/(sigma**2)) + background\n",
    "def st_g_exp(t,m,dB):\n",
    "    return g*m_b*dB*m/m_Tm * t**2/2"
   ]
  },
  {
   "cell_type": "code",
   "execution_count": null,
   "metadata": {
    "collapsed": false
   },
   "outputs": [],
   "source": [
    "t_f = 20\n",
    "m = 1\n",
    "r0 = 100e-6\n",
    "def plot0(dB=15, T=15):\n",
    "#     dB - gradient in G/cm, T - temperature in uK, t_f - time in ms\n",
    "    t = linspace(0,t_f,100)\n",
    "    displacement = st_g_exp(t*1e-3, m, dB*1e-2)*1e6\n",
    "    cloud_radius = cloud_expansion(t*1e-3, T*1e-6,r0,0)*1e6\n",
    "    free_fall = ct.g * t**2/2\n",
    "    plot(t,cloud_radius,'r',label='radius')\n",
    "    plot(t,displacement,'b',label='distance')\n",
    "    plot(t,free_fall,'k--')\n",
    "    legend(loc='best')\n",
    "    xlabel('time, ms')\n",
    "    ylabel('distance, um')\n",
    "interact(plot0,dB=(1,40,1),T=(1,20,1))"
   ]
  },
  {
   "cell_type": "code",
   "execution_count": null,
   "metadata": {
    "collapsed": false
   },
   "outputs": [],
   "source": [
    "t_f = 20\n",
    "m = 1\n",
    "r0 = 100e-6\n",
    "def plot0(dB=15, T=15):\n",
    "#     dB - gradient in G/cm, T - temperature in uK, t_f - time in ms\n",
    "    figsize(15,15)\n",
    "    t = linspace(0,t_f,t_f)\n",
    "    displacement = st_g_exp(t*1e-3, 1, dB*1e-2)*1e6\n",
    "    cloud_radius = cloud_expansion(t*1e-3, T*1e-6,r0,0)*1e6\n",
    "    free_fall = ct.g * t**2/2\n",
    "#     plot(t,cloud_radius,'r',label='radius')\n",
    "#     plot(t,displacement,'b',label='distance')\n",
    "#     plot(t,free_fall,'k--')\n",
    "    legend(loc='best')\n",
    "    for m in range(-4,5):\n",
    "        errorbar(t,free_fall + m*displacement, yerr=cloud_radius)\n",
    "    xlabel('time, ms')\n",
    "    ylabel('distance, um')\n",
    "interact(plot0,dB=(1,40,1),T=(1,20,1))\n"
   ]
  },
  {
   "cell_type": "code",
   "execution_count": null,
   "metadata": {
    "collapsed": false
   },
   "outputs": [],
   "source": [
    "t_f = 20\n",
    "m = 1\n",
    "r0 = 100e-6\n",
    "ms = range(-4,5)\n",
    "xs = linspace(-5000,5000,1000)\n",
    "def plot0(dB=50, T=12,t=10):\n",
    "#     dB - gradient in G/cm, T - temperature in uK, t_f - time in ms\n",
    "    figsize(20,10)\n",
    "    fig, ax = subplots()\n",
    "#     t = linspace(0,t_f,t_f)\n",
    "#     displacement = st_g_exp(t*1e-3, 1, dB*1e-2)*1e6\n",
    "    cloud_radius = cloud_expansion(t*1e-3, T*1e-6,r0,0)*1e6\n",
    "#     free_fall = ct.g * t**2/2\n",
    "#     plot(t,cloud_radius,'r',label='radius')\n",
    "#     plot(t,displacement,'b',label='distance')\n",
    "#     plot(t,free_fall,'k--')\n",
    "    res = zeros(xs.shape)\n",
    "    axvline(-2500,c='k')\n",
    "    axvline(2500,c='k')\n",
    "    \n",
    "    for m in ms:\n",
    "        pos = st_g_exp(t*1e-3, m, dB*1e-2)*1e6 #-ct.g * t**2/2 + \n",
    "        y = gaussian(xs,1,pos,cloud_radius,0)# * (5-m)#* rand()\n",
    "        ax.plot(xs,y)\n",
    "        res += y\n",
    "    ax.plot(xs,res)\n",
    "    xlabel('time, ms')\n",
    "    ylabel('distance, um')\n",
    "    return ax\n",
    "interact(plot0,dB=(1,50,1),T=(1,20,1),t=(0,20,1))\n"
   ]
  },
  {
   "cell_type": "code",
   "execution_count": null,
   "metadata": {
    "collapsed": false
   },
   "outputs": [],
   "source": [
    "dBs = (15,25,50)\n",
    "params = (((2,15),(7,20),(10,19)),\n",
    "         ((3,11),(12,16),(17,15)),\n",
    "         ((6,8),(12,8),(35,11)))\n",
    "nrows = len(dBs)\n",
    "ncols = len(params)\n",
    "fig, ax = subplots(nrows = nrows,ncols = ncols,sharey=True)\n",
    "for i,dB in enumerate(dBs):\n",
    "    for j,(T,t) in enumerate(params[i]):\n",
    "            cloud_radius = cloud_expansion(t*1e-3, T*1e-6,r0,0)*1e6\n",
    "        #     free_fall = ct.g * t**2/2\n",
    "        #     plot(t,cloud_radius,'r',label='radius')\n",
    "        #     plot(t,displacement,'b',label='distance')\n",
    "        #     plot(t,free_fall,'k--')\n",
    "            res = zeros(xs.shape)\n",
    "            ax[i,j].axvline(-2500,c='k')\n",
    "            ax[i,j].axvline(2500,c='k')\n",
    "\n",
    "            for m in (-4,-3):\n",
    "                pos = st_g_exp(t*1e-3, m, dB*1e-2)*1e6 #-ct.g * t**2/2 + \n",
    "                y = gaussian(xs,1,pos,cloud_radius,0) * ((-m-2)**2)#* rand()\n",
    "                ax[i,j].plot(xs,y)\n",
    "                res += y\n",
    "            ax[i,j].plot(xs,res)\n",
    "            ax[i,j].set_title('dB=%i,T=%i,t=%i'%(dB,T,t))\n",
    "tight_layout()"
   ]
  },
  {
   "cell_type": "code",
   "execution_count": null,
   "metadata": {
    "collapsed": false
   },
   "outputs": [],
   "source": [
    "dBs = (15,25,50)\n",
    "params = (((2,15),(7,20),(10,19)),\n",
    "         ((3,11),(12,16),(17,15)),\n",
    "         ((6,8),(12,8),(35,11)))\n",
    "nrows = len(dBs)\n",
    "ncols = len(params)\n",
    "fig, ax = subplots(nrows = nrows,ncols = ncols,sharey=True)\n",
    "for i,dB in enumerate(dBs):\n",
    "    for j,(T,t) in enumerate(params[i]):\n",
    "            cloud_radius = cloud_expansion(t*1e-3, T*1e-6,r0,0)*1e6\n",
    "        #     free_fall = ct.g * t**2/2\n",
    "        #     plot(t,cloud_radius,'r',label='radius')\n",
    "        #     plot(t,displacement,'b',label='distance')\n",
    "        #     plot(t,free_fall,'k--')\n",
    "            res = zeros(xs.shape)\n",
    "            ax[i,j].axvline(-2500,c='k')\n",
    "            ax[i,j].axvline(2500,c='k')\n",
    "\n",
    "            for m in ms:\n",
    "                pos = st_g_exp(t*1e-3, m, dB*1e-2)*1e6 #-ct.g * t**2/2 + \n",
    "                y = gaussian(xs,1,pos,cloud_radius,0)# * (5-m)#* rand()\n",
    "                ax[i,j].plot(xs,y)\n",
    "                res += y\n",
    "            ax[i,j].plot(xs,res)\n",
    "            ax[i,j].set_title('dB=%i,T=%i,t=%i'%(dB,T,t))\n",
    "tight_layout()"
   ]
  },
  {
   "cell_type": "code",
   "execution_count": null,
   "metadata": {
    "collapsed": true
   },
   "outputs": [],
   "source": []
  }
 ],
 "metadata": {
  "hide_input": false,
  "kernelspec": {
   "display_name": "Python 3",
   "language": "python",
   "name": "python3"
  },
  "language_info": {
   "codemirror_mode": {
    "name": "ipython",
    "version": 3
   },
   "file_extension": ".py",
   "mimetype": "text/x-python",
   "name": "python",
   "nbconvert_exporter": "python",
   "pygments_lexer": "ipython3",
   "version": "3.5.0"
  },
  "latex_envs": {
   "bibliofile": "biblio.bib",
   "cite_by": "apalike",
   "current_citInitial": 1,
   "eqLabelWithNumbers": true,
   "eqNumInitial": 0
  }
 },
 "nbformat": 4,
 "nbformat_minor": 0
}
