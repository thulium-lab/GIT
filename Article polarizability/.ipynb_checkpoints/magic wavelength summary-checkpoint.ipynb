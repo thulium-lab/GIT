{
 "cells": [
  {
   "cell_type": "code",
   "execution_count": 9,
   "metadata": {
    "collapsed": false
   },
   "outputs": [
    {
     "name": "stdout",
     "output_type": "stream",
     "text": [
      "Populating the interactive namespace from numpy and matplotlib\n"
     ]
    }
   ],
   "source": [
    "%pylab inline\n",
    "import scipy.constants as ct"
   ]
  },
  {
   "cell_type": "markdown",
   "metadata": {},
   "source": [
    "### Calculations concerning magic wavelength"
   ]
  },
  {
   "cell_type": "code",
   "execution_count": 15,
   "metadata": {
    "collapsed": false
   },
   "outputs": [],
   "source": [
    "# constants\n",
    "k_b = 1.3806488e-23\n",
    "h_bar = 1.054571726e-34\n",
    "m_at = 1.66053892e-27\n",
    "k = 2*pi/(0.5*1e-6)\n",
    "m = 169\n",
    "c = 299792458 # m\\s\n",
    "ϵ0 = 8.854187817e-12 #F/m\n",
    "α0 = 1.6487772731e-41 #C2 m2 J-1\n",
    "λ = 0.532e-6\n",
    "w0 = 60e-6 # m, waist\n",
    "h = 2*pi*h_bar\n",
    "a0 = ct.value('Bohr radius')"
   ]
  },
  {
   "cell_type": "code",
   "execution_count": 39,
   "metadata": {
    "collapsed": true
   },
   "outputs": [],
   "source": [
    "def I_saturation(γ, λ):\n",
    "    \"\"\"Returns saturation intensity in units W/m^2 \"\"\"\n",
    "    return 2*pi**2*h*c*γ / (3*λ**3)"
   ]
  },
  {
   "cell_type": "markdown",
   "metadata": {},
   "source": [
    "Saturatiom intensity for 806 nm transition"
   ]
  },
  {
   "cell_type": "code",
   "execution_count": 40,
   "metadata": {
    "collapsed": false
   },
   "outputs": [
    {
     "name": "stdout",
     "output_type": "stream",
     "text": [
      "Is806 = 1.6e-02 W/m^2\n"
     ]
    }
   ],
   "source": [
    "γ = 8e3 # Hz\n",
    "λ = 0.86e-6 # m\n",
    "Is806 = I_saturation(8e3,0.86e-6)\n",
    "print('Is806 = %.1e W/m^2' % Is806) "
   ]
  },
  {
   "cell_type": "markdown",
   "metadata": {},
   "source": [
    "For 2D lattice @806 nm with power 1W focused on 50um spot intensity would be"
   ]
  },
  {
   "cell_type": "code",
   "execution_count": 7,
   "metadata": {
    "collapsed": false
   },
   "outputs": [
    {
     "name": "stdout",
     "output_type": "stream",
     "text": [
      "I = 5.1e+08 W/m^2\n"
     ]
    }
   ],
   "source": [
    "I = 8*0.5/(pi*(50e-6)**2)\n",
    "print('I = %.1e W/m^2' % I)"
   ]
  },
  {
   "cell_type": "markdown",
   "metadata": {},
   "source": [
    "Trap depth"
   ]
  },
  {
   "cell_type": "code",
   "execution_count": 19,
   "metadata": {
    "collapsed": false
   },
   "outputs": [
    {
     "name": "stdout",
     "output_type": "stream",
     "text": [
      "U = 19.2 uK\n"
     ]
    }
   ],
   "source": [
    "U = 2 * pi * a0**3/ (c * k_b)* I * 168 * 1e6\n",
    "print('U = %.1f uK' % U)"
   ]
  },
  {
   "cell_type": "markdown",
   "metadata": {},
   "source": [
    "Saturation parameter $S_0$ would be"
   ]
  },
  {
   "cell_type": "code",
   "execution_count": 42,
   "metadata": {
    "collapsed": false
   },
   "outputs": [
    {
     "name": "stdout",
     "output_type": "stream",
     "text": [
      "S0 = 6.2e+10\n"
     ]
    }
   ],
   "source": [
    "S0 = I/Is806\n",
    "print('S0 = %.1e' % S0)"
   ]
  },
  {
   "cell_type": "markdown",
   "metadata": {},
   "source": [
    "Detuning which corresponds to 1nm from 806nm is [in Herz]"
   ]
  },
  {
   "cell_type": "code",
   "execution_count": 48,
   "metadata": {
    "collapsed": false
   },
   "outputs": [
    {
     "name": "stdout",
     "output_type": "stream",
     "text": [
      "Δν = 4.3e+11 Hz\n"
     ]
    }
   ],
   "source": [
    "Δν = 1/806 * c/λ\n",
    "print('Δν = %.1e Hz' % Δν)"
   ]
  },
  {
   "cell_type": "markdown",
   "metadata": {},
   "source": [
    "Saturation is then"
   ]
  },
  {
   "cell_type": "code",
   "execution_count": 44,
   "metadata": {
    "collapsed": false
   },
   "outputs": [
    {
     "name": "stdout",
     "output_type": "stream",
     "text": [
      "S = 5.3e-06\n"
     ]
    }
   ],
   "source": [
    "S = S0 * (γ/2)**2 / ((γ/2)**2 + Δν**2)\n",
    "print('S = %.1e' % S)"
   ]
  },
  {
   "cell_type": "markdown",
   "metadata": {},
   "source": [
    "Corresponding exitation rate would be"
   ]
  },
  {
   "cell_type": "code",
   "execution_count": 45,
   "metadata": {
    "collapsed": false
   },
   "outputs": [
    {
     "name": "stdout",
     "output_type": "stream",
     "text": [
      "Wex = 5.3e-01 c-1\n"
     ]
    }
   ],
   "source": [
    "Wex = 2*S*2*pi*γ\n",
    "print('Wex = %.1e c-1' % Wex)"
   ]
  },
  {
   "cell_type": "markdown",
   "metadata": {},
   "source": [
    "As transition 3 -> 2 is 1/36 of total transition strength (or sum of all clebsh-gordan coefficients), then this rate is expected to be even 36 times smaller, i.e."
   ]
  },
  {
   "cell_type": "code",
   "execution_count": 46,
   "metadata": {
    "collapsed": false
   },
   "outputs": [
    {
     "name": "stdout",
     "output_type": "stream",
     "text": [
      "Wex new = 1.5e-02 c-1\n"
     ]
    }
   ],
   "source": [
    "print('Wex new = %.1e c-1' % (Wex/36))"
   ]
  },
  {
   "cell_type": "code",
   "execution_count": null,
   "metadata": {
    "collapsed": true
   },
   "outputs": [],
   "source": []
  }
 ],
 "metadata": {
  "hide_input": false,
  "kernelspec": {
   "display_name": "Python 3",
   "language": "python",
   "name": "python3"
  },
  "language_info": {
   "codemirror_mode": {
    "name": "ipython",
    "version": 3
   },
   "file_extension": ".py",
   "mimetype": "text/x-python",
   "name": "python",
   "nbconvert_exporter": "python",
   "pygments_lexer": "ipython3",
   "version": "3.5.1"
  },
  "latex_envs": {
   "bibliofile": "biblio.bib",
   "cite_by": "apalike",
   "current_citInitial": 1,
   "eqLabelWithNumbers": true,
   "eqNumInitial": 0
  }
 },
 "nbformat": 4,
 "nbformat_minor": 0
}
