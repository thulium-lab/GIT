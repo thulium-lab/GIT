{
 "cells": [
  {
   "cell_type": "code",
   "execution_count": 96,
   "metadata": {
    "collapsed": false
   },
   "outputs": [
    {
     "name": "stdout",
     "output_type": "stream",
     "text": [
      "Populating the interactive namespace from numpy and matplotlib\n"
     ]
    }
   ],
   "source": [
    "%pylab inline\n",
    "\n",
    "import sys\n",
    "import os"
   ]
  },
  {
   "cell_type": "code",
   "execution_count": 98,
   "metadata": {
    "collapsed": false
   },
   "outputs": [],
   "source": [
    "os.chdir(r'V:\\2016_05_27 T green\\Vertical position\\02 VP f=364.6')\n",
    "#os.chdir(r'V:')"
   ]
  },
  {
   "cell_type": "code",
   "execution_count": 99,
   "metadata": {
    "collapsed": false
   },
   "outputs": [],
   "source": [
    "#os.chdir('..')"
   ]
  },
  {
   "cell_type": "markdown",
   "metadata": {},
   "source": [
    "Вывести список файлов и папок в указанной папке"
   ]
  },
  {
   "cell_type": "code",
   "execution_count": 101,
   "metadata": {
    "collapsed": false,
    "scrolled": false
   },
   "outputs": [
    {
     "data": {
      "text/plain": [
       "['30 T f=364.6 a=-6dBm',\n",
       " '31 as 30 a=-5dBm',\n",
       " '32 as 30 a=-4dBm',\n",
       " '33 as 30 a=-3dBm',\n",
       " '34 as 30 a=-2dBm',\n",
       " '35 as 30 a=-1dBm',\n",
       " '36 as 30 a=0dBm',\n",
       " '37 as 30 a=1dBm',\n",
       " '38 as 30 a=2dBm',\n",
       " '39 as 30 a=3dBm',\n",
       " '40 as 30 a=4dBm',\n",
       " '41 as 30 a=5dBm',\n",
       " '42 as 30 a=6dBm',\n",
       " '43 as 30 a=7dBm',\n",
       " '44 as 30 a=8dBm',\n",
       " '45 as 30 a=9dBm',\n",
       " '46 as 30 a=10dBm']"
      ]
     },
     "execution_count": 101,
     "metadata": {},
     "output_type": "execute_result"
    }
   ],
   "source": [
    "os.listdir(r'V:\\2016_05_27 T green\\Vertical position\\02 VP f=364.6')"
   ]
  },
  {
   "cell_type": "markdown",
   "metadata": {},
   "source": [
    "Переименовать конкретную папку или файл"
   ]
  },
  {
   "cell_type": "code",
   "execution_count": 118,
   "metadata": {
    "collapsed": false
   },
   "outputs": [],
   "source": [
    "os.rename('46 as 30 a=10dBm','10ms')"
   ]
  },
  {
   "cell_type": "markdown",
   "metadata": {},
   "source": [
    "Высести список файлов подходящих под шаблон"
   ]
  },
  {
   "cell_type": "code",
   "execution_count": null,
   "metadata": {
    "collapsed": false
   },
   "outputs": [],
   "source": [
    "[x for x in os.listdir() if re.match(r'.*ms',x)]"
   ]
  },
  {
   "cell_type": "markdown",
   "metadata": {},
   "source": [
    "Функция для переименования папок измерений (оканчивающихся на 'ms' в папке meas_dir. old_strin - часть названия, которая будет заменена на new_string."
   ]
  },
  {
   "cell_type": "code",
   "execution_count": 2,
   "metadata": {
    "collapsed": false
   },
   "outputs": [],
   "source": [
    "def rename_in_meas_folder(meas_dir,old_string,new_string):\n",
    "    for old_name in os.listdir(meas_dir):\n",
    "        if re.match(r'.*ms',old_name):\n",
    "            new_name = old_name.replace(old_string, new_string)\n",
    "            os.rename(os.path.join(meas_dir,old_name), os.path.join(meas_dir,new_name))"
   ]
  },
  {
   "cell_type": "markdown",
   "metadata": {},
   "source": [
    "Пример использования функции - заменяем строку '0.' на '0,'"
   ]
  },
  {
   "cell_type": "code",
   "execution_count": null,
   "metadata": {
    "collapsed": true
   },
   "outputs": [],
   "source": [
    "rename_in_meas_folder('01 lt','0.','0,')"
   ]
  }
 ],
 "metadata": {
  "hide_input": false,
  "kernelspec": {
   "display_name": "Python 3",
   "language": "python",
   "name": "python3"
  },
  "language_info": {
   "codemirror_mode": {
    "name": "ipython",
    "version": 3
   },
   "file_extension": ".py",
   "mimetype": "text/x-python",
   "name": "python",
   "nbconvert_exporter": "python",
   "pygments_lexer": "ipython3",
   "version": "3.5.1"
  },
  "latex_envs": {
   "bibliofile": "biblio.bib",
   "cite_by": "apalike",
   "current_citInitial": 1,
   "eqLabelWithNumbers": true,
   "eqNumInitial": 0
  }
 },
 "nbformat": 4,
 "nbformat_minor": 0
}
