{
 "cells": [
  {
   "cell_type": "markdown",
   "metadata": {},
   "source": [
    "Новая версия в файле Ti:Sa.ipnb"
   ]
  },
  {
   "cell_type": "code",
   "execution_count": 1,
   "metadata": {
    "collapsed": false
   },
   "outputs": [
    {
     "name": "stdout",
     "output_type": "stream",
     "text": [
      "Populating the interactive namespace from numpy and matplotlib\n"
     ]
    }
   ],
   "source": [
    "%pylab inline\n",
    "\n",
    "from ipywidgets import interact"
   ]
  },
  {
   "cell_type": "code",
   "execution_count": 2,
   "metadata": {
    "collapsed": true
   },
   "outputs": [],
   "source": [
    "# r = 40e-3 # curvature of sferical mirrors\n",
    "# l_sp = 80e-3 # distance from sferical to plane mirror\n",
    "# l_pp = 156e-3 - l_sp # distance between to plane mirrors\n",
    "# l_ss = 46e-3 # distance between to curved mirrors\n",
    "λ = 0.81e-6 \n",
    "\n",
    "def apply_m_to_q(m,q):\n",
    "    return (m[0,0]*q + m[0,1]) / (m[1,0]*q + m[1,1])\n",
    "def m_l(l):\n",
    "    return array([[1,l],\n",
    "                  [0,1]])\n",
    "def m_f(f):\n",
    "    return array([[1,0],\n",
    "                  [-1/f,1]])\n",
    "def get_w(q):\n",
    "    return sqrt(λ / (pi * imag(-1/q)))\n",
    "def get_w0(q):\n",
    "    return sqrt(λ / pi * imag(q))\n",
    "def w_z(z,zr,lda):\n",
    "    return sqrt(lda / pi * zr)*sqrt(1 + z**2/zr**2)\n",
    "    "
   ]
  },
  {
   "cell_type": "code",
   "execution_count": 3,
   "metadata": {
    "collapsed": true
   },
   "outputs": [],
   "source": [
    "def matrix_mult(*mts):\n",
    "    if len(mts) > 1:\n",
    "        res = mts[0]\n",
    "        for m in mts[1:]:\n",
    "            res = dot(m,res)\n",
    "        return res"
   ]
  },
  {
   "cell_type": "markdown",
   "metadata": {},
   "source": [
    "НОВАЯ ВЕРСИЯ резонатора с двумя сферическими зеркалами\n",
    "\n",
    "Размер перетяжки практически не зависит от кривизны зеркал (если их расположить на расстоянии радиуса кривизны от центра), и равен примерно 70 мкм, 100 мкм получается уже при смещении каждого зеркала на 5 мм, 150 - на 25мм, 190 - на 100мм. Заказывать нужно зеркала с радиусом 25 или 30 см (лучше 30, т.к. будут стоять дальше от ловушки, но нужно убедиться, что оставшиеся оптические элементы (пьеза, линза и зеркало) влезут снизу). Для выбора размера зеркал нужно посмотреть на то, какие имеются пьезы и может быть попробовать покачать большое зеркало и посмотреть, на какой частоте резонанс.\n",
    "\n",
    "Сами зеркала:\n",
    "- 3x 25 см - HR 810, HT 410,1.14 (как получится); inf - HT 810,410,1.14 уточнить размер\n",
    "- 3x 25 см - PR 90% 810 , HT 410,1.14 (как получится); inf - HT 810,410,1.14 уточнить размер\n",
    "- 6x HR 810,532, HT 410,1.14 0-45 grad 1\"\n"
   ]
  },
  {
   "cell_type": "code",
   "execution_count": 4,
   "metadata": {
    "collapsed": true
   },
   "outputs": [],
   "source": [
    "ht = 0.24\n",
    "hb = 0.24\n",
    "r_m = 0.25"
   ]
  },
  {
   "cell_type": "code",
   "execution_count": 5,
   "metadata": {
    "collapsed": false
   },
   "outputs": [
    {
     "name": "stdout",
     "output_type": "stream",
     "text": [
      "75.8194695132\n"
     ]
    },
    {
     "data": {
      "image/png": "[encoded data removed]",
      "text/plain": [
       "<matplotlib.figure.Figure at 0x10d9a8400>"
      ]
     },
     "metadata": {},
     "output_type": "display_data"
    }
   ],
   "source": [
    "def unit1(ht=ht,hb=hb,r_m=r_m,fl=0.25):\n",
    "    r = matrix_mult(m_l(ht+hb),m_f(r_m/2),m_l(ht+hb),m_f(r_m/2))\n",
    "    zz1 = linspace(0,ht+hb+.015,100)\n",
    "    zr = abs(sqrt((r[0,0]-r[1,1])**2 + 4*r[0,1]*r[1,0] + 0j)/ (2*r[1,0]))\n",
    "    z0 = -(r[1,1] - r[0,0]) / (2*r[1,0])\n",
    "    q0 = z0 + 1j*zr\n",
    "    # print(q0)\n",
    "    ws1 = w_z(zz1+z0,zr,λ)\n",
    "    zz2 = linspace(ht+hb+.015,2*(ht+hb+.015),100)\n",
    "    q1 = apply_m_to_q(m_l(ht+hb+.015),q0)\n",
    "    # print(q1)\n",
    "    q2 = apply_m_to_q(m_f(fl),q1)\n",
    "    # print(q2)\n",
    "    ws2 = w_z(zz2-zz2[0]+real(q2),imag(q2),λ)\n",
    "#     zz3 = linspace(2*l1+l2,2*(l1+l2),200)\n",
    "#     q3 = apply_m_to_q(m_l(l1+l2),q2)\n",
    "    # print(q3)\n",
    "#     q4 = apply_m_to_q(m_f(f2),q3)\n",
    "    # print(q4)\n",
    "#     ws3 = w_z(zz3-zz3[0]+real(q4),imag(q4),λ)\n",
    "    # print(\"Waist at cloud position %.0f um\" % (w_z(ht-zz2[0]+real(q2),imag(q2),λ)*1e6))\n",
    "    plot(zz1,ws1)\n",
    "    plot(zz2,ws2)\n",
    "#     plot(zz3,ws3)\n",
    "    ylim(bottom=0)\n",
    "    vlines(ht,0,1)\n",
    "    print(ws1[50]*1e6)\n",
    "#     print(apply_m_to_q(m_l(hl),q2))\n",
    "interact(unit1,ht=(.14,.3,0.001),hb=(.14,.3,0.001),r_m=(0.1,1,0.01),fl=(.1,.5,.05))"
   ]
  },
  {
   "cell_type": "code",
   "execution_count": 33,
   "metadata": {
    "collapsed": false
   },
   "outputs": [
    {
     "name": "stdout",
     "output_type": "stream",
     "text": [
      "FSR = 300 MHz\n",
      "At expected finess F=30 linewidth = 10 MHz\n"
     ]
    }
   ],
   "source": [
    "fsr = 3e8/(2*0.5)\n",
    "print(\"FSR = %.0f MHz\"% (fsr/1e6))\n",
    "print(\"At expected finess F=30 linewidth = 10 MHz\")"
   ]
  },
  {
   "cell_type": "markdown",
   "metadata": {},
   "source": [
    "Усиливающий резонатор для оптической решетки 810 нм. Скорее всего перевернут.\n",
    "\n",
    "СТАРАЯ ВЕРСИЯ с двумя линзами."
   ]
  },
  {
   "cell_type": "code",
   "execution_count": 4,
   "metadata": {
    "collapsed": true
   },
   "outputs": [],
   "source": [
    "ht = 0.25 # m, from cloud to upper plain mirror\n",
    "hl = 0.3 # m, from cloud to tupper lens\n",
    "hb = 0.2 # m, from cloud to bottom curved mirror\n",
    "fl = 0.2 # m, lens focal distance\n",
    "fb = 0.2 # m, corresponds to x2 curvature"
   ]
  },
  {
   "cell_type": "code",
   "execution_count": 5,
   "metadata": {
    "collapsed": false
   },
   "outputs": [
    {
     "name": "stdout",
     "output_type": "stream",
     "text": [
      "Waist at cloud position 139.4 um\n"
     ]
    },
    {
     "data": {
      "image/png": "[encoded data removed]",
      "text/plain": [
       "<matplotlib.figure.Figure at 0x10cb8a2e8>"
      ]
     },
     "metadata": {},
     "output_type": "display_data"
    }
   ],
   "source": [
    "def unit(fl=fl,fb=fb,hl=hl-0.003,hb=hb):\n",
    "    r = matrix_mult(m_l(ht-hl),m_f(fl),m_l(hl+hb),m_f(fb),m_f(fb),m_l(hl+hb),m_f(fl),m_l(ht-hl))\n",
    "    zz1 = linspace(0,ht-hl,100)\n",
    "    zr = abs(sqrt((r[0,0]-r[1,1])**2 + 4*r[0,1]*r[1,0] + 0j)/ (2*r[1,0]))\n",
    "    ws1 = w_z(zz1,zr,λ)\n",
    "    zz2 = linspace(ht-hl,ht+hb,100)\n",
    "    q1 = apply_m_to_q(m_l(ht-hl),1j*zr)\n",
    "    q2 = apply_m_to_q(m_f(fl),q1)\n",
    "    ws2 = w_z(zz2-zz2[0]+real(q2),imag(q2),λ)\n",
    "    zz3 = linspace(ht+hb,ht+hb+2*hb,100)\n",
    "    q3 = apply_m_to_q(m_l(hb+hl),q2)\n",
    "    q4 = apply_m_to_q(m_f(fb),q3)\n",
    "    ws3 = w_z(zz3-zz3[0]+real(q4),imag(q4),λ)\n",
    "    print(\"Waist at cloud position %.1f um\" % (w_z(ht-zz2[0]+real(q2),imag(q2),λ)*1e6))\n",
    "    plot(zz1,ws1)\n",
    "    plot(zz2,ws2)\n",
    "    plot(zz3,ws3)\n",
    "    ylim(bottom=0)\n",
    "    vlines(ht,0,1)\n",
    "#     print(apply_m_to_q(m_l(hl),q2))\n",
    "interact(unit,fl=(0,1,0.05),fb=(0,1,0.05),hl=(0.15,ht,0.001),hb=(0.15,0.3,0.001))"
   ]
  },
  {
   "cell_type": "markdown",
   "metadata": {},
   "source": [
    "Отсюда видно, что меняя положение линзы hl можно менять перетяжку от 60 мкм до 200 мкм. Скорее всего удобнее делать обратную схему: сверху сферическое зеркало с радиусом кривизны 25 см с нужным коэффициентом отражения, а снизу линза и плоское зеркало. Нужно подумать, как делать завод, потому что когда перетяжка маленькая, фокусировать практически не надо, когда увеличивается, нужно подфокусировать.\n",
    "\n",
    "Завод подсвечивающего и часового излучения через сферическое зеркало, форма пучка показана ниже. Т.е. если делать широкие пучки, то их нужно фокусировать до заводящей практически на рассоянии ее фокусе. Нужно правда думать, что делать с обратным, но скорее всего проще поставить рассеивающую линзу, равную по силе собирающей линзе из резонатора."
   ]
  },
  {
   "cell_type": "code",
   "execution_count": 247,
   "metadata": {
    "collapsed": false
   },
   "outputs": [
    {
     "data": {
      "text/plain": [
       "[<matplotlib.lines.Line2D at 0x10ec15978>]"
      ]
     },
     "execution_count": 247,
     "metadata": {},
     "output_type": "execute_result"
    },
    {
     "data": {
      "image/png": "[encoded data removed]",
      "text/plain": [
       "<matplotlib.figure.Figure at 0x10ec15d30>"
      ]
     },
     "metadata": {},
     "output_type": "display_data"
    }
   ],
   "source": [
    "λb = 0.41e-6\n",
    "w_b = 2e-3\n",
    "zz1 = linspace(0,hb,100)\n",
    "ws1 = w_z(zz1,pi*w_b**2/λb,λb)\n",
    "zz2 = linspace(hb,3*hb,100)\n",
    "q1 = apply_m_to_q(m_l(hb),1j*pi*w_b**2/λb)\n",
    "q2 = apply_m_to_q(m_f(fb),q1)\n",
    "ws2 = w_z(zz2-zz2[0]+real(q2),imag(q2),λb)\n",
    "plot(zz1,ws1)\n",
    "plot(zz2,ws2)\n",
    "# plot(zz3,ws3)"
   ]
  },
  {
   "cell_type": "markdown",
   "metadata": {},
   "source": [
    "Здесь пытался описать кольцевой резонатор. По описанию вроде можно разобраться. Ничего особо разумного  не получилось, нужно будет разбираться подробнее."
   ]
  },
  {
   "cell_type": "code",
   "execution_count": 184,
   "metadata": {
    "collapsed": false
   },
   "outputs": [
    {
     "name": "stdout",
     "output_type": "stream",
     "text": [
      "0.3535533905932738\n",
      "0.895284707521\n"
     ]
    }
   ],
   "source": [
    "l_short = .25\n",
    "ld_short = l_short/2**0.5\n",
    "l_long = .75\n",
    "ld_long = sqrt(l_long**2 + l_short**2)\n",
    "l1 = l_short*2**0.5\n",
    "l2 = (l_short + l_long + ld_long)/2\n",
    "print(l1)\n",
    "print(l2)\n",
    "f1 = 0.7\n",
    "f2 = 2"
   ]
  },
  {
   "cell_type": "code",
   "execution_count": 190,
   "metadata": {
    "collapsed": false
   },
   "outputs": [
    {
     "name": "stdout",
     "output_type": "stream",
     "text": [
      "465.001652973\n"
     ]
    },
    {
     "data": {
      "image/png": "[encoded data removed]",
      "text/plain": [
       "<matplotlib.figure.Figure at 0x10e2c5908>"
      ]
     },
     "metadata": {},
     "output_type": "display_data"
    }
   ],
   "source": [
    "def unit1(f1=f1,f2=f2):\n",
    "    r = matrix_mult(m_l(l1),m_f(f1),m_l(l1+l2),m_f(f2),m_l(l2))\n",
    "    zz1 = linspace(0,l1,100)\n",
    "    zr = abs(sqrt((r[0,0]-r[1,1])**2 + 4*r[0,1]*r[1,0] + 0j)/ (2*r[1,0]))\n",
    "    z0 = -(r[1,1] - r[0,0]) / (2*r[1,0])\n",
    "    q0 = z0 + 1j*zr\n",
    "    # print(q0)\n",
    "    ws1 = w_z(zz1+z0,zr,λ)\n",
    "    zz2 = linspace(l1,2*l1+l2,200)\n",
    "    q1 = apply_m_to_q(m_l(l1),z0+1j*zr)\n",
    "    # print(q1)\n",
    "    q2 = apply_m_to_q(m_f(f1),q1)\n",
    "    # print(q2)\n",
    "    ws2 = w_z(zz2-zz2[0]+real(q2),imag(q2),λ)\n",
    "    zz3 = linspace(2*l1+l2,2*(l1+l2),200)\n",
    "    q3 = apply_m_to_q(m_l(l1+l2),q2)\n",
    "    # print(q3)\n",
    "    q4 = apply_m_to_q(m_f(f2),q3)\n",
    "    # print(q4)\n",
    "    ws3 = w_z(zz3-zz3[0]+real(q4),imag(q4),λ)\n",
    "    # print(\"Waist at cloud position %.0f um\" % (w_z(ht-zz2[0]+real(q2),imag(q2),λ)*1e6))\n",
    "    plot(zz1,ws1)\n",
    "    plot(zz2,ws2)\n",
    "    plot(zz3,ws3)\n",
    "    ylim(bottom=0)\n",
    "    vlines(2*l1,0,1)\n",
    "    print(ws1[0]*1e6)\n",
    "# print(apply_m_to_q(m_l(l2),q4))\n",
    "interact(unit1,f1=(0,1,0.05),f2=(0,1,0.05))"
   ]
  }
 ],
 "metadata": {
  "kernelspec": {
   "display_name": "Python 3",
   "language": "python",
   "name": "python3"
  },
  "language_info": {
   "codemirror_mode": {
    "name": "ipython",
    "version": 3
   },
   "file_extension": ".py",
   "mimetype": "text/x-python",
   "name": "python",
   "nbconvert_exporter": "python",
   "pygments_lexer": "ipython3",
   "version": "3.5.2"
  },
  "latex_envs": {
   "bibliofile": "biblio.bib",
   "cite_by": "apalike",
   "current_citInitial": 1,
   "eqLabelWithNumbers": true,
   "eqNumInitial": 0
  }
 },
 "nbformat": 4,
 "nbformat_minor": 1
}
