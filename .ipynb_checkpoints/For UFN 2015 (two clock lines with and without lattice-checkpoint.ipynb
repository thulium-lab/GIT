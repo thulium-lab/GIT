{
 "cells": [
  {
   "cell_type": "markdown",
   "metadata": {},
   "source": [
    "31.10.2016 \n",
    "Добавлена зависимость смещения центра линии часового от мощности, необходимо для вычисления дифференциальной поляризуемости"
   ]
  },
  {
   "cell_type": "code",
   "execution_count": 1,
   "metadata": {
    "collapsed": false
   },
   "outputs": [
    {
     "name": "stdout",
     "output_type": "stream",
     "text": [
      "Populating the interactive namespace from numpy and matplotlib\n",
      "Done importing, module image_processing now\n"
     ]
    }
   ],
   "source": [
    "%pylab inline\n",
    "import sys\n",
    "import os\n",
    "par_dir = os.path.split(os.getcwd())[0]\n",
    "if par_dir not in sys.path:\n",
    "    sys.path.append(par_dir)\n",
    "import thulium_python_lib.image_processing_new as impr\n",
    "from scipy.optimize import curve_fit\n",
    "fit_func = impr.gaussian"
   ]
  },
  {
   "cell_type": "code",
   "execution_count": 2,
   "metadata": {
    "collapsed": false
   },
   "outputs": [],
   "source": [
    "# res - initial data\n",
    "res= {'13 cl lat=on a=10db, t=1ms f=417.125': array([[ -7.50000000e-01,   1.47184000e+05],\n",
    "        [ -6.00000000e-01,   1.50399000e+05],\n",
    "        [ -4.50000000e-01,   1.50301000e+05],\n",
    "        [ -3.00000000e-01,   1.33130000e+05],\n",
    "        [ -1.50000000e-01,   1.13698000e+05],\n",
    "        [  0.00000000e+00,   1.10529000e+05],\n",
    "        [  1.50000000e-01,   1.23086000e+05],\n",
    "        [  3.00000000e-01,   1.38822000e+05],\n",
    "        [  4.50000000e-01,   1.50726000e+05],\n",
    "        [  6.00000000e-01,   1.53909000e+05],\n",
    "        [  7.50000000e-01,   1.55667000e+05]]),\n",
    " '23 cl lat=on t=1ms a=15db f=417.125': array([[ -7.50000000e-01,   1.16323000e+05],\n",
    "        [ -6.00000000e-01,   1.11897000e+05],\n",
    "        [ -4.50000000e-01,   1.16149000e+05],\n",
    "        [ -3.00000000e-01,   1.09411000e+05],\n",
    "        [ -2.00000000e-01,   1.02661000e+05],\n",
    "        [ -1.50000000e-01,   9.58392000e+04],\n",
    "        [ -1.00000000e-01,   9.13727000e+04],\n",
    "        [ -5.00000000e-02,   8.86458000e+04],\n",
    "        [  0.00000000e+00,   8.75337000e+04],\n",
    "        [  5.00000000e-02,   9.20273000e+04],\n",
    "        [  1.00000000e-01,   8.96294000e+04],\n",
    "        [  1.50000000e-01,   9.50118000e+04],\n",
    "        [  2.00000000e-01,   1.00146000e+05],\n",
    "        [  3.00000000e-01,   1.05454000e+05],\n",
    "        [  4.50000000e-01,   1.11690000e+05],\n",
    "        [  6.00000000e-01,   1.16027000e+05],\n",
    "        [  7.50000000e-01,   1.15547000e+05]]),\n",
    " '24 cl lat=off t=1ms a=15db f=417.65': array([[ -7.50000000e-01,   1.29601000e+05],\n",
    "        [ -6.00000000e-01,   1.26565000e+05],\n",
    "        [ -4.50000000e-01,   1.29106000e+05],\n",
    "        [ -3.00000000e-01,   1.26820000e+05],\n",
    "        [ -2.00000000e-01,   1.24091000e+05],\n",
    "        [ -1.50000000e-01,   1.24814000e+05],\n",
    "        [ -1.00000000e-01,   1.17369000e+05],\n",
    "        [ -5.00000000e-02,   1.11657000e+05],\n",
    "        [  0.00000000e+00,   1.14153000e+05],\n",
    "        [  5.00000000e-02,   1.18962000e+05],\n",
    "        [  1.00000000e-01,   1.22901000e+05],\n",
    "        [  1.50000000e-01,   1.25249000e+05],\n",
    "        [  2.00000000e-01,   1.27680000e+05],\n",
    "        [  3.00000000e-01,   1.30628000e+05],\n",
    "        [  4.50000000e-01,   1.29169000e+05],\n",
    "        [  6.00000000e-01,   1.33871000e+05],\n",
    "        [  7.50000000e-01,   1.32691000e+05]]),\n",
    " '9 cl lat=on t=20ms a=10db f=417.125': array([[ -7.50000000e-01,   1.49278000e+05],\n",
    "        [ -6.00000000e-01,   1.48046000e+05],\n",
    "        [ -4.50000000e-01,   1.41227000e+05],\n",
    "        [ -3.00000000e-01,   9.55532000e+04],\n",
    "        [ -1.50000000e-01,   4.79713000e+04],\n",
    "        [  0.00000000e+00,   3.75233000e+04],\n",
    "        [  1.50000000e-01,   5.74415000e+04],\n",
    "        [  3.00000000e-01,   9.28019000e+04],\n",
    "        [  4.50000000e-01,   1.22209000e+05],\n",
    "        [  6.00000000e-01,   1.38424000e+05],\n",
    "        [  7.50000000e-01,   1.44867000e+05]])}"
   ]
  },
  {
   "cell_type": "code",
   "execution_count": 3,
   "metadata": {
    "collapsed": false
   },
   "outputs": [],
   "source": [
    "data = {'13 cl lat=on a=10db, t=1ms f=417.125': array([[-0.45      ,  0.94550547],\n",
    "        [-0.15      ,  0.96615853],\n",
    "        [ 0.15      ,  0.96552898],\n",
    "        [ 0.45      ,  0.85522301],\n",
    "        [ 0.75      ,  0.73039244],\n",
    "        [ 1.05      ,  0.71003488],\n",
    "        [ 1.35      ,  0.79070066],\n",
    "        [ 1.65      ,  0.89178824],\n",
    "        [ 1.95      ,  0.96825917],\n",
    "        [ 2.25      ,  0.98870666],\n",
    "        [ 2.55      ,  1.        ]]),\n",
    " '23 cl lat=on t=1ms a=15db f=417.125': array([[-0.45      ,  1.        ],\n",
    "        [-0.15      ,  0.96195077],\n",
    "        [ 0.15      ,  0.99850417],\n",
    "        [ 0.45      ,  0.94057925],\n",
    "        [ 0.65      ,  0.88255117],\n",
    "        [ 0.75      ,  0.82390585],\n",
    "        [ 0.85      ,  0.78550845],\n",
    "        [ 0.95      ,  0.76206597],\n",
    "        [ 1.05      ,  0.75250552],\n",
    "        [ 1.15      ,  0.79113589],\n",
    "        [ 1.25      ,  0.77052174],\n",
    "        [ 1.35      ,  0.8167929 ],\n",
    "        [ 1.45      ,  0.86093034],\n",
    "        [ 1.65      ,  0.9065619 ],\n",
    "        [ 1.95      ,  0.96017125],\n",
    "        [ 2.25      ,  0.99745536],\n",
    "        [ 2.55      ,  0.99332892]]),\n",
    " '24 cl lat=off t=1ms a=15db f=417.65': array([[-1.5       ,  0.96810362],\n",
    "        [-1.2       ,  0.94542507],\n",
    "        [-0.9       ,  0.96440603],\n",
    "        [-0.6       ,  0.94732989],\n",
    "        [-0.4       ,  0.9269446 ],\n",
    "        [-0.3       ,  0.93234532],\n",
    "        [-0.2       ,  0.87673208],\n",
    "        [-0.1       ,  0.83406414],\n",
    "        [ 0.        ,  0.85270895],\n",
    "        [ 0.1       ,  0.88863159],\n",
    "        [ 0.2       ,  0.91805544],\n",
    "        [ 0.3       ,  0.93559471],\n",
    "        [ 0.4       ,  0.95375399],\n",
    "        [ 0.6       ,  0.97577519],\n",
    "        [ 0.9       ,  0.96487663],\n",
    "        [ 1.2       ,  1.        ],\n",
    "        [ 1.5       ,  0.99118554]]),\n",
    " '9 cl lat=on t=20ms a=10db f=417.125': array([[-0.45      ,  1.        ],\n",
    "        [-0.15      ,  0.99174694],\n",
    "        [ 0.15      ,  0.94606707],\n",
    "        [ 0.45      ,  0.64010236],\n",
    "        [ 0.75      ,  0.32135546],\n",
    "        [ 1.05      ,  0.25136524],\n",
    "        [ 1.35      ,  0.38479548],\n",
    "        [ 1.65      ,  0.62167165],\n",
    "        [ 1.95      ,  0.81866718],\n",
    "        [ 2.25      ,  0.92729002],\n",
    "        [ 2.55      ,  0.9704511 ]])}"
   ]
  },
  {
   "cell_type": "code",
   "execution_count": 24,
   "metadata": {
    "collapsed": false,
    "scrolled": true
   },
   "outputs": [
    {
     "name": "stdout",
     "output_type": "stream",
     "text": [
      "24 cl lat=off t=1ms a=15db f=417.65 [-0.06083852 -0.05621604  0.28003549  0.96889274]\n",
      "23 cl lat=on t=1ms a=15db f=417.125 [-0.21521142  1.07379894  0.52358168  0.98983828]\n"
     ]
    },
    {
     "data": {
      "text/plain": [
       "<matplotlib.text.Annotation at 0x1078600f0>"
      ]
     },
     "execution_count": 24,
     "metadata": {},
     "output_type": "execute_result"
    },
    {
     "data": {
      "image/png": "[encoded data removed]",
      "text/plain": [
       "<matplotlib.figure.Figure at 0x107860898>"
      ]
     },
     "metadata": {},
     "output_type": "display_data"
    }
   ],
   "source": [
    "#fig1, ax1 = subplots()\n",
    "cols = ['r^','bo']\n",
    "cols2 = ['r','b']\n",
    "i=0\n",
    "for key, value in data.items():\n",
    "    if key == '9 cl lat=on t=20ms a=10db f=417.125' or key == '13 cl lat=on a=10db, t=1ms f=417.125':\n",
    "        continue\n",
    "    popt_T, pcov_T = curve_fit(fit_func, value[:,0],value[:,1], p0=(-1, 0, 1, 1))\n",
    "    plot(value[:,0],value[:,1] / popt_T[-1],cols[i],label=key)\n",
    "    \n",
    "    plot(linspace(-1.5,3,100),  1 / popt_T[-1] * fit_func(linspace(-1.5,3,100),*popt_T),cols2[i])\n",
    "    print(key, popt_T)\n",
    "    i += 1\n",
    "#legend(loc=3)\n",
    "ylim(bottom=0.6)\n",
    "\n",
    "# for russian version\n",
    "#xlabel('Отстройка частоты лазера 1,14 мкм, МГц',family=\"verdana\")\n",
    "#ylabel('Населенность основного состояния',family=\"verdana\")\n",
    "# annotate('свободные атомы', xy=(-0.2, 0.85), xytext=(-1,0.7),\n",
    "#            arrowprops=dict(arrowstyle=\"->\", color='r'),family=\"verdana\")\n",
    "#annotate('оптическая ловушка', xy=(1.5, 0.8), xytext=(1,0.65),\n",
    "#            arrowprops=dict(arrowstyle=\"->\", color='b'),family=\"verdana\")\n",
    "#annotate('свободные атомы', xy=(-0.2, 0.85), xytext=(-1,0.7),\n",
    "#            arrowprops=dict(arrowstyle=\"->\", color='r'),family=\"verdana\")\n",
    "#annotate('оптическая ловушка', xy=(1.5, 0.8), xytext=(1,0.65),\n",
    "#            arrowprops=dict(arrowstyle=\"->\", color='b'),family=\"verdana\")\n",
    "\n",
    "# for english version\n",
    "xlabel('Clock laser frequency detuning, MHz')\n",
    "ylabel('Ground state accupancy')\n",
    "\n",
    "annotate('free atoms', xy=(-0.2, 0.85), xycoords='data',\n",
    "                xytext=(-1,0.7), size=14, textcoords='data', \n",
    "                arrowprops=dict(arrowstyle=\"->\",\n",
    "                                color='r',\n",
    "                                connectionstyle=\"arc3,rad=-0.1\"),\n",
    "                )\n",
    "annotate('atoms in the lattice', xy=(1.5, 0.8), xycoords='data',\n",
    "                xytext=(1,0.65), size=14, textcoords='data', \n",
    "                arrowprops=dict(arrowstyle=\"->\",\n",
    "                                color='b',\n",
    "                                connectionstyle=\"arc3,rad=0.1\"),\n",
    "                )\n",
    "\n",
    "#plot(list(zip(*data[key]))[0],list(zip(*data[key]))[1],'g-o')\n",
    "# savefig('towPlots_eng.png')"
   ]
  },
  {
   "cell_type": "markdown",
   "metadata": {
    "collapsed": true
   },
   "source": [
    "### Resonance shift vs dipole trap power based on measurements from 06.02.2015 and 13.02.2015\n",
    "Подробнее результаты в диссере в clock spectroscopy"
   ]
  },
  {
   "cell_type": "code",
   "execution_count": 56,
   "metadata": {
    "collapsed": false
   },
   "outputs": [
    {
     "data": {
      "image/png": "[encoded data removed]",
      "text/plain": [
       "<matplotlib.figure.Figure at 0x10df02f98>"
      ]
     },
     "metadata": {},
     "output_type": "display_data"
    }
   ],
   "source": [
    "dat1 = [(1,0.43), (1.3,0.37), (1.6,0.29),(1.8,0.22), (2.1, 0.13), (2.4,0.1), (2.7,0.07)]\n",
    "dat2 = [(0,0),(2,1)]\n",
    "dx, dy = zip(*dat1)\n",
    "dx = array(dx)\n",
    "dy = array(dy)\n",
    "dy = .65-dy\n",
    "fig,ax = subplots()\n",
    "ax.plot(dx,dy,'*-')\n",
    "# ax.plot(*zip(*dat2),'ro')\n",
    "# ax.plot(dx,dy-0.2,'^-')\n",
    "# ax.plot((3,),(1,),'bo')\n",
    "ax.set_xlim(left=0)\n",
    "ax.set_ylim(bottom=0)\n",
    "ax.set_xlabel('Dipole trap power, W')\n",
    "ax.set_ylabel('Line center shift, MHz')\n",
    "fig.savefig('shiftDependence.png')"
   ]
  },
  {
   "cell_type": "code",
   "execution_count": 48,
   "metadata": {
    "collapsed": false
   },
   "outputs": [
    {
     "data": {
      "text/plain": [
       "(0, 3.0)"
      ]
     },
     "execution_count": 48,
     "metadata": {},
     "output_type": "execute_result"
    },
    {
     "data": {
      "image/png": "[encoded data removed]",
      "text/plain": [
       "<matplotlib.figure.Figure at 0x10de5dcf8>"
      ]
     },
     "metadata": {},
     "output_type": "display_data"
    }
   ],
   "source": [
    "# fig,ax = subplots()\n",
    "ax.plot(dx,dy,'*-')\n",
    "ax.plot(*zip(*dat2),'ro')\n",
    "ax.set_xlim(left=0)"
   ]
  },
  {
   "cell_type": "code",
   "execution_count": null,
   "metadata": {
    "collapsed": true
   },
   "outputs": [],
   "source": []
  }
 ],
 "metadata": {
  "hide_input": false,
  "kernelspec": {
   "display_name": "Python 3",
   "language": "python",
   "name": "python3"
  },
  "language_info": {
   "codemirror_mode": {
    "name": "ipython",
    "version": 3
   },
   "file_extension": ".py",
   "mimetype": "text/x-python",
   "name": "python",
   "nbconvert_exporter": "python",
   "pygments_lexer": "ipython3",
   "version": "3.5.2"
  },
  "latex_envs": {
   "bibliofile": "biblio.bib",
   "cite_by": "apalike",
   "current_citInitial": 1,
   "eqLabelWithNumbers": true,
   "eqNumInitial": 0
  }
 },
 "nbformat": 4,
 "nbformat_minor": 0
}
