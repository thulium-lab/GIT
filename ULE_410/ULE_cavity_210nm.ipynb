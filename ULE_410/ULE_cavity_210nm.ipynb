{
 "cells": [
  {
   "cell_type": "markdown",
   "metadata": {},
   "source": [
    "<img  src=\"all_refracrive.png\"/>"
   ]
  },
  {
   "cell_type": "markdown",
   "metadata": {
    "variables": {
     "'%.1e'%(1e-9 / (68/250e06))": "3.7e-03",
     "68/250e06": "2.72e-07"
    }
   },
   "source": [
    "Refrectivity vs pressure (from around 1000 mb):\n",
    "\n",
    "    {{68/250e06}} /mbar\n",
    "For stabilization with accuracy 1MHz at optical frequency $10^{15}$MHz we need to stabilize pressure with accuracy\n",
    "\n",
    "    {{'%.1e'%(1e-9 / (68/250e06))}} /mbar\n",
    "\n",
    "То есть сразу лучше качать до высокого вакуума и подстраивать АОМами"
   ]
  },
  {
   "cell_type": "markdown",
   "metadata": {},
   "source": [
    "<img  src=\"ULE_stab.png\"/>"
   ]
  },
  {
   "cell_type": "markdown",
   "metadata": {},
   "source": [
    "Как видно, изменение частоты лазера с температурой можно аппроксимировать параболической зависимостью \n",
    "\n",
    "\\begin{equation}\n",
    "    \\delta f = \\frac13 \\Delta T\n",
    "\\end{equation}\n",
    "\n",
    "При доступном диапазоне сканирования температуры $20^\\circ$C максимальное перестраивание частоты моды составит 130 кГц "
   ]
  },
  {
   "cell_type": "code",
   "execution_count": null,
   "metadata": {
    "collapsed": true
   },
   "outputs": [],
   "source": []
  }
 ],
 "metadata": {
  "hide_input": false,
  "kernelspec": {
   "display_name": "Python 3",
   "language": "python",
   "name": "python3"
  },
  "language_info": {
   "codemirror_mode": {
    "name": "ipython",
    "version": 3
   },
   "file_extension": ".py",
   "mimetype": "text/x-python",
   "name": "python",
   "nbconvert_exporter": "python",
   "pygments_lexer": "ipython3",
   "version": "3.4.3"
  },
  "latex_envs": {
   "bibliofile": "biblio.bib",
   "cite_by": "apalike",
   "current_citInitial": 1,
   "eqLabelWithNumbers": true,
   "eqNumInitial": 0
  }
 },
 "nbformat": 4,
 "nbformat_minor": 0
}
