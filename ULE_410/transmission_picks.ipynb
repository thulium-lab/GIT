{
 "cells": [
  {
   "cell_type": "code",
   "execution_count": 2,
   "metadata": {
    "collapsed": false
   },
   "outputs": [
    {
     "name": "stdout",
     "output_type": "stream",
     "text": [
      "Populating the interactive namespace from numpy and matplotlib\n"
     ]
    },
    {
     "data": {
      "text/plain": [
       "[<matplotlib.lines.Line2D at 0x7a4e898>]"
      ]
     },
     "execution_count": 2,
     "metadata": {},
     "output_type": "execute_result"
    }
   ],
   "source": [
    "%pylab qt\n",
    "import csv\n",
    "#to change working directory\n",
    "#import os\n",
    "#os.chdir(r'D:\\!Data\\2015_09_22')\n",
    "\n",
    "filename = 'tek00023.csv'\n",
    "\n",
    "#only for 2 coloms\n",
    "x = []\n",
    "y = []\n",
    "with open(filename, 'r') as csvfile:\n",
    "    a = csv.reader(csvfile)\n",
    "    for line in a:\n",
    "        x.append(float(line[0]))\n",
    "        y.append(float(line[1]))        \n",
    "plot(x,y)"
   ]
  },
  {
   "cell_type": "code",
   "execution_count": 98,
   "metadata": {
    "collapsed": false,
    "run_control": {
     "marked": false
    }
   },
   "outputs": [
    {
     "name": "stdout",
     "output_type": "stream",
     "text": [
      "Fit parameters: ['N', 'x0', 'sigma', 'background']\n",
      "0 ----> [  8.62960080e-05  -4.76021548e-01   1.68389978e-03   2.32134825e-02]\n",
      "1 ----> [  9.42841711e-05  -4.08522049e-01   1.79990482e-03   2.29792936e-02]\n",
      "2 ----> [ 0.00065744 -0.35710507  0.001479    0.02401031]\n",
      "3 ----> [ 0.00082832 -0.30239619  0.00161387  0.02471149]\n",
      "4 ----> [  9.68281261e-05  -2.49887271e-01   2.06219591e-03   2.28649213e-02]\n",
      "5 ----> [  8.96647832e-05  -1.83177372e-01   1.53308429e-03   2.31170372e-02]\n",
      "6 ----> [  8.55438481e-05  -1.18061215e-01   1.59277534e-03   2.29872333e-02]\n",
      "7 ----> [  9.89347898e-05  -5.05673506e-02   1.87724784e-03   2.29982207e-02]\n",
      "8 ----> [ 0.00080095  0.00104816  0.00173151  0.02427776]\n",
      "9 ----> [ 0.00057398  0.05546427  0.00148017  0.02427074]\n",
      "10 ----> [  1.01144760e-04   1.07934466e-01   1.92271950e-03   2.27311149e-02]\n",
      "11 ----> [  8.05521856e-05   1.74495898e-01   1.60587359e-03   2.33780983e-02]\n",
      "12 ----> [  8.94419058e-05   2.39822736e-01   1.75161373e-03   2.32739407e-02]\n",
      "13 ----> [  9.40976477e-05   3.07259110e-01   1.82452808e-03   2.27637484e-02]\n",
      "14 ----> [ 0.00081718  0.35890988  0.00146537  0.02403634]\n",
      "15 ----> [ 0.00076353  0.41334983  0.00172101  0.02469529]\n",
      "16 ----> [  8.80077641e-05   4.66241097e-01   1.84400369e-03   2.31020572e-02]\n"
     ]
    }
   ],
   "source": [
    "# x, y - data to prosess, should be initialize befor\n",
    "\n",
    "# I assume that  command below was executed, qt - to show plots in separate window, use 'inline' instead to plot here \n",
    "#%pylab qt\n",
    "from scipy.optimize import curve_fit\n",
    "from scipy.ndimage import gaussian_filter\n",
    "from inspect import getargspec\n",
    "\n",
    "# Gaussian function\n",
    "def gaussian(x,N,x0,sigma, background):\n",
    "    \"\"\"Returns value of a 1D-gaussian with the given parameters ,N,x0,sigma, background\"\"\"\n",
    "    #from numpy import sqrt,pi,exp\n",
    "    return N / (sigma * sqrt(pi)) * exp(-(x - x0)**2/(sigma**2)) + background\n",
    "\n",
    "# lorentz function\n",
    "def lorenz(x, a, x0, g, bg):\n",
    "    return a * g/2 / ((x-x0)**2 + g**2/4) + bg\n",
    "\n",
    "# If filtering is needed\n",
    "y = gaussian_filter(y,20)\n",
    "\n",
    "# threshold value to find piks and then to estimate width\n",
    "thr = 0.04 #max(y)/2\n",
    "\n",
    "# construct list of indexis y[index] > threshold\n",
    "n1 = [x for (x,val) in enumerate(y) if val > thr] \n",
    "#print(n1)\n",
    "\n",
    "# construct coordinates of beggining and ending of the pick based on threshold value\n",
    "coords = []\n",
    "for num,elem in enumerate(n1):\n",
    "    if num == 0:   # iteration start\n",
    "        st = 0\n",
    "    elif elem - n1[num-1] > 400:    # if jump to next pick, number specifies minimum distance between peaks\n",
    "        coords.append((n1[st],n1[num-1]))\n",
    "        st = num\n",
    "    elif  num == len(n1)-1:       # if came to list end\n",
    "        coords.append((n1[st],n1[num]))\n",
    "# print(coords)        \n",
    "\n",
    "# fitting of individual peak in the neghboring of n * width and plotting them\n",
    "n = 8     #what range to use to find fit\n",
    "plot(x,y)\n",
    "popts = []\n",
    "# fit_func = lorenz\n",
    "fit_func = gaussian\n",
    "print('Fit parameters:',getargspec(fit_func)[0][1:])\n",
    "for num,(lw,up) in enumerate(coords):\n",
    "    width = abs(up - lw)\n",
    "    sls = slice(max(0,lw - n*width), min(up + n*width,len(x)))\n",
    "    popt, pcov = curve_fit(fit_func, x[sls], y[sls],p0=(0.001, (x[up]+x[lw])/2, (x[up]-x[lw]),0.023))\n",
    "    plot(x[sls],fit_func(x[sls],*popt))\n",
    "    popts.append(popt)\n",
    "    annotate(str(num),xy=(popt[1],0))\n",
    "    print(num, '---->', popt)"
   ]
  },
  {
   "cell_type": "code",
   "execution_count": 94,
   "metadata": {
    "collapsed": false
   },
   "outputs": [
    {
     "data": {
      "text/plain": [
       "67.987105926348761"
      ]
     },
     "execution_count": 94,
     "metadata": {},
     "output_type": "execute_result"
    }
   ],
   "source": [
    "# to calculate relation between peak width and distance \n",
    "n0 = 12\n",
    "n1 = 14\n",
    "abs(popts[n0][1] - popts[n1][1]) / popts[n0][2]"
   ]
  }
 ],
 "metadata": {
  "hide_input": false,
  "kernelspec": {
   "display_name": "Python 3",
   "language": "python",
   "name": "python3"
  },
  "language_info": {
   "codemirror_mode": {
    "name": "ipython",
    "version": 3
   },
   "file_extension": ".py",
   "mimetype": "text/x-python",
   "name": "python",
   "nbconvert_exporter": "python",
   "pygments_lexer": "ipython3",
   "version": "3.5.1"
  },
  "latex_envs": {
   "bibliofile": "biblio.bib",
   "cite_by": "apalike",
   "current_citInitial": 1,
   "eqLabelWithNumbers": true,
   "eqNumInitial": 0
  }
 },
 "nbformat": 4,
 "nbformat_minor": 0
}
