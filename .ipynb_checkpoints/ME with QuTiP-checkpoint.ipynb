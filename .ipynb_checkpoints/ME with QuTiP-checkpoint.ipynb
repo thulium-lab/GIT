{
 "cells": [
  {
   "cell_type": "code",
   "execution_count": 851,
   "metadata": {
    "collapsed": false
   },
   "outputs": [
    {
     "name": "stdout",
     "output_type": "stream",
     "text": [
      "Populating the interactive namespace from numpy and matplotlib\n"
     ]
    },
    {
     "name": "stderr",
     "output_type": "stream",
     "text": [
      "WARNING: pylab import has clobbered these variables: ['shape', 'gamma', 'squeeze', 'entropy', 'info', 'cm', 'identity']\n",
      "`%matplotlib` prevents importing * from pylab and numpy\n"
     ]
    }
   ],
   "source": [
    "%pylab inline\n",
    "\n",
    "from qutip import *\n",
    "\n",
    "from sympy.physics.wigner import wigner_6j\n",
    "from sympy.physics.wigner import clebsch_gordan\n",
    "\n",
    "import copy as copy_package\n",
    "import pandas as pd\n",
    "import scipy.constants as ct\n",
    "\n",
    "mu_b = ct.value('Bohr magneton in Hz/T')*1e-10 \n",
    "\n",
    "from numba import jit"
   ]
  },
  {
   "cell_type": "code",
   "execution_count": 853,
   "metadata": {
    "collapsed": true
   },
   "outputs": [],
   "source": [
    "def gaussian(x,A,x0,sigma):\n",
    "    return A*exp(-(x-x0)**2/(2*sigma**2))\n",
    "\n",
    "def g_f(F,I,J,g_j):\n",
    "    return g_j * ((F*(F+1) - I*(I+1) + J*(J+1))) / (2*F*(F+1))"
   ]
  },
  {
   "cell_type": "code",
   "execution_count": null,
   "metadata": {
    "collapsed": true
   },
   "outputs": [],
   "source": [
    "# Sp = array(([0,0],[1,0]))\n",
    "# Sm = Sp.T\n",
    "# P = dot(Sp,Sm)\n",
    "Γ = 1\n",
    "δ = 1 * Γ\n",
    "Ω = 1 * Γ\n",
    "Ham = -δ * P + Ω/2 * (Sp + Sm) - 1j*Γ/2 * P"
   ]
  },
  {
   "cell_type": "code",
   "execution_count": 8,
   "metadata": {
    "collapsed": false
   },
   "outputs": [],
   "source": [
    "Sp = Qobj(([0,0],[1,0]))"
   ]
  },
  {
   "cell_type": "code",
   "execution_count": 10,
   "metadata": {
    "collapsed": false
   },
   "outputs": [
    {
     "data": {
      "text/latex": [
       "Quantum object: dims = [[2], [2]], shape = [2, 2], type = oper, isherm = False\\begin{equation*}\\left(\\begin{array}{*{11}c}0.0 & 1.0\\\\0.0 & 0.0\\\\\\end{array}\\right)\\end{equation*}"
      ],
      "text/plain": [
       "Quantum object: dims = [[2], [2]], shape = [2, 2], type = oper, isherm = False\n",
       "Qobj data =\n",
       "[[ 0.  1.]\n",
       " [ 0.  0.]]"
      ]
     },
     "execution_count": 10,
     "metadata": {},
     "output_type": "execute_result"
    }
   ],
   "source": [
    "Sm = Sp.dag()\n",
    "Sm"
   ]
  },
  {
   "cell_type": "code",
   "execution_count": 12,
   "metadata": {
    "collapsed": false
   },
   "outputs": [
    {
     "data": {
      "text/latex": [
       "Quantum object: dims = [[2], [2]], shape = [2, 2], type = oper, isherm = True\\begin{equation*}\\left(\\begin{array}{*{11}c}0.0 & 0.0\\\\0.0 & 1.0\\\\\\end{array}\\right)\\end{equation*}"
      ],
      "text/plain": [
       "Quantum object: dims = [[2], [2]], shape = [2, 2], type = oper, isherm = True\n",
       "Qobj data =\n",
       "[[ 0.  0.]\n",
       " [ 0.  1.]]"
      ]
     },
     "execution_count": 12,
     "metadata": {},
     "output_type": "execute_result"
    }
   ],
   "source": [
    "P = Sp*Sm\n",
    "P"
   ]
  },
  {
   "cell_type": "code",
   "execution_count": 100,
   "metadata": {
    "collapsed": true
   },
   "outputs": [],
   "source": [
    "Γ = 1\n",
    "δ = 1 * Γ\n",
    "Ω = 10 * Γ\n",
    "Ham0 = -δ * P\n",
    "Ham1 = 1/2*(Sp + Sm)"
   ]
  },
  {
   "cell_type": "code",
   "execution_count": 105,
   "metadata": {
    "collapsed": true
   },
   "outputs": [],
   "source": [
    "def H1_coeff(t,args):\n",
    "    return gaussian(t,5,2,0.5)#*levels.exitations_table[0][0][2]"
   ]
  },
  {
   "cell_type": "code",
   "execution_count": 106,
   "metadata": {
    "collapsed": false
   },
   "outputs": [
    {
     "data": {
      "text/plain": [
       "[<matplotlib.lines.Line2D at 0x10ea4ca58>]"
      ]
     },
     "execution_count": 106,
     "metadata": {},
     "output_type": "execute_result"
    },
    {
     "data": {
      "image/png": "[encoded data removed]",
      "text/plain": [
       "<matplotlib.figure.Figure at 0x10ea9ffd0>"
      ]
     },
     "metadata": {},
     "output_type": "display_data"
    }
   ],
   "source": [
    "plot(times,H1_coeff(times,0))"
   ]
  },
  {
   "cell_type": "code",
   "execution_count": 88,
   "metadata": {
    "collapsed": false
   },
   "outputs": [
    {
     "data": {
      "text/latex": [
       "Quantum object: dims = [[2], [2]], shape = [2, 2], type = oper, isherm = False\\begin{equation*}\\left(\\begin{array}{*{11}c}0.0 & 1.0\\\\0.0 & 0.0\\\\\\end{array}\\right)\\end{equation*}"
      ],
      "text/plain": [
       "Quantum object: dims = [[2], [2]], shape = [2, 2], type = oper, isherm = False\n",
       "Qobj data =\n",
       "[[ 0.  1.]\n",
       " [ 0.  0.]]"
      ]
     },
     "execution_count": 88,
     "metadata": {},
     "output_type": "execute_result"
    }
   ],
   "source": [
    "Cm = Γ*Sm\n",
    "Cm"
   ]
  },
  {
   "cell_type": "code",
   "execution_count": 655,
   "metadata": {
    "collapsed": false
   },
   "outputs": [
    {
     "data": {
      "text/plain": [
       "[Quantum object: dims = [[3], [3]], shape = [3, 3], type = oper, isherm = False\n",
       " Qobj data =\n",
       " [[ 0.  1.  0.]\n",
       "  [ 0.  0.  0.]\n",
       "  [ 0.  0.  0.]],\n",
       " Quantum object: dims = [[3], [3]], shape = [3, 3], type = oper, isherm = False\n",
       " Qobj data =\n",
       " [[ 0.  0.  0.]\n",
       "  [ 0.  0.  0.]\n",
       "  [ 0.  1.  0.]]]"
      ]
     },
     "execution_count": 655,
     "metadata": {},
     "output_type": "execute_result"
    }
   ],
   "source": [
    "cms"
   ]
  },
  {
   "cell_type": "code",
   "execution_count": 119,
   "metadata": {
    "collapsed": false
   },
   "outputs": [],
   "source": [
    "H = [Ham0,[Ham1,H1_coeff]]"
   ]
  },
  {
   "cell_type": "code",
   "execution_count": 116,
   "metadata": {
    "collapsed": true
   },
   "outputs": [],
   "source": [
    "args = {'A': 5, 'x0':2,'sigma': 0.5}"
   ]
  },
  {
   "cell_type": "code",
   "execution_count": 117,
   "metadata": {
    "collapsed": false
   },
   "outputs": [],
   "source": [
    "psi0 = basis(2,0)\n",
    "times = linspace(0,10,1000)"
   ]
  },
  {
   "cell_type": "code",
   "execution_count": 120,
   "metadata": {
    "collapsed": false
   },
   "outputs": [
    {
     "name": "stdout",
     "output_type": "stream",
     "text": [
      "CPU times: user 3 µs, sys: 1 µs, total: 4 µs\n",
      "Wall time: 18.1 µs\n"
     ]
    }
   ],
   "source": [
    "%time\n",
    "result = mesolve(H, psi0, times, [Cm], [fock_dm(2,0),fock_dm(2,1)])"
   ]
  },
  {
   "cell_type": "code",
   "execution_count": 121,
   "metadata": {
    "collapsed": false
   },
   "outputs": [
    {
     "data": {
      "text/plain": [
       "[<matplotlib.lines.Line2D at 0x1114b3c18>]"
      ]
     },
     "execution_count": 121,
     "metadata": {},
     "output_type": "execute_result"
    },
    {
     "data": {
      "image/png": "[encoded data removed]",
      "text/plain": [
       "<matplotlib.figure.Figure at 0x1114b3b38>"
      ]
     },
     "metadata": {},
     "output_type": "display_data"
    }
   ],
   "source": [
    "plot(times,result.expect[0])\n",
    "plot(times,result.expect[1])"
   ]
  },
  {
   "cell_type": "code",
   "execution_count": 214,
   "metadata": {
    "collapsed": false
   },
   "outputs": [],
   "source": [
    "ops = three_level_ops()"
   ]
  },
  {
   "cell_type": "code",
   "execution_count": 215,
   "metadata": {
    "collapsed": false
   },
   "outputs": [],
   "source": [
    "sts = three_level_basis()"
   ]
  },
  {
   "cell_type": "code",
   "execution_count": 647,
   "metadata": {
    "collapsed": true
   },
   "outputs": [],
   "source": [
    "def H1_coeff(t,args):\n",
    "    return gaussian(t,20,32,4)\n",
    "def H2_coeff(t,args):\n",
    "    return gaussian(t,20,20,6)"
   ]
  },
  {
   "cell_type": "code",
   "execution_count": 648,
   "metadata": {
    "collapsed": false
   },
   "outputs": [
    {
     "data": {
      "text/plain": [
       "[<matplotlib.lines.Line2D at 0x123354630>]"
      ]
     },
     "execution_count": 648,
     "metadata": {},
     "output_type": "execute_result"
    },
    {
     "data": {
      "image/png": "[encoded data removed]",
      "text/plain": [
       "<matplotlib.figure.Figure at 0x123354438>"
      ]
     },
     "metadata": {},
     "output_type": "display_data"
    }
   ],
   "source": [
    "plot(times,H1_coeff(times,0))\n",
    "plot(times,H2_coeff(times,0))"
   ]
  },
  {
   "cell_type": "code",
   "execution_count": 649,
   "metadata": {
    "collapsed": false
   },
   "outputs": [],
   "source": [
    "H0 = -40*ops[1] + 0*ops[2]\n",
    "H1 = 1/2*(ops[3] + ops[3].dag())\n",
    "H2 = 1/2*(ops[4] + ops[4].dag())\n",
    "H = [H0,[H1,H1_coeff],[H2,H2_coeff]]"
   ]
  },
  {
   "cell_type": "code",
   "execution_count": 650,
   "metadata": {
    "collapsed": false
   },
   "outputs": [],
   "source": [
    "cms = [1*ops[3], 1*ops[4]]\n",
    "times = linspace(0,50,40000)"
   ]
  },
  {
   "cell_type": "code",
   "execution_count": 651,
   "metadata": {
    "collapsed": false
   },
   "outputs": [
    {
     "name": "stdout",
     "output_type": "stream",
     "text": [
      "CPU times: user 6.13 s, sys: 91.4 ms, total: 6.22 s\n",
      "Wall time: 6.3 s\n"
     ]
    }
   ],
   "source": [
    "%%time\n",
    "psi0 = fock(3,0)\n",
    "result = mesolve(H, psi0, times, cms, [fock_dm(3,0),fock_dm(3,1),fock_dm(3,2)])"
   ]
  },
  {
   "cell_type": "code",
   "execution_count": 652,
   "metadata": {
    "collapsed": false
   },
   "outputs": [
    {
     "data": {
      "text/plain": [
       "[<matplotlib.lines.Line2D at 0x123aebdd8>]"
      ]
     },
     "execution_count": 652,
     "metadata": {},
     "output_type": "execute_result"
    },
    {
     "data": {
      "image/png": "[encoded data removed]",
      "text/plain": [
       "<matplotlib.figure.Figure at 0x1233544e0>"
      ]
     },
     "metadata": {},
     "output_type": "display_data"
    }
   ],
   "source": [
    "plot(times, result.expect[0])\n",
    "plot(times, result.expect[1])\n",
    "plot(times, result.expect[2])"
   ]
  },
  {
   "cell_type": "code",
   "execution_count": 653,
   "metadata": {
    "collapsed": false
   },
   "outputs": [
    {
     "data": {
      "text/plain": [
       "0.016014803090116662"
      ]
     },
     "execution_count": 653,
     "metadata": {},
     "output_type": "execute_result"
    }
   ],
   "source": [
    "result.expect[0][-1]"
   ]
  },
  {
   "cell_type": "code",
   "execution_count": 654,
   "metadata": {
    "collapsed": false
   },
   "outputs": [
    {
     "data": {
      "text/plain": [
       "0.011858535740966921"
      ]
     },
     "execution_count": 654,
     "metadata": {},
     "output_type": "execute_result"
    }
   ],
   "source": [
    "sum(result.expect[1])*times[1]"
   ]
  },
  {
   "cell_type": "code",
   "execution_count": null,
   "metadata": {
    "collapsed": true
   },
   "outputs": [],
   "source": []
  },
  {
   "cell_type": "code",
   "execution_count": 854,
   "metadata": {
    "collapsed": true
   },
   "outputs": [],
   "source": [
    "class Levels():\n",
    "    def __init__(self):\n",
    "        self.levels = {}\n",
    "        self.sublevels = []\n",
    "        self.levels_names = []\n",
    "    def add_level(self, level):\n",
    "        self.levels[level.name] = level\n",
    "        self.sublevels.extend([subLevel(m_f,level) for m_f in arange(-level.F,+level.F+1)])\n",
    "        self.levels_names.append(level.name)\n",
    "    def __str__(self):\n",
    "        return \"Active levels: \" +  ', '.join(self.levels_names)\n",
    "    def print_sublevels(self):\n",
    "        print('\\n'.join([str(i)+' ' +str(x) for i,x in enumerate(self.sublevels)]))\n",
    "    def construct_decays(self):\n",
    "        decays = []\n",
    "        for i,sublevel in enumerate(self.sublevels):\n",
    "            for level_name, gamma in sublevel.decay_to :\n",
    "                if level_name in self.levels_names:\n",
    "                    level_to = self.levels[level_name]\n",
    "                    for m_f_to in sublevel.m_f + array((-1,0,1)):\n",
    "                        if abs(m_f_to) <= level_to.F:\n",
    "                            index_to = self.sublevels.index(subLevel(m_f_to,level_to))\n",
    "                            sublevel_to = self.sublevels[index_to]\n",
    "                            gm = gamma * (2*sublevel_to.F + 1)*(2*sublevel.J + 1) * \\\n",
    "                                    wigner_6j(sublevel.J,sublevel_to.J,1,sublevel_to.F, sublevel.F,0.5)**2\n",
    "                            gm *= clebsch_gordan(sublevel_to.F,1,sublevel.F,\\\n",
    "                                                 sublevel_to.m_f,sublevel.m_f-sublevel_to.m_f,sublevel.m_f)**2\n",
    "        #                     print(sublevel.name,sublevel.m_f, '->', sublevel_to.name,m_f_to)\n",
    "        #                     print(i, '->', index_to)\n",
    "        #                     print(gm)\n",
    "                            decays.append((i,index_to,gm))\n",
    "        self.decays = array(decays,dtype='int32,int32,float64')\n",
    "    def construct_exitations(self,exitations):\n",
    "        \"\"\"exitations - [(level_from, level_to, delta, q)]\"\"\"\n",
    "        exitations_table = []\n",
    "        for (down, up, delta, q) in exitations:\n",
    "            indexing = []\n",
    "            level_to = levels.levels[up]\n",
    "            for i, sublevel in enumerate(levels.sublevels):\n",
    "                if sublevel.name != down: continue\n",
    "                m_f_from = sublevel.m_f\n",
    "                if m_f_from + q not in range(-level_to.F, +level_to.F + 1): continue\n",
    "                index_to = self.sublevels.index(subLevel(m_f_from + q,level_to))\n",
    "                c_g_coeff = clebsch_gordan(level_to.F,1,sublevel.F,m_f_from + q, -q, m_f_from)\n",
    "                #print(i,'-->',index_to, c_g_coeff)\n",
    "                indexing.append((i,index_to,c_g_coeff))\n",
    "            exitations_table.append(array(indexing,dtype='int32,int32,float64'))\n",
    "        self.exitations_table = exitations_table\n",
    "        self.exitations_for_nb = []\n",
    "        for exitation in self.exitations_table:\n",
    "            self.exitations_for_nb.append((exitation[0][0],exitation[-1][0],exitation[0][1]))\n",
    "    def get_diagonal_hamiltonian(self,B):\n",
    "        \"\"\"Вычисляется до запуска Монте-Карло, поэтому не надо ускорять\n",
    "        Сделаю его частью класса Levels\"\"\"\n",
    "        # argument - magnetic field in Gauss\n",
    "        d_ham = array([mu_b * sublevel.g * sublevel.m_f * B + sublevel.level.delta for sublevel in self.sublevels])\n",
    "        return d_ham\n",
    "    def update_hamiltonian(self,B):\n",
    "        ham = array(diag([mu_b * sublevel.g * sublevel.m_f * B + sublevel.level.delta for sublevel in self.sublevels]),dtype='complex128')\n",
    "        for decay in self.decays:\n",
    "            decay_from  = decay[0]\n",
    "            gamma = decay[2]\n",
    "#             ham[decay_from,decay_from] -= 1j/2 * gamma\n",
    "        \n",
    "        for full_list in self.exitations_table:\n",
    "            for e_list in full_list:\n",
    "                ham[e_list[0],e_list[1]]= e_list[2]\n",
    "                ham[e_list[1],e_list[0]]= e_list[2]\n",
    "        self.hamiltonian0 = ham\n",
    "    \n",
    "    \n",
    "class Level():\n",
    "    def __init__(self, name, J,F,I=1/2,decay_to=[],delta=0,g_j=0):\n",
    "        self.name = name\n",
    "        self.J = J\n",
    "        self.F = F\n",
    "        self.I = I\n",
    "        self.g = g_f(self.F,self.I,self.J,g_j)\n",
    "        self.decay_to = decay_to\n",
    "        self.delta = delta\n",
    "    def __str__(self):\n",
    "        return \"Level %s: J=%.1f F=%i, decays to %s\"%(self.name, self.J, self.F, str(self.decay_to))\n",
    "    \n",
    "    \n",
    "class subLevel(Level):\n",
    "    def __init__(self,m_f,parent):\n",
    "        self.level = parent\n",
    "        for k, v in parent.__dict__.items():\n",
    "            self.__dict__[k] = copy_package.deepcopy(v)\n",
    "        self.m_f = m_f\n",
    "    def __eq__(self,other):\n",
    "        if self.m_f == other.m_f and self.name == other.name:\n",
    "            return True\n",
    "        else:\n",
    "            return False\n",
    "    def __str__(self):\n",
    "        return \"m_f=%s sub\"%(self.m_f) + super().__str__()"
   ]
  },
  {
   "cell_type": "code",
   "execution_count": 855,
   "metadata": {
    "collapsed": false
   },
   "outputs": [],
   "source": [
    "gnd3 = Level('gnd_3',7/2,3,g_j=1.14)\n",
    "gnd4 = Level('gnd_4',7/2,4,g_j=1.14)\n",
    "green4 = Level('green_4',9/2,4,decay_to=[('gnd_4',1),('gnd_3',1)],g_j=1.13)\n",
    "green5 = Level('green_5',9/2,5,decay_to=[('gnd_4',1),('gnd_3',1)],g_j=1.13)"
   ]
  },
  {
   "cell_type": "code",
   "execution_count": 1048,
   "metadata": {
    "collapsed": false
   },
   "outputs": [],
   "source": [
    "levels = Levels()\n",
    "levels.add_level(gnd4)\n",
    "levels.add_level(green5)\n",
    "exitations = [('gnd_4', 'green_5', 0, +1),('gnd_4', 'green_5', 0, -1)]\n",
    "green5.delta = 0\n",
    "levels.construct_decays()\n",
    "levels.construct_exitations(exitations)\n",
    "levels.update_hamiltonian(B=0)"
   ]
  },
  {
   "cell_type": "code",
   "execution_count": 1049,
   "metadata": {
    "collapsed": true
   },
   "outputs": [],
   "source": [
    "levels.N = len(levels.sublevels)"
   ]
  },
  {
   "cell_type": "code",
   "execution_count": 1050,
   "metadata": {
    "collapsed": false
   },
   "outputs": [
    {
     "data": {
      "text/plain": [
       "[array([(0, 11, 0.13483997249264842), (1, 12, 0.23354968324845687),\n",
       "        (2, 13, 0.3302891295379082), (3, 14, 0.4264014327112209),\n",
       "        (4, 15, 0.5222329678670935), (5, 16, 0.6179143806533246),\n",
       "        (6, 17, 0.7135060680126757), (7, 18, 0.8090398349558905),\n",
       "        (8, 19, 0.9045340337332908)], \n",
       "       dtype=[('f0', '<i4'), ('f1', '<i4'), ('f2', '<f8')]),\n",
       " array([(0, 9, 0.9045340337332909), (1, 10, 0.8090398349558905),\n",
       "        (2, 11, 0.7135060680126757), (3, 12, 0.6179143806533246),\n",
       "        (4, 13, 0.5222329678670935), (5, 14, 0.4264014327112209),\n",
       "        (6, 15, 0.3302891295379082), (7, 16, 0.23354968324845687),\n",
       "        (8, 17, 0.1348399724926484)], \n",
       "       dtype=[('f0', '<i4'), ('f1', '<i4'), ('f2', '<f8')])]"
      ]
     },
     "execution_count": 1050,
     "metadata": {},
     "output_type": "execute_result"
    }
   ],
   "source": [
    "levels.exitations_table"
   ]
  },
  {
   "cell_type": "code",
   "execution_count": 1051,
   "metadata": {
    "collapsed": false
   },
   "outputs": [],
   "source": [
    "cms = []\n",
    "N = len(levels.sublevels)\n",
    "for lfrom, lto, gamma in levels.decays:\n",
    "    cms.append(sqrt(gamma)*fock(N,lto)*fock(N,lfrom).dag())"
   ]
  },
  {
   "cell_type": "code",
   "execution_count": 1052,
   "metadata": {
    "collapsed": false
   },
   "outputs": [],
   "source": [
    "res = fock_dm(20)\n",
    "for cm in cms:\n",
    "    res += 2*cm*identity(N)*cm.dag() - cm.dag()*cm - cm.dag()*cm"
   ]
  },
  {
   "cell_type": "code",
   "execution_count": 1053,
   "metadata": {
    "collapsed": false
   },
   "outputs": [
    {
     "data": {
      "text/html": [
       "<div>\n",
       "<table border=\"1\" class=\"dataframe\">\n",
       "  <thead>\n",
       "    <tr style=\"text-align: right;\">\n",
       "      <th></th>\n",
       "      <th>0</th>\n",
       "      <th>1</th>\n",
       "      <th>2</th>\n",
       "      <th>3</th>\n",
       "      <th>4</th>\n",
       "      <th>5</th>\n",
       "      <th>6</th>\n",
       "      <th>7</th>\n",
       "      <th>8</th>\n",
       "      <th>9</th>\n",
       "      <th>10</th>\n",
       "      <th>11</th>\n",
       "      <th>12</th>\n",
       "      <th>13</th>\n",
       "      <th>14</th>\n",
       "      <th>15</th>\n",
       "      <th>16</th>\n",
       "      <th>17</th>\n",
       "      <th>18</th>\n",
       "      <th>19</th>\n",
       "    </tr>\n",
       "  </thead>\n",
       "  <tbody>\n",
       "    <tr>\n",
       "      <th>0</th>\n",
       "      <td>0j</td>\n",
       "      <td>0j</td>\n",
       "      <td>0j</td>\n",
       "      <td>0j</td>\n",
       "      <td>0j</td>\n",
       "      <td>0j</td>\n",
       "      <td>0j</td>\n",
       "      <td>0j</td>\n",
       "      <td>0j</td>\n",
       "      <td>(0.904534033733+0j)</td>\n",
       "      <td>0j</td>\n",
       "      <td>(0.134839972493+0j)</td>\n",
       "      <td>0j</td>\n",
       "      <td>0j</td>\n",
       "      <td>0j</td>\n",
       "      <td>0j</td>\n",
       "      <td>0j</td>\n",
       "      <td>0j</td>\n",
       "      <td>0j</td>\n",
       "      <td>0j</td>\n",
       "    </tr>\n",
       "    <tr>\n",
       "      <th>1</th>\n",
       "      <td>0j</td>\n",
       "      <td>0j</td>\n",
       "      <td>0j</td>\n",
       "      <td>0j</td>\n",
       "      <td>0j</td>\n",
       "      <td>0j</td>\n",
       "      <td>0j</td>\n",
       "      <td>0j</td>\n",
       "      <td>0j</td>\n",
       "      <td>0j</td>\n",
       "      <td>(0.809039834956+0j)</td>\n",
       "      <td>0j</td>\n",
       "      <td>(0.233549683248+0j)</td>\n",
       "      <td>0j</td>\n",
       "      <td>0j</td>\n",
       "      <td>0j</td>\n",
       "      <td>0j</td>\n",
       "      <td>0j</td>\n",
       "      <td>0j</td>\n",
       "      <td>0j</td>\n",
       "    </tr>\n",
       "    <tr>\n",
       "      <th>2</th>\n",
       "      <td>0j</td>\n",
       "      <td>0j</td>\n",
       "      <td>0j</td>\n",
       "      <td>0j</td>\n",
       "      <td>0j</td>\n",
       "      <td>0j</td>\n",
       "      <td>0j</td>\n",
       "      <td>0j</td>\n",
       "      <td>0j</td>\n",
       "      <td>0j</td>\n",
       "      <td>0j</td>\n",
       "      <td>(0.713506068013+0j)</td>\n",
       "      <td>0j</td>\n",
       "      <td>(0.330289129538+0j)</td>\n",
       "      <td>0j</td>\n",
       "      <td>0j</td>\n",
       "      <td>0j</td>\n",
       "      <td>0j</td>\n",
       "      <td>0j</td>\n",
       "      <td>0j</td>\n",
       "    </tr>\n",
       "    <tr>\n",
       "      <th>3</th>\n",
       "      <td>0j</td>\n",
       "      <td>0j</td>\n",
       "      <td>0j</td>\n",
       "      <td>0j</td>\n",
       "      <td>0j</td>\n",
       "      <td>0j</td>\n",
       "      <td>0j</td>\n",
       "      <td>0j</td>\n",
       "      <td>0j</td>\n",
       "      <td>0j</td>\n",
       "      <td>0j</td>\n",
       "      <td>0j</td>\n",
       "      <td>(0.617914380653+0j)</td>\n",
       "      <td>0j</td>\n",
       "      <td>(0.426401432711+0j)</td>\n",
       "      <td>0j</td>\n",
       "      <td>0j</td>\n",
       "      <td>0j</td>\n",
       "      <td>0j</td>\n",
       "      <td>0j</td>\n",
       "    </tr>\n",
       "    <tr>\n",
       "      <th>4</th>\n",
       "      <td>0j</td>\n",
       "      <td>0j</td>\n",
       "      <td>0j</td>\n",
       "      <td>0j</td>\n",
       "      <td>0j</td>\n",
       "      <td>0j</td>\n",
       "      <td>0j</td>\n",
       "      <td>0j</td>\n",
       "      <td>0j</td>\n",
       "      <td>0j</td>\n",
       "      <td>0j</td>\n",
       "      <td>0j</td>\n",
       "      <td>0j</td>\n",
       "      <td>(0.522232967867+0j)</td>\n",
       "      <td>0j</td>\n",
       "      <td>(0.522232967867+0j)</td>\n",
       "      <td>0j</td>\n",
       "      <td>0j</td>\n",
       "      <td>0j</td>\n",
       "      <td>0j</td>\n",
       "    </tr>\n",
       "    <tr>\n",
       "      <th>5</th>\n",
       "      <td>0j</td>\n",
       "      <td>0j</td>\n",
       "      <td>0j</td>\n",
       "      <td>0j</td>\n",
       "      <td>0j</td>\n",
       "      <td>0j</td>\n",
       "      <td>0j</td>\n",
       "      <td>0j</td>\n",
       "      <td>0j</td>\n",
       "      <td>0j</td>\n",
       "      <td>0j</td>\n",
       "      <td>0j</td>\n",
       "      <td>0j</td>\n",
       "      <td>0j</td>\n",
       "      <td>(0.426401432711+0j)</td>\n",
       "      <td>0j</td>\n",
       "      <td>(0.617914380653+0j)</td>\n",
       "      <td>0j</td>\n",
       "      <td>0j</td>\n",
       "      <td>0j</td>\n",
       "    </tr>\n",
       "    <tr>\n",
       "      <th>6</th>\n",
       "      <td>0j</td>\n",
       "      <td>0j</td>\n",
       "      <td>0j</td>\n",
       "      <td>0j</td>\n",
       "      <td>0j</td>\n",
       "      <td>0j</td>\n",
       "      <td>0j</td>\n",
       "      <td>0j</td>\n",
       "      <td>0j</td>\n",
       "      <td>0j</td>\n",
       "      <td>0j</td>\n",
       "      <td>0j</td>\n",
       "      <td>0j</td>\n",
       "      <td>0j</td>\n",
       "      <td>0j</td>\n",
       "      <td>(0.330289129538+0j)</td>\n",
       "      <td>0j</td>\n",
       "      <td>(0.713506068013+0j)</td>\n",
       "      <td>0j</td>\n",
       "      <td>0j</td>\n",
       "    </tr>\n",
       "    <tr>\n",
       "      <th>7</th>\n",
       "      <td>0j</td>\n",
       "      <td>0j</td>\n",
       "      <td>0j</td>\n",
       "      <td>0j</td>\n",
       "      <td>0j</td>\n",
       "      <td>0j</td>\n",
       "      <td>0j</td>\n",
       "      <td>0j</td>\n",
       "      <td>0j</td>\n",
       "      <td>0j</td>\n",
       "      <td>0j</td>\n",
       "      <td>0j</td>\n",
       "      <td>0j</td>\n",
       "      <td>0j</td>\n",
       "      <td>0j</td>\n",
       "      <td>0j</td>\n",
       "      <td>(0.233549683248+0j)</td>\n",
       "      <td>0j</td>\n",
       "      <td>(0.809039834956+0j)</td>\n",
       "      <td>0j</td>\n",
       "    </tr>\n",
       "    <tr>\n",
       "      <th>8</th>\n",
       "      <td>0j</td>\n",
       "      <td>0j</td>\n",
       "      <td>0j</td>\n",
       "      <td>0j</td>\n",
       "      <td>0j</td>\n",
       "      <td>0j</td>\n",
       "      <td>0j</td>\n",
       "      <td>0j</td>\n",
       "      <td>0j</td>\n",
       "      <td>0j</td>\n",
       "      <td>0j</td>\n",
       "      <td>0j</td>\n",
       "      <td>0j</td>\n",
       "      <td>0j</td>\n",
       "      <td>0j</td>\n",
       "      <td>0j</td>\n",
       "      <td>0j</td>\n",
       "      <td>(0.134839972493+0j)</td>\n",
       "      <td>0j</td>\n",
       "      <td>(0.904534033733+0j)</td>\n",
       "    </tr>\n",
       "    <tr>\n",
       "      <th>9</th>\n",
       "      <td>(0.904534033733+0j)</td>\n",
       "      <td>0j</td>\n",
       "      <td>0j</td>\n",
       "      <td>0j</td>\n",
       "      <td>0j</td>\n",
       "      <td>0j</td>\n",
       "      <td>0j</td>\n",
       "      <td>0j</td>\n",
       "      <td>0j</td>\n",
       "      <td>0j</td>\n",
       "      <td>0j</td>\n",
       "      <td>0j</td>\n",
       "      <td>0j</td>\n",
       "      <td>0j</td>\n",
       "      <td>0j</td>\n",
       "      <td>0j</td>\n",
       "      <td>0j</td>\n",
       "      <td>0j</td>\n",
       "      <td>0j</td>\n",
       "      <td>0j</td>\n",
       "    </tr>\n",
       "    <tr>\n",
       "      <th>10</th>\n",
       "      <td>0j</td>\n",
       "      <td>(0.809039834956+0j)</td>\n",
       "      <td>0j</td>\n",
       "      <td>0j</td>\n",
       "      <td>0j</td>\n",
       "      <td>0j</td>\n",
       "      <td>0j</td>\n",
       "      <td>0j</td>\n",
       "      <td>0j</td>\n",
       "      <td>0j</td>\n",
       "      <td>0j</td>\n",
       "      <td>0j</td>\n",
       "      <td>0j</td>\n",
       "      <td>0j</td>\n",
       "      <td>0j</td>\n",
       "      <td>0j</td>\n",
       "      <td>0j</td>\n",
       "      <td>0j</td>\n",
       "      <td>0j</td>\n",
       "      <td>0j</td>\n",
       "    </tr>\n",
       "    <tr>\n",
       "      <th>11</th>\n",
       "      <td>(0.134839972493+0j)</td>\n",
       "      <td>0j</td>\n",
       "      <td>(0.713506068013+0j)</td>\n",
       "      <td>0j</td>\n",
       "      <td>0j</td>\n",
       "      <td>0j</td>\n",
       "      <td>0j</td>\n",
       "      <td>0j</td>\n",
       "      <td>0j</td>\n",
       "      <td>0j</td>\n",
       "      <td>0j</td>\n",
       "      <td>0j</td>\n",
       "      <td>0j</td>\n",
       "      <td>0j</td>\n",
       "      <td>0j</td>\n",
       "      <td>0j</td>\n",
       "      <td>0j</td>\n",
       "      <td>0j</td>\n",
       "      <td>0j</td>\n",
       "      <td>0j</td>\n",
       "    </tr>\n",
       "    <tr>\n",
       "      <th>12</th>\n",
       "      <td>0j</td>\n",
       "      <td>(0.233549683248+0j)</td>\n",
       "      <td>0j</td>\n",
       "      <td>(0.617914380653+0j)</td>\n",
       "      <td>0j</td>\n",
       "      <td>0j</td>\n",
       "      <td>0j</td>\n",
       "      <td>0j</td>\n",
       "      <td>0j</td>\n",
       "      <td>0j</td>\n",
       "      <td>0j</td>\n",
       "      <td>0j</td>\n",
       "      <td>0j</td>\n",
       "      <td>0j</td>\n",
       "      <td>0j</td>\n",
       "      <td>0j</td>\n",
       "      <td>0j</td>\n",
       "      <td>0j</td>\n",
       "      <td>0j</td>\n",
       "      <td>0j</td>\n",
       "    </tr>\n",
       "    <tr>\n",
       "      <th>13</th>\n",
       "      <td>0j</td>\n",
       "      <td>0j</td>\n",
       "      <td>(0.330289129538+0j)</td>\n",
       "      <td>0j</td>\n",
       "      <td>(0.522232967867+0j)</td>\n",
       "      <td>0j</td>\n",
       "      <td>0j</td>\n",
       "      <td>0j</td>\n",
       "      <td>0j</td>\n",
       "      <td>0j</td>\n",
       "      <td>0j</td>\n",
       "      <td>0j</td>\n",
       "      <td>0j</td>\n",
       "      <td>0j</td>\n",
       "      <td>0j</td>\n",
       "      <td>0j</td>\n",
       "      <td>0j</td>\n",
       "      <td>0j</td>\n",
       "      <td>0j</td>\n",
       "      <td>0j</td>\n",
       "    </tr>\n",
       "    <tr>\n",
       "      <th>14</th>\n",
       "      <td>0j</td>\n",
       "      <td>0j</td>\n",
       "      <td>0j</td>\n",
       "      <td>(0.426401432711+0j)</td>\n",
       "      <td>0j</td>\n",
       "      <td>(0.426401432711+0j)</td>\n",
       "      <td>0j</td>\n",
       "      <td>0j</td>\n",
       "      <td>0j</td>\n",
       "      <td>0j</td>\n",
       "      <td>0j</td>\n",
       "      <td>0j</td>\n",
       "      <td>0j</td>\n",
       "      <td>0j</td>\n",
       "      <td>0j</td>\n",
       "      <td>0j</td>\n",
       "      <td>0j</td>\n",
       "      <td>0j</td>\n",
       "      <td>0j</td>\n",
       "      <td>0j</td>\n",
       "    </tr>\n",
       "    <tr>\n",
       "      <th>15</th>\n",
       "      <td>0j</td>\n",
       "      <td>0j</td>\n",
       "      <td>0j</td>\n",
       "      <td>0j</td>\n",
       "      <td>(0.522232967867+0j)</td>\n",
       "      <td>0j</td>\n",
       "      <td>(0.330289129538+0j)</td>\n",
       "      <td>0j</td>\n",
       "      <td>0j</td>\n",
       "      <td>0j</td>\n",
       "      <td>0j</td>\n",
       "      <td>0j</td>\n",
       "      <td>0j</td>\n",
       "      <td>0j</td>\n",
       "      <td>0j</td>\n",
       "      <td>0j</td>\n",
       "      <td>0j</td>\n",
       "      <td>0j</td>\n",
       "      <td>0j</td>\n",
       "      <td>0j</td>\n",
       "    </tr>\n",
       "    <tr>\n",
       "      <th>16</th>\n",
       "      <td>0j</td>\n",
       "      <td>0j</td>\n",
       "      <td>0j</td>\n",
       "      <td>0j</td>\n",
       "      <td>0j</td>\n",
       "      <td>(0.617914380653+0j)</td>\n",
       "      <td>0j</td>\n",
       "      <td>(0.233549683248+0j)</td>\n",
       "      <td>0j</td>\n",
       "      <td>0j</td>\n",
       "      <td>0j</td>\n",
       "      <td>0j</td>\n",
       "      <td>0j</td>\n",
       "      <td>0j</td>\n",
       "      <td>0j</td>\n",
       "      <td>0j</td>\n",
       "      <td>0j</td>\n",
       "      <td>0j</td>\n",
       "      <td>0j</td>\n",
       "      <td>0j</td>\n",
       "    </tr>\n",
       "    <tr>\n",
       "      <th>17</th>\n",
       "      <td>0j</td>\n",
       "      <td>0j</td>\n",
       "      <td>0j</td>\n",
       "      <td>0j</td>\n",
       "      <td>0j</td>\n",
       "      <td>0j</td>\n",
       "      <td>(0.713506068013+0j)</td>\n",
       "      <td>0j</td>\n",
       "      <td>(0.134839972493+0j)</td>\n",
       "      <td>0j</td>\n",
       "      <td>0j</td>\n",
       "      <td>0j</td>\n",
       "      <td>0j</td>\n",
       "      <td>0j</td>\n",
       "      <td>0j</td>\n",
       "      <td>0j</td>\n",
       "      <td>0j</td>\n",
       "      <td>0j</td>\n",
       "      <td>0j</td>\n",
       "      <td>0j</td>\n",
       "    </tr>\n",
       "    <tr>\n",
       "      <th>18</th>\n",
       "      <td>0j</td>\n",
       "      <td>0j</td>\n",
       "      <td>0j</td>\n",
       "      <td>0j</td>\n",
       "      <td>0j</td>\n",
       "      <td>0j</td>\n",
       "      <td>0j</td>\n",
       "      <td>(0.809039834956+0j)</td>\n",
       "      <td>0j</td>\n",
       "      <td>0j</td>\n",
       "      <td>0j</td>\n",
       "      <td>0j</td>\n",
       "      <td>0j</td>\n",
       "      <td>0j</td>\n",
       "      <td>0j</td>\n",
       "      <td>0j</td>\n",
       "      <td>0j</td>\n",
       "      <td>0j</td>\n",
       "      <td>0j</td>\n",
       "      <td>0j</td>\n",
       "    </tr>\n",
       "    <tr>\n",
       "      <th>19</th>\n",
       "      <td>0j</td>\n",
       "      <td>0j</td>\n",
       "      <td>0j</td>\n",
       "      <td>0j</td>\n",
       "      <td>0j</td>\n",
       "      <td>0j</td>\n",
       "      <td>0j</td>\n",
       "      <td>0j</td>\n",
       "      <td>(0.904534033733+0j)</td>\n",
       "      <td>0j</td>\n",
       "      <td>0j</td>\n",
       "      <td>0j</td>\n",
       "      <td>0j</td>\n",
       "      <td>0j</td>\n",
       "      <td>0j</td>\n",
       "      <td>0j</td>\n",
       "      <td>0j</td>\n",
       "      <td>0j</td>\n",
       "      <td>0j</td>\n",
       "      <td>0j</td>\n",
       "    </tr>\n",
       "  </tbody>\n",
       "</table>\n",
       "</div>"
      ],
      "text/plain": [
       "                     0                    1                    2   \\\n",
       "0                    0j                   0j                   0j   \n",
       "1                    0j                   0j                   0j   \n",
       "2                    0j                   0j                   0j   \n",
       "3                    0j                   0j                   0j   \n",
       "4                    0j                   0j                   0j   \n",
       "5                    0j                   0j                   0j   \n",
       "6                    0j                   0j                   0j   \n",
       "7                    0j                   0j                   0j   \n",
       "8                    0j                   0j                   0j   \n",
       "9   (0.904534033733+0j)                   0j                   0j   \n",
       "10                   0j  (0.809039834956+0j)                   0j   \n",
       "11  (0.134839972493+0j)                   0j  (0.713506068013+0j)   \n",
       "12                   0j  (0.233549683248+0j)                   0j   \n",
       "13                   0j                   0j  (0.330289129538+0j)   \n",
       "14                   0j                   0j                   0j   \n",
       "15                   0j                   0j                   0j   \n",
       "16                   0j                   0j                   0j   \n",
       "17                   0j                   0j                   0j   \n",
       "18                   0j                   0j                   0j   \n",
       "19                   0j                   0j                   0j   \n",
       "\n",
       "                     3                    4                    5   \\\n",
       "0                    0j                   0j                   0j   \n",
       "1                    0j                   0j                   0j   \n",
       "2                    0j                   0j                   0j   \n",
       "3                    0j                   0j                   0j   \n",
       "4                    0j                   0j                   0j   \n",
       "5                    0j                   0j                   0j   \n",
       "6                    0j                   0j                   0j   \n",
       "7                    0j                   0j                   0j   \n",
       "8                    0j                   0j                   0j   \n",
       "9                    0j                   0j                   0j   \n",
       "10                   0j                   0j                   0j   \n",
       "11                   0j                   0j                   0j   \n",
       "12  (0.617914380653+0j)                   0j                   0j   \n",
       "13                   0j  (0.522232967867+0j)                   0j   \n",
       "14  (0.426401432711+0j)                   0j  (0.426401432711+0j)   \n",
       "15                   0j  (0.522232967867+0j)                   0j   \n",
       "16                   0j                   0j  (0.617914380653+0j)   \n",
       "17                   0j                   0j                   0j   \n",
       "18                   0j                   0j                   0j   \n",
       "19                   0j                   0j                   0j   \n",
       "\n",
       "                     6                    7                    8   \\\n",
       "0                    0j                   0j                   0j   \n",
       "1                    0j                   0j                   0j   \n",
       "2                    0j                   0j                   0j   \n",
       "3                    0j                   0j                   0j   \n",
       "4                    0j                   0j                   0j   \n",
       "5                    0j                   0j                   0j   \n",
       "6                    0j                   0j                   0j   \n",
       "7                    0j                   0j                   0j   \n",
       "8                    0j                   0j                   0j   \n",
       "9                    0j                   0j                   0j   \n",
       "10                   0j                   0j                   0j   \n",
       "11                   0j                   0j                   0j   \n",
       "12                   0j                   0j                   0j   \n",
       "13                   0j                   0j                   0j   \n",
       "14                   0j                   0j                   0j   \n",
       "15  (0.330289129538+0j)                   0j                   0j   \n",
       "16                   0j  (0.233549683248+0j)                   0j   \n",
       "17  (0.713506068013+0j)                   0j  (0.134839972493+0j)   \n",
       "18                   0j  (0.809039834956+0j)                   0j   \n",
       "19                   0j                   0j  (0.904534033733+0j)   \n",
       "\n",
       "                     9                    10                   11  \\\n",
       "0   (0.904534033733+0j)                   0j  (0.134839972493+0j)   \n",
       "1                    0j  (0.809039834956+0j)                   0j   \n",
       "2                    0j                   0j  (0.713506068013+0j)   \n",
       "3                    0j                   0j                   0j   \n",
       "4                    0j                   0j                   0j   \n",
       "5                    0j                   0j                   0j   \n",
       "6                    0j                   0j                   0j   \n",
       "7                    0j                   0j                   0j   \n",
       "8                    0j                   0j                   0j   \n",
       "9                    0j                   0j                   0j   \n",
       "10                   0j                   0j                   0j   \n",
       "11                   0j                   0j                   0j   \n",
       "12                   0j                   0j                   0j   \n",
       "13                   0j                   0j                   0j   \n",
       "14                   0j                   0j                   0j   \n",
       "15                   0j                   0j                   0j   \n",
       "16                   0j                   0j                   0j   \n",
       "17                   0j                   0j                   0j   \n",
       "18                   0j                   0j                   0j   \n",
       "19                   0j                   0j                   0j   \n",
       "\n",
       "                     12                   13                   14  \\\n",
       "0                    0j                   0j                   0j   \n",
       "1   (0.233549683248+0j)                   0j                   0j   \n",
       "2                    0j  (0.330289129538+0j)                   0j   \n",
       "3   (0.617914380653+0j)                   0j  (0.426401432711+0j)   \n",
       "4                    0j  (0.522232967867+0j)                   0j   \n",
       "5                    0j                   0j  (0.426401432711+0j)   \n",
       "6                    0j                   0j                   0j   \n",
       "7                    0j                   0j                   0j   \n",
       "8                    0j                   0j                   0j   \n",
       "9                    0j                   0j                   0j   \n",
       "10                   0j                   0j                   0j   \n",
       "11                   0j                   0j                   0j   \n",
       "12                   0j                   0j                   0j   \n",
       "13                   0j                   0j                   0j   \n",
       "14                   0j                   0j                   0j   \n",
       "15                   0j                   0j                   0j   \n",
       "16                   0j                   0j                   0j   \n",
       "17                   0j                   0j                   0j   \n",
       "18                   0j                   0j                   0j   \n",
       "19                   0j                   0j                   0j   \n",
       "\n",
       "                     15                   16                   17  \\\n",
       "0                    0j                   0j                   0j   \n",
       "1                    0j                   0j                   0j   \n",
       "2                    0j                   0j                   0j   \n",
       "3                    0j                   0j                   0j   \n",
       "4   (0.522232967867+0j)                   0j                   0j   \n",
       "5                    0j  (0.617914380653+0j)                   0j   \n",
       "6   (0.330289129538+0j)                   0j  (0.713506068013+0j)   \n",
       "7                    0j  (0.233549683248+0j)                   0j   \n",
       "8                    0j                   0j  (0.134839972493+0j)   \n",
       "9                    0j                   0j                   0j   \n",
       "10                   0j                   0j                   0j   \n",
       "11                   0j                   0j                   0j   \n",
       "12                   0j                   0j                   0j   \n",
       "13                   0j                   0j                   0j   \n",
       "14                   0j                   0j                   0j   \n",
       "15                   0j                   0j                   0j   \n",
       "16                   0j                   0j                   0j   \n",
       "17                   0j                   0j                   0j   \n",
       "18                   0j                   0j                   0j   \n",
       "19                   0j                   0j                   0j   \n",
       "\n",
       "                     18                   19  \n",
       "0                    0j                   0j  \n",
       "1                    0j                   0j  \n",
       "2                    0j                   0j  \n",
       "3                    0j                   0j  \n",
       "4                    0j                   0j  \n",
       "5                    0j                   0j  \n",
       "6                    0j                   0j  \n",
       "7   (0.809039834956+0j)                   0j  \n",
       "8                    0j  (0.904534033733+0j)  \n",
       "9                    0j                   0j  \n",
       "10                   0j                   0j  \n",
       "11                   0j                   0j  \n",
       "12                   0j                   0j  \n",
       "13                   0j                   0j  \n",
       "14                   0j                   0j  \n",
       "15                   0j                   0j  \n",
       "16                   0j                   0j  \n",
       "17                   0j                   0j  \n",
       "18                   0j                   0j  \n",
       "19                   0j                   0j  "
      ]
     },
     "execution_count": 1053,
     "metadata": {},
     "output_type": "execute_result"
    }
   ],
   "source": [
    "pd.DataFrame(levels.hamiltonian0)"
   ]
  },
  {
   "cell_type": "code",
   "execution_count": 677,
   "metadata": {
    "collapsed": false
   },
   "outputs": [
    {
     "data": {
      "text/latex": [
       "Quantum object: dims = [[20], [20]], shape = [20, 20], type = oper, isherm = True\\begin{equation*}\\left(\\begin{array}{*{11}c}0.0 & 0.0 & 0.0 & 0.0 & 0.0 & \\cdots & 0.0 & 0.0 & 0.0 & 0.0 & 0.0\\\\0.0 & 0.0 & 0.0 & 0.0 & 0.0 & \\cdots & 0.0 & 0.0 & 0.0 & 0.0 & 0.0\\\\0.0 & 0.0 & 0.0 & 0.0 & 0.0 & \\cdots & 0.0 & 0.0 & 0.0 & 0.0 & 0.0\\\\0.0 & 0.0 & 0.0 & 0.0 & 0.0 & \\cdots & 0.0 & 0.0 & 0.0 & 0.0 & 0.0\\\\0.0 & 0.0 & 0.0 & 0.0 & 0.0 & \\cdots & 0.0 & 0.0 & 0.0 & 0.0 & 0.0\\\\\\vdots & \\vdots & \\vdots & \\vdots & \\vdots & \\ddots & \\vdots & \\vdots & \\vdots & \\vdots & \\vdots\\\\0.0 & 0.0 & 0.0 & 0.0 & 0.0 & \\cdots & 0.0 & 0.0 & 0.0 & 0.0 & 0.0\\\\0.0 & 0.0 & 0.0 & 0.0 & 0.0 & \\cdots & 0.0 & 0.0 & 0.0 & 0.0 & 0.0\\\\0.0 & 0.0 & 0.0 & 0.0 & 0.0 & \\cdots & 0.0 & 0.0 & 0.0 & 0.0 & 0.0\\\\0.0 & 0.0 & 0.0 & 0.0 & 0.0 & \\cdots & 0.0 & 0.0 & 0.0 & 0.0 & 0.0\\\\0.0 & 0.0 & 0.0 & 0.0 & 0.0 & \\cdots & 0.0 & 0.0 & 0.0 & 0.0 & 0.0\\\\\\end{array}\\right)\\end{equation*}"
      ],
      "text/plain": [
       "Quantum object: dims = [[20], [20]], shape = [20, 20], type = oper, isherm = True\n",
       "Qobj data =\n",
       "[[ 0.  0.  0.  0.  0.  0.  0.  0.  0.  0.  0.  0.  0.  0.  0.  0.  0.  0.\n",
       "   0.  0.]\n",
       " [ 0.  0.  0.  0.  0.  0.  0.  0.  0.  0.  0.  0.  0.  0.  0.  0.  0.  0.\n",
       "   0.  0.]\n",
       " [ 0.  0.  0.  0.  0.  0.  0.  0.  0.  0.  0.  0.  0.  0.  0.  0.  0.  0.\n",
       "   0.  0.]\n",
       " [ 0.  0.  0.  0.  0.  0.  0.  0.  0.  0.  0.  0.  0.  0.  0.  0.  0.  0.\n",
       "   0.  0.]\n",
       " [ 0.  0.  0.  0.  0.  0.  0.  0.  0.  0.  0.  0.  0.  0.  0.  0.  0.  0.\n",
       "   0.  0.]\n",
       " [ 0.  0.  0.  0.  0.  0.  0.  0.  0.  0.  0.  0.  0.  0.  0.  0.  0.  0.\n",
       "   0.  0.]\n",
       " [ 0.  0.  0.  0.  0.  0.  0.  0.  0.  0.  0.  0.  0.  0.  0.  0.  0.  0.\n",
       "   0.  0.]\n",
       " [ 0.  0.  0.  0.  0.  0.  0.  0.  0.  0.  0.  0.  0.  0.  0.  0.  0.  0.\n",
       "   0.  0.]\n",
       " [ 0.  0.  0.  0.  0.  0.  0.  0.  0.  0.  0.  0.  0.  0.  0.  0.  0.  0.\n",
       "   0.  0.]\n",
       " [ 0.  0.  0.  0.  0.  0.  0.  0.  0.  0.  0.  0.  0.  0.  0.  0.  0.  0.\n",
       "   0.  0.]\n",
       " [ 0.  0.  0.  0.  0.  0.  0.  0.  0.  0.  0.  0.  0.  0.  0.  0.  0.  0.\n",
       "   0.  0.]\n",
       " [ 0.  0.  0.  0.  0.  0.  0.  0.  0.  0.  0.  0.  0.  0.  0.  0.  0.  0.\n",
       "   0.  0.]\n",
       " [ 0.  0.  0.  0.  0.  0.  0.  0.  0.  0.  0.  0.  0.  0.  0.  0.  0.  0.\n",
       "   0.  0.]\n",
       " [ 0.  0.  0.  0.  0.  0.  0.  0.  0.  0.  0.  0.  0.  0.  0.  0.  0.  0.\n",
       "   0.  0.]\n",
       " [ 0.  0.  0.  0.  0.  0.  0.  0.  0.  0.  0.  0.  0.  0.  0.  0.  0.  0.\n",
       "   0.  0.]\n",
       " [ 0.  0.  0.  0.  0.  0.  0.  0.  0.  0.  0.  0.  0.  0.  0.  0.  0.  0.\n",
       "   0.  0.]\n",
       " [ 0.  0.  0.  0.  0.  0.  0.  0.  0.  0.  0.  0.  0.  0.  0.  0.  0.  0.\n",
       "   0.  0.]\n",
       " [ 0.  0.  0.  0.  0.  0.  0.  0.  0.  0.  0.  0.  0.  0.  0.  0.  0.  0.\n",
       "   0.  0.]\n",
       " [ 0.  0.  0.  0.  0.  0.  0.  0.  0.  0.  0.  0.  0.  0.  0.  0.  0.  0.\n",
       "   0.  0.]\n",
       " [ 0.  0.  0.  0.  0.  0.  0.  0.  0.  0.  0.  0.  0.  0.  0.  0.  0.  0.\n",
       "   0.  0.]]"
      ]
     },
     "execution_count": 677,
     "metadata": {},
     "output_type": "execute_result"
    }
   ],
   "source": [
    "H0"
   ]
  },
  {
   "cell_type": "code",
   "execution_count": 933,
   "metadata": {
    "collapsed": false
   },
   "outputs": [],
   "source": [
    "ccc = 1 / (levels.exitations_table[0][0][2]/ levels.exitations_table[1][2][2])"
   ]
  },
  {
   "cell_type": "code",
   "execution_count": 989,
   "metadata": {
    "collapsed": false
   },
   "outputs": [
    {
     "data": {
      "text/plain": [
       "[array([(0, 11, 0.13483997249264842), (1, 12, 0.23354968324845687),\n",
       "        (2, 13, 0.3302891295379082), (3, 14, 0.4264014327112209),\n",
       "        (4, 15, 0.5222329678670935), (5, 16, 0.6179143806533246),\n",
       "        (6, 17, 0.7135060680126757), (7, 18, 0.8090398349558905),\n",
       "        (8, 19, 0.9045340337332908)], \n",
       "       dtype=[('f0', '<i4'), ('f1', '<i4'), ('f2', '<f8')]),\n",
       " array([(0, 10, -0.40451991747794525), (1, 11, -0.5393598899705936),\n",
       "        (2, 12, -0.6179143806533246), (3, 13, -0.6605782590758164),\n",
       "        (4, 14, -0.6741998624632421), (5, 15, -0.6605782590758164),\n",
       "        (6, 16, -0.6179143806533246), (7, 17, -0.5393598899705936),\n",
       "        (8, 18, -0.40451991747794525)], \n",
       "       dtype=[('f0', '<i4'), ('f1', '<i4'), ('f2', '<f8')])]"
      ]
     },
     "execution_count": 989,
     "metadata": {},
     "output_type": "execute_result"
    }
   ],
   "source": [
    "levels.exitations_table"
   ]
  },
  {
   "cell_type": "code",
   "execution_count": 1054,
   "metadata": {
    "collapsed": false
   },
   "outputs": [],
   "source": [
    "sms = []\n",
    "for ext in levels.exitations_table:\n",
    "    sm0 = Qobj(zeros((levels.N,levels.N)))\n",
    "    for lfrom, lto,gamma in ext:\n",
    "        sm0 += gamma * basis(levels.N,lfrom) * basis(levels.N,lto).dag()\n",
    "    sms.append(sm0)"
   ]
  },
  {
   "cell_type": "code",
   "execution_count": 860,
   "metadata": {
    "collapsed": true
   },
   "outputs": [],
   "source": [
    "H1 = 1/2*(sms[0] + sms[0].dag())\n",
    "H2 = 1/2*(sms[1] + sms[1].dag())"
   ]
  },
  {
   "cell_type": "code",
   "execution_count": 707,
   "metadata": {
    "collapsed": false
   },
   "outputs": [],
   "source": [
    "\n",
    "sm1 =0.13483997249264842*basis(20,0)*basis(20,11).dag()\n",
    "sp1 = sm1.dag()"
   ]
  },
  {
   "cell_type": "code",
   "execution_count": 742,
   "metadata": {
    "collapsed": false
   },
   "outputs": [
    {
     "data": {
      "text/plain": [
       "<20x20 sparse matrix of type '<class 'numpy.complex128'>'\n",
       "\twith 1 stored elements in Compressed Sparse Row format>"
      ]
     },
     "execution_count": 742,
     "metadata": {},
     "output_type": "execute_result"
    }
   ],
   "source": [
    "sm1.data"
   ]
  },
  {
   "cell_type": "code",
   "execution_count": 708,
   "metadata": {
    "collapsed": false
   },
   "outputs": [],
   "source": [
    "sm2 =0.7135060680126757*basis(20,2)*basis(20,11).dag()\n",
    "sp2 = sm2.dag()"
   ]
  },
  {
   "cell_type": "code",
   "execution_count": 776,
   "metadata": {
    "collapsed": true
   },
   "outputs": [],
   "source": [
    "H0 = Qobj(zeros((20,20)))\n",
    "# H1 = 1/2*(sm1 + sp1)\n",
    "# H2 = 1/2*(sm2 + sp2)\n",
    "H = [H0,[H1,H1_coeff],[H2,H2_coeff]]"
   ]
  },
  {
   "cell_type": "code",
   "execution_count": 710,
   "metadata": {
    "collapsed": true
   },
   "outputs": [],
   "source": [
    "cms = [sqrt(0.02)*sm1,sqrt(0.6)*sm2]"
   ]
  },
  {
   "cell_type": "code",
   "execution_count": 769,
   "metadata": {
    "collapsed": true
   },
   "outputs": [],
   "source": [
    "psi0 = basis(20,0)"
   ]
  },
  {
   "cell_type": "code",
   "execution_count": 770,
   "metadata": {
    "collapsed": true
   },
   "outputs": [],
   "source": [
    "times = linspace(0,50,40000)"
   ]
  },
  {
   "cell_type": "code",
   "execution_count": 777,
   "metadata": {
    "collapsed": true
   },
   "outputs": [],
   "source": [
    "result = mesolve(H, psi0, times, cms, [fock_dm(20,i) for i in range(levels.N)])"
   ]
  },
  {
   "cell_type": "code",
   "execution_count": 779,
   "metadata": {
    "collapsed": false
   },
   "outputs": [
    {
     "data": {
      "text/plain": [
       "[<matplotlib.lines.Line2D at 0x126b5bf28>]"
      ]
     },
     "execution_count": 779,
     "metadata": {},
     "output_type": "execute_result"
    },
    {
     "data": {
      "image/png": "[encoded data removed]",
      "text/plain": [
       "<matplotlib.figure.Figure at 0x127042a90>"
      ]
     },
     "metadata": {},
     "output_type": "display_data"
    }
   ],
   "source": [
    "plot(times, result.expect[0])\n",
    "plot(times, result.expect[9])\n",
    "plot(times, result.expect[2])"
   ]
  },
  {
   "cell_type": "code",
   "execution_count": 870,
   "metadata": {
    "collapsed": false
   },
   "outputs": [
    {
     "data": {
      "text/plain": [
       "[<matplotlib.lines.Line2D at 0x1368aa860>]"
      ]
     },
     "execution_count": 870,
     "metadata": {},
     "output_type": "execute_result"
    },
    {
     "data": {
      "image/png": "[encoded data removed]",
      "text/plain": [
       "<matplotlib.figure.Figure at 0x135ad0b70>"
      ]
     },
     "metadata": {},
     "output_type": "display_data"
    }
   ],
   "source": [
    "@jit(nopython=True)\n",
    "def H1_coeff_nb(t,args):\n",
    "    (A,x0,sigma) = (40,62,12)\n",
    "    return A*exp(-(t-x0)**2/(2*sigma**2))\n",
    "#     return gaussian(t,40,62,12)\n",
    "@jit(nopython=True)\n",
    "def H2_coeff_nb(t,args):\n",
    "    (A,x0,sigma) = (10,40,12)\n",
    "    return A*exp(-(t-x0)**2/(2*sigma**2))\n",
    "#     return gaussian(t,10,40,12)\n",
    "plot(times,H1_coeff_nb(times,0))\n",
    "plot(times,H2_coeff_nb(times,0))"
   ]
  },
  {
   "cell_type": "code",
   "execution_count": 1071,
   "metadata": {
    "collapsed": false
   },
   "outputs": [
    {
     "data": {
      "text/plain": [
       "[<matplotlib.lines.Line2D at 0x138d32198>]"
      ]
     },
     "execution_count": 1071,
     "metadata": {},
     "output_type": "execute_result"
    },
    {
     "data": {
      "image/png": "[encoded data removed]",
      "text/plain": [
       "<matplotlib.figure.Figure at 0x13d26cbe0>"
      ]
     },
     "metadata": {},
     "output_type": "display_data"
    }
   ],
   "source": [
    "n_c=2e-3\n",
    "times = linspace(0,n_c*100,1000)\n",
    "def H1_coeff(t,args):\n",
    "    return gaussian(t,10*20,n_c*62,n_c*11)\n",
    "def H2_coeff(t,args):\n",
    "    return gaussian(t,20,n_c*40,n_c*11)#*np.exp(1j*0.07*t)\n",
    "def H2a_coeff(t,args):\n",
    "    return gaussian(t,10,n_c*40,n_c*11)*np.exp(-1j*0.07*t)\n",
    "plot(times,H1_coeff(times,0))\n",
    "plot(times,H2_coeff(times,0))"
   ]
  },
  {
   "cell_type": "raw",
   "metadata": {},
   "source": [
    "tens_shifts  = -1e-2*array([x**2 for x in range(-4,5)])\n",
    "diag_ham = levels.get_diagonal_hamiltonian(0)\n",
    "diag_ham[:len(tens_shifts)] = tens_shifts"
   ]
  },
  {
   "cell_type": "raw",
   "metadata": {},
   "source": [
    "green5.delta = -50\n",
    "exitations = [('gnd_4', 'green_5', 0, +1),('gnd_4', 'green_5', 0, -1)]\n",
    "levels.construct_exitations(exitations)\n",
    "H0 = Qobj(diag(diag_ham))\n",
    "H1 = 1/2*(sms[0] + sms[0].dag())\n",
    "H2 = 1/2*(sms[1] + sms[1].dag())\n",
    "H = [H0,[H1,H1_coeff],[H2,H2_coeff]]\n",
    "psi0 = basis(20,0)\n",
    "times = linspace(0,100,10000)"
   ]
  },
  {
   "cell_type": "code",
   "execution_count": 1072,
   "metadata": {
    "collapsed": false
   },
   "outputs": [],
   "source": [
    "green5.delta = 0\n",
    "tens_shifts  = -1e-2*0*array([x**2 for x in range(-4,5)])\n",
    "diag_ham = levels.get_diagonal_hamiltonian(0)\n",
    "diag_ham[:len(tens_shifts)] = tens_shifts\n",
    "# exitations = [('gnd_4', 'green_5', 0, +1),('gnd_4', 'green_5', 0, -1)]\n",
    "# levels.construct_exitations(exitations)\n",
    "H0 = Qobj(diag(diag_ham))\n",
    "H1 = 1/2*(sms[0] + sms[0].dag())\n",
    "H2 = 1/2*(sms[1] + sms[1].dag())\n",
    "# H2a = 1/2* sms[1].dag()\n",
    "H = [H0,[H1,H1_coeff],[H2,H2_coeff]]\n",
    "# H = [H0,[H1,H1_coeff],[H2,H2_coeff],[H2a,H2a_coeff]]\n",
    "psi0 = basis(20,0)\n",
    "# times = linspace(0,n_c*100,1000)"
   ]
  },
  {
   "cell_type": "code",
   "execution_count": 1073,
   "metadata": {
    "collapsed": false
   },
   "outputs": [
    {
     "name": "stdout",
     "output_type": "stream",
     "text": [
      "10.0%. Run time:   0.25s. Est. time left: 00:00:00:02\n",
      "20.0%. Run time:   0.40s. Est. time left: 00:00:00:01\n",
      "30.0%. Run time:   0.51s. Est. time left: 00:00:00:01\n",
      "40.0%. Run time:   0.65s. Est. time left: 00:00:00:00\n",
      "50.0%. Run time:   0.78s. Est. time left: 00:00:00:00\n",
      "60.0%. Run time:   0.91s. Est. time left: 00:00:00:00\n",
      "70.0%. Run time:   1.12s. Est. time left: 00:00:00:00\n",
      "80.0%. Run time:   1.26s. Est. time left: 00:00:00:00\n",
      "90.0%. Run time:   1.34s. Est. time left: 00:00:00:00\n",
      "Total run time:   1.40s\n",
      "CPU times: user 1.47 s, sys: 21.2 ms, total: 1.49 s\n",
      "Wall time: 1.59 s\n"
     ]
    }
   ],
   "source": [
    "%%time\n",
    "result = mesolve(H, psi0, times, cms, [fock_dm(20,i) for i in range(levels.N)],progress_bar=True)"
   ]
  },
  {
   "cell_type": "code",
   "execution_count": 1075,
   "metadata": {
    "collapsed": false
   },
   "outputs": [
    {
     "data": {
      "text/plain": [
       "<matplotlib.legend.Legend at 0x138875a20>"
      ]
     },
     "execution_count": 1075,
     "metadata": {},
     "output_type": "execute_result"
    },
    {
     "data": {
      "image/png": "[encoded data removed]",
      "text/plain": [
       "<matplotlib.figure.Figure at 0x138aaaac8>"
      ]
     },
     "metadata": {},
     "output_type": "display_data"
    }
   ],
   "source": [
    "print_list = (0,1,2,9,4,6,8,10,11)\n",
    "# print_list = (1,3,5,7)\n",
    "for i in print_list:\n",
    "    plot(times,result.expect[i],label=str(i))\n",
    "legend(loc='center left',bbox_to_anchor=(1, 0.5))\n",
    "# savefig('01long_modeling.pdf')"
   ]
  },
  {
   "cell_type": "code",
   "execution_count": 955,
   "metadata": {
    "collapsed": false
   },
   "outputs": [],
   "source": [
    "# np.save('1000s_delta=-50detunings',result.expect)"
   ]
  },
  {
   "cell_type": "code",
   "execution_count": 1022,
   "metadata": {
    "collapsed": false
   },
   "outputs": [],
   "source": [
    "a = np.load('1000s_delta=-50detunings.npy')"
   ]
  },
  {
   "cell_type": "code",
   "execution_count": 1029,
   "metadata": {
    "collapsed": false
   },
   "outputs": [
    {
     "data": {
      "text/plain": [
       "(35, 60)"
      ]
     },
     "execution_count": 1029,
     "metadata": {},
     "output_type": "execute_result"
    },
    {
     "data": {
      "image/png": "[encoded data removed]",
      "text/plain": [
       "<matplotlib.figure.Figure at 0x138bcbef0>"
      ]
     },
     "metadata": {},
     "output_type": "display_data"
    }
   ],
   "source": [
    "# print_list = (0,1,2,9,4,6,8)\n",
    "print_list = range(9)\n",
    "# print_list = (1,3,5,7)\n",
    "for i in print_list:\n",
    "    plot(times,a[i],label=str(i))\n",
    "legend(loc='center left',bbox_to_anchor=(1, 0.5))\n",
    "xlim((35,60))\n",
    "# savefig('01long_modeling.pdf')"
   ]
  },
  {
   "cell_type": "code",
   "execution_count": 820,
   "metadata": {
    "collapsed": false
   },
   "outputs": [
    {
     "data": {
      "text/plain": [
       "1.0000000000000004"
      ]
     },
     "execution_count": 820,
     "metadata": {},
     "output_type": "execute_result"
    }
   ],
   "source": [
    "sum([result.expect[i][-1] for i in range(levels.N)])"
   ]
  },
  {
   "cell_type": "code",
   "execution_count": 1044,
   "metadata": {
    "collapsed": false
   },
   "outputs": [
    {
     "data": {
      "text/plain": [
       "[0.99953123958097068,\n",
       " 1.8411637946494227e-06,\n",
       " 1.3607655289498615e-06,\n",
       " 9.5297069023828198e-13,\n",
       " 1.6143110080478227e-13,\n",
       " 7.5618677630267421e-20,\n",
       " 4.4050744281805095e-21,\n",
       " 1.0675501823961715e-27,\n",
       " 1.4155851665771441e-29,\n",
       " 0.0,\n",
       " 0.0001228919643594369,\n",
       " 0.00034266616902763086,\n",
       " 2.5898296784619882e-10,\n",
       " 9.622164977981344e-11,\n",
       " 5.5436479231098847e-17,\n",
       " 7.5501427147730603e-18,\n",
       " 3.041111236962204e-24,\n",
       " 1.6126878019129712e-25,\n",
       " 3.408948427069445e-32,\n",
       " 4.3321957886600677e-34]"
      ]
     },
     "execution_count": 1044,
     "metadata": {},
     "output_type": "execute_result"
    }
   ],
   "source": [
    "[result.expect[i][-1] for i in range(levels.N)]"
   ]
  },
  {
   "cell_type": "code",
   "execution_count": 877,
   "metadata": {
    "collapsed": false
   },
   "outputs": [
    {
     "name": "stdout",
     "output_type": "stream",
     "text": [
      "10.0%. Run time:  67.85s. Est. time left: 00:00:10:10\n",
      "20.0%. Run time: 133.45s. Est. time left: 00:00:08:53\n",
      "30.0%. Run time: 177.91s. Est. time left: 00:00:06:55\n"
     ]
    },
    {
     "ename": "KeyboardInterrupt",
     "evalue": "",
     "output_type": "error",
     "traceback": [
      "\u001b[0;31m---------------------------------------------------------------------------\u001b[0m",
      "\u001b[0;31mKeyboardInterrupt\u001b[0m                         Traceback (most recent call last)",
      "\u001b[0;32m<ipython-input-877-8a3700db8b43>\u001b[0m in \u001b[0;36m<module>\u001b[0;34m()\u001b[0m\n\u001b[0;32m----> 1\u001b[0;31m \u001b[0mget_ipython\u001b[0m\u001b[0;34m(\u001b[0m\u001b[0;34m)\u001b[0m\u001b[0;34m.\u001b[0m\u001b[0mrun_cell_magic\u001b[0m\u001b[0;34m(\u001b[0m\u001b[0;34m'time'\u001b[0m\u001b[0;34m,\u001b[0m \u001b[0;34m''\u001b[0m\u001b[0;34m,\u001b[0m \u001b[0;34m'result = mesolve(H, basis(20,0), times, [], [fock_dm(20,i) for i in range(levels.N)],progress_bar=True)'\u001b[0m\u001b[0;34m)\u001b[0m\u001b[0;34m\u001b[0m\u001b[0m\n\u001b[0m",
      "\u001b[0;32m/Users/artemgolovizin/anaconda/lib/python3.5/site-packages/IPython/core/interactiveshell.py\u001b[0m in \u001b[0;36mrun_cell_magic\u001b[0;34m(self, magic_name, line, cell)\u001b[0m\n\u001b[1;32m   2291\u001b[0m             \u001b[0mmagic_arg_s\u001b[0m \u001b[0;34m=\u001b[0m \u001b[0mself\u001b[0m\u001b[0;34m.\u001b[0m\u001b[0mvar_expand\u001b[0m\u001b[0;34m(\u001b[0m\u001b[0mline\u001b[0m\u001b[0;34m,\u001b[0m \u001b[0mstack_depth\u001b[0m\u001b[0;34m)\u001b[0m\u001b[0;34m\u001b[0m\u001b[0m\n\u001b[1;32m   2292\u001b[0m             \u001b[0;32mwith\u001b[0m \u001b[0mself\u001b[0m\u001b[0;34m.\u001b[0m\u001b[0mbuiltin_trap\u001b[0m\u001b[0;34m:\u001b[0m\u001b[0;34m\u001b[0m\u001b[0m\n\u001b[0;32m-> 2293\u001b[0;31m                 \u001b[0mresult\u001b[0m \u001b[0;34m=\u001b[0m \u001b[0mfn\u001b[0m\u001b[0;34m(\u001b[0m\u001b[0mmagic_arg_s\u001b[0m\u001b[0;34m,\u001b[0m \u001b[0mcell\u001b[0m\u001b[0;34m)\u001b[0m\u001b[0;34m\u001b[0m\u001b[0m\n\u001b[0m\u001b[1;32m   2294\u001b[0m             \u001b[0;32mreturn\u001b[0m \u001b[0mresult\u001b[0m\u001b[0;34m\u001b[0m\u001b[0m\n\u001b[1;32m   2295\u001b[0m \u001b[0;34m\u001b[0m\u001b[0m\n",
      "\u001b[0;32m/Users/artemgolovizin/anaconda/lib/python3.5/site-packages/IPython/core/magics/execution.py\u001b[0m in \u001b[0;36mtime\u001b[0;34m(self, line, cell, local_ns)\u001b[0m\n",
      "\u001b[0;32m/Users/artemgolovizin/anaconda/lib/python3.5/site-packages/IPython/core/magic.py\u001b[0m in \u001b[0;36m<lambda>\u001b[0;34m(f, *a, **k)\u001b[0m\n\u001b[1;32m    191\u001b[0m     \u001b[0;31m# but it's overkill for just that one bit of state.\u001b[0m\u001b[0;34m\u001b[0m\u001b[0;34m\u001b[0m\u001b[0m\n\u001b[1;32m    192\u001b[0m     \u001b[0;32mdef\u001b[0m \u001b[0mmagic_deco\u001b[0m\u001b[0;34m(\u001b[0m\u001b[0marg\u001b[0m\u001b[0;34m)\u001b[0m\u001b[0;34m:\u001b[0m\u001b[0;34m\u001b[0m\u001b[0m\n\u001b[0;32m--> 193\u001b[0;31m         \u001b[0mcall\u001b[0m \u001b[0;34m=\u001b[0m \u001b[0;32mlambda\u001b[0m \u001b[0mf\u001b[0m\u001b[0;34m,\u001b[0m \u001b[0;34m*\u001b[0m\u001b[0ma\u001b[0m\u001b[0;34m,\u001b[0m \u001b[0;34m**\u001b[0m\u001b[0mk\u001b[0m\u001b[0;34m:\u001b[0m \u001b[0mf\u001b[0m\u001b[0;34m(\u001b[0m\u001b[0;34m*\u001b[0m\u001b[0ma\u001b[0m\u001b[0;34m,\u001b[0m \u001b[0;34m**\u001b[0m\u001b[0mk\u001b[0m\u001b[0;34m)\u001b[0m\u001b[0;34m\u001b[0m\u001b[0m\n\u001b[0m\u001b[1;32m    194\u001b[0m \u001b[0;34m\u001b[0m\u001b[0m\n\u001b[1;32m    195\u001b[0m         \u001b[0;32mif\u001b[0m \u001b[0mcallable\u001b[0m\u001b[0;34m(\u001b[0m\u001b[0marg\u001b[0m\u001b[0;34m)\u001b[0m\u001b[0;34m:\u001b[0m\u001b[0;34m\u001b[0m\u001b[0m\n",
      "\u001b[0;32m/Users/artemgolovizin/anaconda/lib/python3.5/site-packages/IPython/core/magics/execution.py\u001b[0m in \u001b[0;36mtime\u001b[0;34m(self, line, cell, local_ns)\u001b[0m\n\u001b[1;32m   1165\u001b[0m         \u001b[0;32melse\u001b[0m\u001b[0;34m:\u001b[0m\u001b[0;34m\u001b[0m\u001b[0m\n\u001b[1;32m   1166\u001b[0m             \u001b[0mst\u001b[0m \u001b[0;34m=\u001b[0m \u001b[0mclock2\u001b[0m\u001b[0;34m(\u001b[0m\u001b[0;34m)\u001b[0m\u001b[0;34m\u001b[0m\u001b[0m\n\u001b[0;32m-> 1167\u001b[0;31m             \u001b[0mexec\u001b[0m\u001b[0;34m(\u001b[0m\u001b[0mcode\u001b[0m\u001b[0;34m,\u001b[0m \u001b[0mglob\u001b[0m\u001b[0;34m,\u001b[0m \u001b[0mlocal_ns\u001b[0m\u001b[0;34m)\u001b[0m\u001b[0;34m\u001b[0m\u001b[0m\n\u001b[0m\u001b[1;32m   1168\u001b[0m             \u001b[0mend\u001b[0m \u001b[0;34m=\u001b[0m \u001b[0mclock2\u001b[0m\u001b[0;34m(\u001b[0m\u001b[0;34m)\u001b[0m\u001b[0;34m\u001b[0m\u001b[0m\n\u001b[1;32m   1169\u001b[0m             \u001b[0mout\u001b[0m \u001b[0;34m=\u001b[0m \u001b[0;32mNone\u001b[0m\u001b[0;34m\u001b[0m\u001b[0m\n",
      "\u001b[0;32m<timed exec>\u001b[0m in \u001b[0;36m<module>\u001b[0;34m()\u001b[0m\n",
      "\u001b[0;32m/Users/artemgolovizin/anaconda/lib/python3.5/site-packages/qutip/mesolve.py\u001b[0m in \u001b[0;36mmesolve\u001b[0;34m(H, rho0, tlist, c_ops, e_ops, args, options, progress_bar)\u001b[0m\n\u001b[1;32m    312\u001b[0m         \u001b[0;32mif\u001b[0m \u001b[0mn_func\u001b[0m \u001b[0;34m>\u001b[0m \u001b[0;36m0\u001b[0m\u001b[0;34m:\u001b[0m\u001b[0;34m\u001b[0m\u001b[0m\n\u001b[1;32m    313\u001b[0m             res = _sesolve_list_func_td(H, rho0, tlist,\n\u001b[0;32m--> 314\u001b[0;31m                                         e_ops, args, options, progress_bar)\n\u001b[0m\u001b[1;32m    315\u001b[0m         \u001b[0;32melif\u001b[0m \u001b[0mn_str\u001b[0m \u001b[0;34m>\u001b[0m \u001b[0;36m0\u001b[0m\u001b[0;34m:\u001b[0m\u001b[0;34m\u001b[0m\u001b[0m\n\u001b[1;32m    316\u001b[0m             res = _sesolve_list_str_td(H, rho0, tlist,\n",
      "\u001b[0;32m/Users/artemgolovizin/anaconda/lib/python3.5/site-packages/qutip/sesolve.py\u001b[0m in \u001b[0;36m_sesolve_list_func_td\u001b[0;34m(H_list, psi0, tlist, e_ops, args, opt, progress_bar)\u001b[0m\n\u001b[1;32m    225\u001b[0m     \u001b[0;31m#\u001b[0m\u001b[0;34m\u001b[0m\u001b[0;34m\u001b[0m\u001b[0m\n\u001b[1;32m    226\u001b[0m     return _generic_ode_solve(r, psi0, tlist, e_ops, opt, progress_bar, norm,\n\u001b[0;32m--> 227\u001b[0;31m                               dims=psi0.dims)\n\u001b[0m\u001b[1;32m    228\u001b[0m \u001b[0;34m\u001b[0m\u001b[0m\n\u001b[1;32m    229\u001b[0m \u001b[0;34m\u001b[0m\u001b[0m\n",
      "\u001b[0;32m/Users/artemgolovizin/anaconda/lib/python3.5/site-packages/qutip/sesolve.py\u001b[0m in \u001b[0;36m_generic_ode_solve\u001b[0;34m(r, psi0, tlist, e_ops, opt, progress_bar, state_norm_func, dims)\u001b[0m\n\u001b[1;32m    656\u001b[0m \u001b[0;34m\u001b[0m\u001b[0m\n\u001b[1;32m    657\u001b[0m         \u001b[0;32mif\u001b[0m \u001b[0mt_idx\u001b[0m \u001b[0;34m<\u001b[0m \u001b[0mn_tsteps\u001b[0m \u001b[0;34m-\u001b[0m \u001b[0;36m1\u001b[0m\u001b[0;34m:\u001b[0m\u001b[0;34m\u001b[0m\u001b[0m\n\u001b[0;32m--> 658\u001b[0;31m             \u001b[0mr\u001b[0m\u001b[0;34m.\u001b[0m\u001b[0mintegrate\u001b[0m\u001b[0;34m(\u001b[0m\u001b[0mr\u001b[0m\u001b[0;34m.\u001b[0m\u001b[0mt\u001b[0m \u001b[0;34m+\u001b[0m \u001b[0mdt\u001b[0m\u001b[0;34m[\u001b[0m\u001b[0mt_idx\u001b[0m\u001b[0;34m]\u001b[0m\u001b[0;34m)\u001b[0m\u001b[0;34m\u001b[0m\u001b[0m\n\u001b[0m\u001b[1;32m    659\u001b[0m \u001b[0;34m\u001b[0m\u001b[0m\n\u001b[1;32m    660\u001b[0m     \u001b[0mprogress_bar\u001b[0m\u001b[0;34m.\u001b[0m\u001b[0mfinished\u001b[0m\u001b[0;34m(\u001b[0m\u001b[0;34m)\u001b[0m\u001b[0;34m\u001b[0m\u001b[0m\n",
      "\u001b[0;32m/Users/artemgolovizin/anaconda/lib/python3.5/site-packages/scipy/integrate/_ode.py\u001b[0m in \u001b[0;36mintegrate\u001b[0;34m(self, t, step, relax)\u001b[0m\n\u001b[1;32m    391\u001b[0m             self._y, self.t = mth(self.f, self.jac or (lambda: None),\n\u001b[1;32m    392\u001b[0m                                 \u001b[0mself\u001b[0m\u001b[0;34m.\u001b[0m\u001b[0m_y\u001b[0m\u001b[0;34m,\u001b[0m \u001b[0mself\u001b[0m\u001b[0;34m.\u001b[0m\u001b[0mt\u001b[0m\u001b[0;34m,\u001b[0m \u001b[0mt\u001b[0m\u001b[0;34m,\u001b[0m\u001b[0;34m\u001b[0m\u001b[0m\n\u001b[0;32m--> 393\u001b[0;31m                                 self.f_params, self.jac_params)\n\u001b[0m\u001b[1;32m    394\u001b[0m         \u001b[0;32mexcept\u001b[0m \u001b[0mSystemError\u001b[0m\u001b[0;34m:\u001b[0m\u001b[0;34m\u001b[0m\u001b[0m\n\u001b[1;32m    395\u001b[0m             \u001b[0;31m# f2py issue with tuple returns, see ticket 1187.\u001b[0m\u001b[0;34m\u001b[0m\u001b[0;34m\u001b[0m\u001b[0m\n",
      "\u001b[0;32m/Users/artemgolovizin/anaconda/lib/python3.5/site-packages/scipy/integrate/_ode.py\u001b[0m in \u001b[0;36mrun\u001b[0;34m(self, f, jac, y0, t0, t1, f_params, jac_params)\u001b[0m\n\u001b[1;32m    846\u001b[0m         args = ((f, jac, y0, t0, t1) + tuple(self.call_args) +\n\u001b[1;32m    847\u001b[0m                 (f_params, jac_params))\n\u001b[0;32m--> 848\u001b[0;31m         \u001b[0my1\u001b[0m\u001b[0;34m,\u001b[0m \u001b[0mt\u001b[0m\u001b[0;34m,\u001b[0m \u001b[0mistate\u001b[0m \u001b[0;34m=\u001b[0m \u001b[0mself\u001b[0m\u001b[0;34m.\u001b[0m\u001b[0mrunner\u001b[0m\u001b[0;34m(\u001b[0m\u001b[0;34m*\u001b[0m\u001b[0margs\u001b[0m\u001b[0;34m)\u001b[0m\u001b[0;34m\u001b[0m\u001b[0m\n\u001b[0m\u001b[1;32m    849\u001b[0m         \u001b[0;32mif\u001b[0m \u001b[0mistate\u001b[0m \u001b[0;34m<\u001b[0m \u001b[0;36m0\u001b[0m\u001b[0;34m:\u001b[0m\u001b[0;34m\u001b[0m\u001b[0m\n\u001b[1;32m    850\u001b[0m             warnings.warn(self.__class__.__name__ + ': ' +\n",
      "\u001b[0;32m/Users/artemgolovizin/anaconda/lib/python3.5/site-packages/qutip/sesolve.py\u001b[0m in \u001b[0;36mpsi_list_td\u001b[0;34m(t, psi, H_list_and_args)\u001b[0m\n\u001b[1;32m    237\u001b[0m     \u001b[0margs\u001b[0m \u001b[0;34m=\u001b[0m \u001b[0mH_list_and_args\u001b[0m\u001b[0;34m[\u001b[0m\u001b[0;36m1\u001b[0m\u001b[0;34m]\u001b[0m\u001b[0;34m\u001b[0m\u001b[0m\n\u001b[1;32m    238\u001b[0m \u001b[0;34m\u001b[0m\u001b[0m\n\u001b[0;32m--> 239\u001b[0;31m     \u001b[0mH\u001b[0m \u001b[0;34m=\u001b[0m \u001b[0mH_list\u001b[0m\u001b[0;34m[\u001b[0m\u001b[0;36m0\u001b[0m\u001b[0;34m]\u001b[0m\u001b[0;34m[\u001b[0m\u001b[0;36m0\u001b[0m\u001b[0;34m]\u001b[0m \u001b[0;34m*\u001b[0m \u001b[0mH_list\u001b[0m\u001b[0;34m[\u001b[0m\u001b[0;36m0\u001b[0m\u001b[0;34m]\u001b[0m\u001b[0;34m[\u001b[0m\u001b[0;36m1\u001b[0m\u001b[0;34m]\u001b[0m\u001b[0;34m(\u001b[0m\u001b[0mt\u001b[0m\u001b[0;34m,\u001b[0m \u001b[0margs\u001b[0m\u001b[0;34m)\u001b[0m\u001b[0;34m\u001b[0m\u001b[0m\n\u001b[0m\u001b[1;32m    240\u001b[0m     \u001b[0;32mfor\u001b[0m \u001b[0mn\u001b[0m \u001b[0;32min\u001b[0m \u001b[0mrange\u001b[0m\u001b[0;34m(\u001b[0m\u001b[0;36m1\u001b[0m\u001b[0;34m,\u001b[0m \u001b[0mlen\u001b[0m\u001b[0;34m(\u001b[0m\u001b[0mH_list\u001b[0m\u001b[0;34m)\u001b[0m\u001b[0;34m)\u001b[0m\u001b[0;34m:\u001b[0m\u001b[0;34m\u001b[0m\u001b[0m\n\u001b[1;32m    241\u001b[0m         \u001b[0;31m#\u001b[0m\u001b[0;34m\u001b[0m\u001b[0;34m\u001b[0m\u001b[0m\n",
      "\u001b[0;32m/Users/artemgolovizin/anaconda/lib/python3.5/site-packages/scipy/sparse/base.py\u001b[0m in \u001b[0;36m__mul__\u001b[0;34m(self, other)\u001b[0m\n\u001b[1;32m    311\u001b[0m         \u001b[0;32mif\u001b[0m \u001b[0misscalarlike\u001b[0m\u001b[0;34m(\u001b[0m\u001b[0mother\u001b[0m\u001b[0;34m)\u001b[0m\u001b[0;34m:\u001b[0m\u001b[0;34m\u001b[0m\u001b[0m\n\u001b[1;32m    312\u001b[0m             \u001b[0;31m# scalar value\u001b[0m\u001b[0;34m\u001b[0m\u001b[0;34m\u001b[0m\u001b[0m\n\u001b[0;32m--> 313\u001b[0;31m             \u001b[0;32mreturn\u001b[0m \u001b[0mself\u001b[0m\u001b[0;34m.\u001b[0m\u001b[0m_mul_scalar\u001b[0m\u001b[0;34m(\u001b[0m\u001b[0mother\u001b[0m\u001b[0;34m)\u001b[0m\u001b[0;34m\u001b[0m\u001b[0m\n\u001b[0m\u001b[1;32m    314\u001b[0m \u001b[0;34m\u001b[0m\u001b[0m\n\u001b[1;32m    315\u001b[0m         \u001b[0;32mif\u001b[0m \u001b[0missparse\u001b[0m\u001b[0;34m(\u001b[0m\u001b[0mother\u001b[0m\u001b[0;34m)\u001b[0m\u001b[0;34m:\u001b[0m\u001b[0;34m\u001b[0m\u001b[0m\n",
      "\u001b[0;32m/Users/artemgolovizin/anaconda/lib/python3.5/site-packages/scipy/sparse/data.py\u001b[0m in \u001b[0;36m_mul_scalar\u001b[0;34m(self, other)\u001b[0m\n\u001b[1;32m     97\u001b[0m \u001b[0;34m\u001b[0m\u001b[0m\n\u001b[1;32m     98\u001b[0m     \u001b[0;32mdef\u001b[0m \u001b[0m_mul_scalar\u001b[0m\u001b[0;34m(\u001b[0m\u001b[0mself\u001b[0m\u001b[0;34m,\u001b[0m \u001b[0mother\u001b[0m\u001b[0;34m)\u001b[0m\u001b[0;34m:\u001b[0m\u001b[0;34m\u001b[0m\u001b[0m\n\u001b[0;32m---> 99\u001b[0;31m         \u001b[0;32mreturn\u001b[0m \u001b[0mself\u001b[0m\u001b[0;34m.\u001b[0m\u001b[0m_with_data\u001b[0m\u001b[0;34m(\u001b[0m\u001b[0mself\u001b[0m\u001b[0;34m.\u001b[0m\u001b[0mdata\u001b[0m \u001b[0;34m*\u001b[0m \u001b[0mother\u001b[0m\u001b[0;34m)\u001b[0m\u001b[0;34m\u001b[0m\u001b[0m\n\u001b[0m\u001b[1;32m    100\u001b[0m \u001b[0;34m\u001b[0m\u001b[0m\n\u001b[1;32m    101\u001b[0m \u001b[0;34m\u001b[0m\u001b[0m\n",
      "\u001b[0;32m/Users/artemgolovizin/anaconda/lib/python3.5/site-packages/scipy/sparse/compressed.py\u001b[0m in \u001b[0;36m_with_data\u001b[0;34m(self, data, copy)\u001b[0m\n\u001b[1;32m   1078\u001b[0m         \u001b[0;32mif\u001b[0m \u001b[0mcopy\u001b[0m\u001b[0;34m:\u001b[0m\u001b[0;34m\u001b[0m\u001b[0m\n\u001b[1;32m   1079\u001b[0m             return self.__class__((data,self.indices.copy(),self.indptr.copy()),\n\u001b[0;32m-> 1080\u001b[0;31m                                    shape=self.shape,dtype=data.dtype)\n\u001b[0m\u001b[1;32m   1081\u001b[0m         \u001b[0;32melse\u001b[0m\u001b[0;34m:\u001b[0m\u001b[0;34m\u001b[0m\u001b[0m\n\u001b[1;32m   1082\u001b[0m             return self.__class__((data,self.indices,self.indptr),\n",
      "\u001b[0;32m/Users/artemgolovizin/anaconda/lib/python3.5/site-packages/scipy/sparse/compressed.py\u001b[0m in \u001b[0;36m__init__\u001b[0;34m(self, arg1, shape, dtype, copy)\u001b[0m\n\u001b[1;32m     86\u001b[0m             \u001b[0mself\u001b[0m\u001b[0;34m.\u001b[0m\u001b[0mdata\u001b[0m \u001b[0;34m=\u001b[0m \u001b[0mnp\u001b[0m\u001b[0;34m.\u001b[0m\u001b[0masarray\u001b[0m\u001b[0;34m(\u001b[0m\u001b[0mself\u001b[0m\u001b[0;34m.\u001b[0m\u001b[0mdata\u001b[0m\u001b[0;34m,\u001b[0m \u001b[0mdtype\u001b[0m\u001b[0;34m=\u001b[0m\u001b[0mdtype\u001b[0m\u001b[0;34m)\u001b[0m\u001b[0;34m\u001b[0m\u001b[0m\n\u001b[1;32m     87\u001b[0m \u001b[0;34m\u001b[0m\u001b[0m\n\u001b[0;32m---> 88\u001b[0;31m         \u001b[0mself\u001b[0m\u001b[0;34m.\u001b[0m\u001b[0mcheck_format\u001b[0m\u001b[0;34m(\u001b[0m\u001b[0mfull_check\u001b[0m\u001b[0;34m=\u001b[0m\u001b[0;32mFalse\u001b[0m\u001b[0;34m)\u001b[0m\u001b[0;34m\u001b[0m\u001b[0m\n\u001b[0m\u001b[1;32m     89\u001b[0m \u001b[0;34m\u001b[0m\u001b[0m\n\u001b[1;32m     90\u001b[0m     \u001b[0;32mdef\u001b[0m \u001b[0mgetnnz\u001b[0m\u001b[0;34m(\u001b[0m\u001b[0mself\u001b[0m\u001b[0;34m,\u001b[0m \u001b[0maxis\u001b[0m\u001b[0;34m=\u001b[0m\u001b[0;32mNone\u001b[0m\u001b[0;34m)\u001b[0m\u001b[0;34m:\u001b[0m\u001b[0;34m\u001b[0m\u001b[0m\n",
      "\u001b[0;31mKeyboardInterrupt\u001b[0m: "
     ]
    }
   ],
   "source": [
    "%%time\n",
    "result = mesolve(H, basis(20,0), times, [], [fock_dm(20,i) for i in range(levels.N)],progress_bar=True)"
   ]
  },
  {
   "cell_type": "code",
   "execution_count": null,
   "metadata": {
    "collapsed": true
   },
   "outputs": [],
   "source": []
  }
 ],
 "metadata": {
  "hide_input": false,
  "kernelspec": {
   "display_name": "Python 3",
   "language": "python",
   "name": "python3"
  },
  "language_info": {
   "codemirror_mode": {
    "name": "ipython",
    "version": 3
   },
   "file_extension": ".py",
   "mimetype": "text/x-python",
   "name": "python",
   "nbconvert_exporter": "python",
   "pygments_lexer": "ipython3",
   "version": "3.5.2"
  },
  "latex_envs": {
   "bibliofile": "biblio.bib",
   "cite_by": "apalike",
   "current_citInitial": 1,
   "eqLabelWithNumbers": true,
   "eqNumInitial": 0
  }
 },
 "nbformat": 4,
 "nbformat_minor": 0
}
