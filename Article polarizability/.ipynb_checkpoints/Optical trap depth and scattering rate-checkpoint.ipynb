{
 "cells": [
  {
   "cell_type": "code",
   "execution_count": 1,
   "metadata": {
    "collapsed": false
   },
   "outputs": [
    {
     "name": "stdout",
     "output_type": "stream",
     "text": [
      "Populating the interactive namespace from numpy and matplotlib\n"
     ]
    }
   ],
   "source": [
    "%pylab inline"
   ]
  },
  {
   "cell_type": "code",
   "execution_count": 3,
   "metadata": {
    "collapsed": true
   },
   "outputs": [],
   "source": [
    "import scipy.constants as ct\n",
    "import sympy as sp\n",
    "from scipy.optimize import root"
   ]
  },
  {
   "cell_type": "code",
   "execution_count": 37,
   "metadata": {
    "collapsed": true
   },
   "outputs": [],
   "source": [
    "def trap_depth_in_uK(α, I):\n",
    "    return 2*pi*α* a0**3/ (ct.c * ct.k) * I *1e6"
   ]
  },
  {
   "cell_type": "code",
   "execution_count": 24,
   "metadata": {
    "collapsed": false
   },
   "outputs": [],
   "source": [
    "a0 = ct.value('Bohr radius')\n",
    "λ0 = 1.14e-6\n",
    "m_at = ct.value('atomic mass constant')\n",
    "w0 = 100e-6 # beam waist by 1/e**2 in Intensity\n",
    "Tr = ct.hbar**2 * (2*pi/λ0)**2 / (2 * 169 * m_at * ct.k) * 1e6 # recoil energy for clock laser"
   ]
  },
  {
   "cell_type": "markdown",
   "metadata": {},
   "source": [
    "List of magic vavelength and polarizabilitites"
   ]
  },
  {
   "cell_type": "code",
   "execution_count": 62,
   "metadata": {
    "collapsed": true
   },
   "outputs": [],
   "source": [
    "λ1 = 425 #nm\n",
    "λ2 = 447 #nm\n",
    "λ3 = 806 #nm\n",
    "α1 = 1300 # a.u.\n",
    "α2 = 700 # a.u.\n",
    "α3 = 195 # a.u."
   ]
  },
  {
   "cell_type": "markdown",
   "metadata": {},
   "source": [
    "Calculation of optical power needed for 20 uK 2D lattice depth"
   ]
  },
  {
   "cell_type": "code",
   "execution_count": 98,
   "metadata": {
    "collapsed": false
   },
   "outputs": [
    {
     "name": "stdout",
     "output_type": "stream",
     "text": [
      "For trap depth of 20 uK in 2D optical lattice one need\n",
      "0.134288 W at $\\lambda$=425 nm\n",
      "0.249392 W at $\\lambda$=447 nm\n",
      "0.895253 W at $\\lambda$=806 nm\n"
     ]
    }
   ],
   "source": [
    "depth = 20  #  uK\n",
    "print('For trap depth of 20 uK in 2D optical lattice one need')\n",
    "for α,λ in ((α1,λ1),(α2,λ2),(α3,λ3)):\n",
    "    sol = root(lambda x: trap_depth_in_uK(α,8*x/(pi/2*w0**2))-depth,1)\n",
    "    print(\"%2f W at $\\lambda$=%i nm\"%(sol.x[0],λ))"
   ]
  },
  {
   "cell_type": "markdown",
   "metadata": {
    "collapsed": true
   },
   "source": [
    "Scattering rate in 0.2 nm away from 806 nm transition"
   ]
  },
  {
   "cell_type": "code",
   "execution_count": 102,
   "metadata": {
    "collapsed": false
   },
   "outputs": [
    {
     "data": {
      "text/plain": [
       "2337036684006021.0"
      ]
     },
     "execution_count": 102,
     "metadata": {},
     "output_type": "execute_result"
    }
   ],
   "source": [
    "\n",
    "ωtr = 2 * pi *ct.c / (λ3 * 1e-9)\n",
    "ωlas = 2 * pi *ct.c / ((λ3-0.2) * 1e-9)\n",
    "coeff = abs(ωtr / (ωtr**2 - ωlas**2))"
   ]
  },
  {
   "cell_type": "code",
   "execution_count": 105,
   "metadata": {
    "collapsed": false
   },
   "outputs": [],
   "source": []
  },
  {
   "cell_type": "code",
   "execution_count": 109,
   "metadata": {
    "collapsed": false
   },
   "outputs": [
    {
     "data": {
      "text/plain": [
       "0.045135154931047534"
      ]
     },
     "execution_count": 109,
     "metadata": {},
     "output_type": "execute_result"
    }
   ],
   "source": [
    "abs(2 * ct.k * depth * 1e-6 * coeff /ct.hbar *1e4)"
   ]
  },
  {
   "cell_type": "code",
   "execution_count": null,
   "metadata": {
    "collapsed": true
   },
   "outputs": [],
   "source": []
  }
 ],
 "metadata": {
  "hide_input": false,
  "kernelspec": {
   "display_name": "Python 3",
   "language": "python",
   "name": "python3"
  },
  "language_info": {
   "codemirror_mode": {
    "name": "ipython",
    "version": 3
   },
   "file_extension": ".py",
   "mimetype": "text/x-python",
   "name": "python",
   "nbconvert_exporter": "python",
   "pygments_lexer": "ipython3",
   "version": "3.5.0"
  },
  "latex_envs": {
   "bibliofile": "biblio.bib",
   "cite_by": "apalike",
   "current_citInitial": 1,
   "eqLabelWithNumbers": true,
   "eqNumInitial": 0
  }
 },
 "nbformat": 4,
 "nbformat_minor": 0
}
