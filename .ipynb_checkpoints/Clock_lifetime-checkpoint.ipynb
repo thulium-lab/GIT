{
 "cells": [
  {
   "cell_type": "markdown",
   "metadata": {},
   "source": [
    "## Execute cell below and go to \"You can run from here\""
   ]
  },
  {
   "cell_type": "code",
   "execution_count": 1,
   "metadata": {
    "collapsed": false
   },
   "outputs": [
    {
     "name": "stdout",
     "output_type": "stream",
     "text": [
      "Populating the interactive namespace from numpy and matplotlib\n"
     ]
    }
   ],
   "source": [
    "%pylab inline\n",
    "import pickle\n",
    "import sys\n",
    "import os\n",
    "par_dir = os.path.split(os.getcwd())[0]\n",
    "if par_dir not in sys.path:\n",
    "    sys.path.append(par_dir)\n",
    "import inspect\n",
    "import pickle\n",
    "import imp\n",
    "import re\n",
    "import json\n",
    "from scipy.optimize import curve_fit"
   ]
  },
  {
   "cell_type": "code",
   "execution_count": 7,
   "metadata": {
    "collapsed": true
   },
   "outputs": [],
   "source": [
    "os.chdir(r'/Users/artemgolovizin/Downloads/2015_01_30/JSONS')"
   ]
  },
  {
   "cell_type": "code",
   "execution_count": 4,
   "metadata": {
    "collapsed": true
   },
   "outputs": [],
   "source": [
    "dr = working_directory = os.path.join(os.getcwd(),'JSONS')"
   ]
  },
  {
   "cell_type": "code",
   "execution_count": 39,
   "metadata": {
    "collapsed": true
   },
   "outputs": [],
   "source": [
    "data = dict()\n",
    "for fil in os.listdir():\n",
    "    with open(fil, 'r') as infile:\n",
    "           data[fil] = array(json.load(infile))"
   ]
  },
  {
   "cell_type": "code",
   "execution_count": 46,
   "metadata": {
    "collapsed": false
   },
   "outputs": [],
   "source": [
    "for key,vval in data.items():\n",
    "    data[key] = delete(vval,-1,0)\n",
    "    data[key][:,1] /= max(data[key][:,1])"
   ]
  },
  {
   "cell_type": "code",
   "execution_count": 48,
   "metadata": {
    "collapsed": false
   },
   "outputs": [
    {
     "data": {
      "image/png": "[encoded data removed]",
      "text/plain": [
       "<matplotlib.figure.Figure at 0x106d2aa90>"
      ]
     },
     "metadata": {},
     "output_type": "display_data"
    }
   ],
   "source": [
    "for key, val in data.items():\n",
    "    plot(val[:,0], val[:,1],'*')"
   ]
  },
  {
   "cell_type": "code",
   "execution_count": 139,
   "metadata": {
    "collapsed": false
   },
   "outputs": [],
   "source": [
    "tot_data = dict()\n",
    "for key, value in data.items():\n",
    "    for elem in value:\n",
    "        if elem[0] in tot_data:\n",
    "            tot_data[elem[0]] = append(tot_data[elem[0]],[elem[1]])\n",
    "        else:\n",
    "            tot_data[elem[0]] = array([elem[1]])"
   ]
  },
  {
   "cell_type": "code",
   "execution_count": 140,
   "metadata": {
    "collapsed": false
   },
   "outputs": [],
   "source": [
    "m_s = dict()\n",
    "# for key in tot_data():\n",
    "m_s['x'] = abs(array(list(tot_data.keys())))\n",
    "m_s['y'] = array([mean(x) for x in tot_data.values()])\n",
    "m_s['yerr'] = array([std(x) for x in tot_data.values()])"
   ]
  },
  {
   "cell_type": "markdown",
   "metadata": {},
   "source": [
    "### You can run from here"
   ]
  },
  {
   "cell_type": "code",
   "execution_count": 2,
   "metadata": {
    "collapsed": true
   },
   "outputs": [],
   "source": [
    "# to simply load data for modifying plot run this\n",
    "m_s = {'x': array([  80.,  350.,  300.,   90.,  250.,  200.,  390.,  100.,  150.,   70.]),\n",
    " 'y': array([ 0.29783573,  0.94337558,  0.92780992,  0.36109954,  0.85704147,\n",
    "         0.76971866,  0.97863665,  0.40214764,  0.63503326,  0.22274841]),\n",
    " 'yerr': array([ 0.05314282,  0.08065586,  0.04035642,  0.06536226,  0.05461055,\n",
    "         0.06724513,  0.0249964 ,  0.06623517,  0.06555113,  0.03975013])}"
   ]
  },
  {
   "cell_type": "code",
   "execution_count": 3,
   "metadata": {
    "collapsed": false
   },
   "outputs": [],
   "source": [
    "def fit_func(t,N,t0,tau,background):\n",
    "    return N*(1-exp(-(t-t0)/tau)) + background\n",
    "popt, pcov = curve_fit(fit_func, m_s['x'], m_s['y'], p0=(1,0, 100,0))"
   ]
  },
  {
   "cell_type": "code",
   "execution_count": 4,
   "metadata": {
    "collapsed": false
   },
   "outputs": [
    {
     "data": {
      "text/plain": [
       "<matplotlib.text.Text at 0x101b26a58>"
      ]
     },
     "execution_count": 4,
     "metadata": {},
     "output_type": "execute_result"
    },
    {
     "name": "stderr",
     "output_type": "stream",
     "text": [
      "/Users/artemgolovizin/anaconda/lib/python3.5/site-packages/matplotlib/collections.py:590: FutureWarning: elementwise comparison failed; returning scalar instead, but in the future will perform elementwise comparison\n",
      "  if self._edgecolors == str('face'):\n"
     ]
    },
    {
     "data": {
      "image/png": "[encoded data removed]",
      "text/plain": [
       "<matplotlib.figure.Figure at 0x1069d7668>"
      ]
     },
     "metadata": {},
     "output_type": "display_data"
    }
   ],
   "source": [
    "m_s['x'] += popt[1]\n",
    "errorbar(fmt='ro',**m_s)\n",
    "xx = linspace(60,400,100)\n",
    "plot(xx+popt[1],fit_func(xx,*popt))\n",
    "ylabel('Decayed atoms',fontsize=16)\n",
    "xlabel('time after exitation, ms',fontsize=16)\n",
    "#savefig('clock_lifetime.pdf')"
   ]
  },
  {
   "cell_type": "markdown",
   "metadata": {},
   "source": [
    "## Clock level lifetime equals to 112 ms"
   ]
  },
  {
   "cell_type": "code",
   "execution_count": null,
   "metadata": {
    "collapsed": true
   },
   "outputs": [],
   "source": []
  }
 ],
 "metadata": {
  "hide_input": false,
  "kernelspec": {
   "display_name": "Python 3",
   "language": "python",
   "name": "python3"
  },
  "language_info": {
   "codemirror_mode": {
    "name": "ipython",
    "version": 3
   },
   "file_extension": ".py",
   "mimetype": "text/x-python",
   "name": "python",
   "nbconvert_exporter": "python",
   "pygments_lexer": "ipython3",
   "version": "3.5.0"
  }
 },
 "nbformat": 4,
 "nbformat_minor": 0
}
