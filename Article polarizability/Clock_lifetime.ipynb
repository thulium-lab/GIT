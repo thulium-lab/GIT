{
 "cells": [
  {
   "cell_type": "markdown",
   "metadata": {},
   "source": [
    "В данном файле собраны данные по измерению времени жизни. Папка с данными '/Users/artemgolovizin/Downloads/2015_01_30/JSONS'.\n",
    "Использовались только данные измерения при разных мощностях и усреднялось значение для каждой точки.\n",
    "\n",
    "В конце добавлена часть с прорисовкой импульной схемы (красиво для статьи)"
   ]
  },
  {
   "cell_type": "markdown",
   "metadata": {},
   "source": [
    "## Execute cell below and go to \"You can run from here\""
   ]
  },
  {
   "cell_type": "code",
   "execution_count": 1,
   "metadata": {
    "collapsed": false
   },
   "outputs": [
    {
     "name": "stdout",
     "output_type": "stream",
     "text": [
      "Populating the interactive namespace from numpy and matplotlib\n"
     ]
    }
   ],
   "source": [
    "%pylab inline\n",
    "import pickle\n",
    "import sys\n",
    "import os\n",
    "par_dir = os.path.split(os.getcwd())[0]\n",
    "if par_dir not in sys.path:\n",
    "    sys.path.append(par_dir)\n",
    "import inspect\n",
    "import pickle\n",
    "import imp\n",
    "import re\n",
    "import json\n",
    "from scipy.optimize import curve_fit"
   ]
  },
  {
   "cell_type": "code",
   "execution_count": 2,
   "metadata": {
    "collapsed": true
   },
   "outputs": [],
   "source": [
    "os.chdir(r'/Users/artemgolovizin/Downloads/2015_01_30/JSONS')"
   ]
  },
  {
   "cell_type": "code",
   "execution_count": 3,
   "metadata": {
    "collapsed": true
   },
   "outputs": [],
   "source": [
    "dr = working_directory = os.path.join(os.getcwd(),'JSONS')"
   ]
  },
  {
   "cell_type": "code",
   "execution_count": null,
   "metadata": {
    "collapsed": false
   },
   "outputs": [],
   "source": [
    "data = dict()\n",
    "for fil in os.listdir():\n",
    "    with open(fil, 'r') as infile:\n",
    "           data[fil] = array(json.load(infile))"
   ]
  },
  {
   "cell_type": "code",
   "execution_count": null,
   "metadata": {
    "collapsed": false
   },
   "outputs": [],
   "source": [
    "for key,vval in data.items():\n",
    "    data[key] = delete(vval,-1,0)\n",
    "    data[key][:,1] /= max(data[key][:,1])"
   ]
  },
  {
   "cell_type": "code",
   "execution_count": null,
   "metadata": {
    "collapsed": false
   },
   "outputs": [],
   "source": [
    "for key, val in data.items():\n",
    "    plot(val[:,0], val[:,1],'*')"
   ]
  },
  {
   "cell_type": "code",
   "execution_count": null,
   "metadata": {
    "collapsed": false
   },
   "outputs": [],
   "source": [
    "tot_data = dict()\n",
    "for key, value in data.items():\n",
    "    for elem in value:\n",
    "        if elem[0] in tot_data:\n",
    "            tot_data[elem[0]] = append(tot_data[elem[0]],[elem[1]])\n",
    "        else:\n",
    "            tot_data[elem[0]] = array([elem[1]])"
   ]
  },
  {
   "cell_type": "code",
   "execution_count": null,
   "metadata": {
    "collapsed": false
   },
   "outputs": [],
   "source": [
    "m_s = dict()\n",
    "# for key in tot_data():\n",
    "m_s['x'] = abs(array(list(tot_data.keys())))\n",
    "m_s['y'] = array([mean(x) for x in tot_data.values()])\n",
    "m_s['yerr'] = array([std(x) for x in tot_data.values()])"
   ]
  },
  {
   "cell_type": "markdown",
   "metadata": {},
   "source": [
    "### You can run from here"
   ]
  },
  {
   "cell_type": "code",
   "execution_count": 2,
   "metadata": {
    "collapsed": true
   },
   "outputs": [],
   "source": [
    "# to simply load data for modifying plot run this\n",
    "m_s = {'x': array([  80.,  350.,  300.,   90.,  250.,  200.,  390.,  100.,  150.,   70.]),\n",
    " 'y': array([ 0.29783573,  0.94337558,  0.92780992,  0.36109954,  0.85704147,\n",
    "         0.76971866,  0.97863665,  0.40214764,  0.63503326,  0.22274841]),\n",
    " 'yerr': array([ 0.05314282,  0.08065586,  0.04035642,  0.06536226,  0.05461055,\n",
    "         0.06724513,  0.0249964 ,  0.06623517,  0.06555113,  0.03975013])}"
   ]
  },
  {
   "cell_type": "code",
   "execution_count": 3,
   "metadata": {
    "collapsed": true
   },
   "outputs": [],
   "source": [
    "m_s['x'] -= 40"
   ]
  },
  {
   "cell_type": "code",
   "execution_count": 4,
   "metadata": {
    "collapsed": false
   },
   "outputs": [],
   "source": [
    "def fit_func(t,N,t0,tau,background):\n",
    "    return N*(1-exp(-(t-t0)/tau)) + background \n",
    "popt, pcov = curve_fit(fit_func, m_s['x'], m_s['y'], p0=(1,0, 100,0))\n",
    "# popt, pcov = curve_fit(fit_func, m_s['x'], m_s['y'],sigma=m_s['yerr'], p0=(1,0, 100,0))"
   ]
  },
  {
   "cell_type": "code",
   "execution_count": 5,
   "metadata": {
    "collapsed": false
   },
   "outputs": [
    {
     "data": {
      "text/plain": [
       "(0, 1.2000000000000002)"
      ]
     },
     "execution_count": 5,
     "metadata": {},
     "output_type": "execute_result"
    },
    {
     "name": "stderr",
     "output_type": "stream",
     "text": [
      "/Users/artemgolovizin/anaconda/lib/python3.5/site-packages/matplotlib/collections.py:590: FutureWarning: elementwise comparison failed; returning scalar instead, but in the future will perform elementwise comparison\n",
      "  if self._edgecolors == str('face'):\n"
     ]
    },
    {
     "data": {
      "image/png": "[encoded data removed]",
      "text/plain": [
       "<matplotlib.figure.Figure at 0x106af3320>"
      ]
     },
     "metadata": {},
     "output_type": "display_data"
    }
   ],
   "source": [
    "errorbar(fmt='ro',**m_s)\n",
    "xx = linspace(0,400,100)\n",
    "plot(xx,fit_func(xx,*popt))\n",
    "ylabel('Decayed atoms',fontsize=16)\n",
    "xlabel('time after exitation, ms',fontsize=16)\n",
    "ylim(bottom=0)\n",
    "#savefig('clock_lifetime.png')"
   ]
  },
  {
   "cell_type": "markdown",
   "metadata": {},
   "source": [
    "## Clock level lifetime equals to 112 ms"
   ]
  },
  {
   "cell_type": "code",
   "execution_count": 6,
   "metadata": {
    "collapsed": false
   },
   "outputs": [
    {
     "name": "stdout",
     "output_type": "stream",
     "text": [
      "[   0.88243382   18.19853682  111.86842225    0.13705246]\n",
      "[  1.19828989e+05   1.51910317e+07   4.34914152e+00   1.19828993e+05]\n"
     ]
    }
   ],
   "source": [
    "perr = np.sqrt(np.diag(pcov))\n",
    "print(popt)\n",
    "print(perr)"
   ]
  },
  {
   "cell_type": "code",
   "execution_count": 8,
   "metadata": {
    "collapsed": false
   },
   "outputs": [
    {
     "name": "stderr",
     "output_type": "stream",
     "text": [
      "/Users/artemgolovizin/anaconda/lib/python3.5/site-packages/matplotlib/collections.py:590: FutureWarning: elementwise comparison failed; returning scalar instead, but in the future will perform elementwise comparison\n",
      "  if self._edgecolors == str('face'):\n"
     ]
    },
    {
     "data": {
      "image/png": "[encoded data removed]",
      "text/plain": [
       "<matplotlib.figure.Figure at 0x107138cf8>"
      ]
     },
     "metadata": {},
     "output_type": "display_data"
    }
   ],
   "source": [
    "fig, ax = subplots(figsize=(10,5))\n",
    "y_val = 0.15\n",
    "t_mot1 = (-200,-100)\n",
    "t_clock = (-50,-5)\n",
    "t_remove = (0,5)\n",
    "t_probe = (110,115)\n",
    "t_mot2 = (400,410)\n",
    "ax.plot(t_mot1,(y_val,y_val),'b',lw=2)\n",
    "ax.plot([t_mot1[1]]*2,(y_val,0),'b',lw=2)\n",
    "ax.plot(t_clock,(y_val,y_val),'r',lw=2)\n",
    "ax.plot([t_clock[0]]*2,(y_val,0),'r',lw=2)\n",
    "ax.plot([t_clock[1]]*2,(y_val,0),'r',lw=2)\n",
    "ax.plot(t_remove,(y_val,y_val),'b',lw=2)\n",
    "ax.plot([t_remove[0]]*2,(y_val,0),'b',lw=2)\n",
    "ax.plot([t_remove[1]]*2,(y_val,0),'b',lw=2)\n",
    "ax.plot(t_probe,(y_val,y_val),'b',lw=2)\n",
    "ax.plot([t_probe[0]]*2,(y_val,0),'b',lw=2)\n",
    "ax.plot([t_probe[1]]*2,(y_val,0),'b',lw=2)\n",
    "ax.plot(t_mot2,(y_val,y_val),'b',lw=2)\n",
    "ax.plot([t_mot2[0]]*2,(y_val,0),'b',lw=2)\n",
    "\n",
    "ax.set_xticks([t_mot1[1], t_clock[0],t_clock[1],t_probe[0], t_mot2[0]])\n",
    "ax.set_xticklabels([-50, -30, 0, 'time, ms', 400], fontsize=16)\n",
    "font_size = 14\n",
    "ax.annotate('  MOT\\nloading\\n   1s', xy=(sum(t_mot1)/2, y_val), xycoords='data',\n",
    "                xytext=(-190, 0.6), size=font_size, textcoords='data',\n",
    "                arrowprops=dict(arrowstyle=\"->\",\n",
    "                                connectionstyle=\"arc3,rad=0.1\"),\n",
    "                )\n",
    "ax.annotate('clock level\\nexitation', xy=(sum(t_clock)/2, y_val), xycoords='data',\n",
    "                xytext=(-150, 0.3), size=font_size, textcoords='data',\n",
    "                arrowprops=dict(arrowstyle=\"->\",\n",
    "                                connectionstyle=\"arc3,rad=0.1\"),\n",
    "                )\n",
    "ax.annotate('removal', xy=(sum(t_remove)/2, y_val), xycoords='data',\n",
    "                xytext=(-90, 0.6), size=font_size, textcoords='data',\n",
    "                arrowprops=dict(arrowstyle=\"->\",\n",
    "                                connectionstyle=\"arc3,rad=-0.1\"),\n",
    "                )\n",
    "ax.annotate('probe', xy=(sum(t_probe)/2, y_val), xycoords='data',\n",
    "                xytext=(180, 0.3), size=font_size, textcoords='data',\n",
    "                arrowprops=dict(arrowstyle=\"->\",\n",
    "                                connectionstyle=\"arc3,rad=0.1\"),\n",
    "                )\n",
    "ax.annotate('   MOT\\n loading\\nnew cicle', xy=(sum(t_mot2)/2, y_val), xycoords='data',\n",
    "                xytext=(300, 0.3), size=font_size, textcoords='data',\n",
    "                arrowprops=dict(arrowstyle=\"->\",\n",
    "                                connectionstyle=\"arc3,rad=-0.1\"),\n",
    "                )\n",
    "\n",
    "inset_ax = fig.add_axes([0.40, 0.25, 0.48, 0.53],) \n",
    "inset_ax.errorbar(fmt='ro',**m_s)\n",
    "xx = linspace(0,400,100)\n",
    "inset_ax.plot(xx,fit_func(xx,*popt))\n",
    "inset_ax.set_ylim(0,1.1)\n",
    "inset_ax.yaxis.tick_left()\n",
    "inset_ax.xaxis.tick_top()\n",
    "inset_ax.grid(color='b', alpha=0.5, linestyle='dashed', linewidth=0.5)\n",
    "inset_ax.patch.set_visible(False)\n",
    "inset_ax.set_title('Fraction of returned atoms',y=1.1,size=14)\n",
    "\n",
    "inset_ax.text(30,0.8,r'$\\tau=112ms$',size=16)\n",
    "\n",
    "ax.set_ylim(0,1.1)\n",
    "ax.set_xlim(right=410)\n",
    "ax.set_ylabel('Atoms returned')\n",
    "#ax.set_xlabel('time')\n",
    "ax.yaxis.set_label_position(\"right\")\n",
    "#ax.xaxis.set_major_formatter(plt.NullFormatter())\n",
    "#ax.get_xaxis().set_visible(False)\n",
    "ax.get_yaxis().set_visible(False)\n",
    "\n",
    "#fig.savefig('clock_lifetime.eps')"
   ]
  },
  {
   "cell_type": "code",
   "execution_count": null,
   "metadata": {
    "collapsed": true
   },
   "outputs": [],
   "source": []
  }
 ],
 "metadata": {
  "hide_input": false,
  "kernelspec": {
   "display_name": "Python 3",
   "language": "python",
   "name": "python3"
  },
  "language_info": {
   "codemirror_mode": {
    "name": "ipython",
    "version": 3
   },
   "file_extension": ".py",
   "mimetype": "text/x-python",
   "name": "python",
   "nbconvert_exporter": "python",
   "pygments_lexer": "ipython3",
   "version": "3.5.0"
  },
  "latex_envs": {
   "bibliofile": "biblio.bib",
   "cite_by": "apalike",
   "current_citInitial": 1,
   "eqLabelWithNumbers": true,
   "eqNumInitial": 0
  }
 },
 "nbformat": 4,
 "nbformat_minor": 0
}
